{
 "cells": [
  {
   "cell_type": "markdown",
   "id": "c0c3ef97",
   "metadata": {
    "_cell_guid": "b1076dfc-b9ad-4769-8c92-a6c4dae69d19",
    "_uuid": "8f2839f25d086af736a60e9eeb907d3b93b6e0e5",
    "papermill": {
     "duration": 0.024059,
     "end_time": "2023-08-20T08:18:13.580506",
     "exception": false,
     "start_time": "2023-08-20T08:18:13.556447",
     "status": "completed"
    },
    "tags": []
   },
   "source": [
    "# 1.0 About Author\n",
    "\n",
    "Author: Haroon Sajid\n",
    "<br>Project: Titanic DataSet\n",
    "<br>Author's Contact Info:\n",
    "\n",
    "[Email](harooni0016@gmail.com)\n",
    "<br>[Github](https://github.com/harooni016)\n",
    "<br>[Linkden](https://www.linkedin.com/in/haroon-sajid)\n",
    "<br>[X_Twitter](https://twitter.com/harooni016)"
   ]
  },
  {
   "cell_type": "markdown",
   "id": "99a5d2ef",
   "metadata": {
    "papermill": {
     "duration": 0.024839,
     "end_time": "2023-08-20T08:18:13.630437",
     "exception": false,
     "start_time": "2023-08-20T08:18:13.605598",
     "status": "completed"
    },
    "tags": []
   },
   "source": [
    "# 2.0 About DataSet\n",
    "\n",
    "The Titanic dataset provides information about the passengers aboard the RMS Titanic, which sank after colliding with an iceberg on April 15, 1912. Here are three key details about the dataset:\n",
    "\n",
    "1. Dataset Size: The Titanic dataset consists of 891 rows and 12 columns. Each row represents a passenger, and each column represents a specific attribute or characteristic of the passengers.\n",
    "\n",
    "2. Important Columns: The dataset includes various columns that provide valuable information about the passengers. Some of the important columns include:\n",
    "   - Survived: Indicates whether a passenger survived the shipwreck (1) or not (0).\n",
    "   - Pclass: Represents the socio-economic class of the passenger (1st, 2nd, or 3rd).\n",
    "   - Sex: Indicates the gender of the passenger.\n",
    "   - Age: Represents the age of the passenger.\n",
    "   - SibSp: Indicates the number of siblings/spouses aboard the Titanic.\n",
    "   - Parch: Represents the number of parents/children aboard the Titanic.\n",
    "   - Fare: Represents the fare paid by the passenger.\n",
    "\n",
    "3. Missing Data: The dataset may contain missing values in certain columns, such as Age, Cabin, and Embarked[3]. These missing values need to be handled appropriately during data analysis and modeling.\n",
    "\n",
    "By analyzing the Titanic dataset, researchers and data scientists can gain insights into various factors that may have influenced the survival of passengers, such as socio-economic status, age, gender, and family relationships."
   ]
  },
  {
   "cell_type": "markdown",
   "id": "5c88ed47",
   "metadata": {
    "papermill": {
     "duration": 0.024317,
     "end_time": "2023-08-20T08:18:13.678950",
     "exception": false,
     "start_time": "2023-08-20T08:18:13.654633",
     "status": "completed"
    },
    "tags": []
   },
   "source": [
    "### 2.1 Task Context :\n",
    "\n",
    "To conduct an Exploratory Data Analysis (EDA) on the Titanic dataset, you can follow these steps:\n",
    "\n",
    "1. Importing and Cleaning the Data:\n",
    "   - Import the Titanic dataset into your programming environment, such as Python.\n",
    "   - Check for any errors, outliers, or missing values in the data.\n",
    "   - Handle missing values appropriately, such as filling them with suitable values or removing rows with missing data.\n",
    "\n",
    "2. Data Wrangling and Manipulation:\n",
    "   - Perform data wrangling activities to clean and preprocess the dataset.\n",
    "   - Manipulate the data sources to ensure they are in the desired format for analysis.\n",
    "   - Normalize the data if necessary to bring it to a common scale or range.\n",
    "\n",
    "3. Statistical Methods and Visualizations:\n",
    "   - Utilize statistical methods to analyze the dataset and extract meaningful insights.\n",
    "   - Apply visualization techniques, such as box plots, scatter plots, histograms, correlation matrices, and pair plots, to identify patterns and relationships within the data.\n",
    "   - Use graphs and visualizations to explore the data and gain a better understanding of variables and their distributions.\n",
    "\n",
    "By performing these steps, you will be able to identify any problems with the data, clean and preprocess it as needed, detect outliers, and normalize the data. Through statistical methods and visualizations, you can explore the dataset, summarize its main characteristics, and draw conclusions from your findings.\n"
   ]
  },
  {
   "cell_type": "markdown",
   "id": "97a98cc5",
   "metadata": {
    "papermill": {
     "duration": 0.023714,
     "end_time": "2023-08-20T08:18:13.726542",
     "exception": false,
     "start_time": "2023-08-20T08:18:13.702828",
     "status": "completed"
    },
    "tags": []
   },
   "source": [
    "### 2.2 Data Dictionary\n",
    "\n",
    "<center>\n",
    "<table class=\"table table-bordered\">\n",
    "<tr>\n",
    "<th style=\"width:5%\">Variable</th><th style=\"width:5%\">Definition</th><th style=\"width:5%\">Key</th>\n",
    "</tr>\n",
    "<tr>\n",
    "<td>survival</td>\n",
    "<td>Survival</td>\n",
    "<td>0 = No, 1 = Yes</td>\n",
    "</tr>\n",
    "<tr>\n",
    "<td>pclass</td>\n",
    "<td>Ticket class</td>\n",
    "<td>1 = 1st, 2 = 2nd, 3 = 3rd</td>\n",
    "</tr>\n",
    "<tr>\n",
    "<td>sex</td>\n",
    "<td>sex</td>\n",
    "<td></td>\n",
    "</tr>\n",
    "<tr>\n",
    "<td>Age</td>\n",
    "<td>Age in years</td>\n",
    "<td></td>\n",
    "</tr>\n",
    "<tr>\n",
    "<td>sibsp</td>\n",
    "<td># of siblings / spouses aboard the Titanic</td>\n",
    "<td></td>\n",
    "</tr>\n",
    "<tr>\n",
    "<td>parch</td>\n",
    "<td># of parents / children aboard the Titanic</td>\n",
    "<td></td>\n",
    "</tr>\n",
    "<tr>\n",
    "<td>ticket</td>\n",
    "<td>Ticket number</td>\n",
    "<td></td>\n",
    "</tr>\n",
    "<tr>\n",
    "<td>fare</td>\n",
    "<td>Passenger fare</td>\n",
    "<td></td>\n",
    "</tr>\n",
    "<tr>\n",
    "<td>cabin</td>\n",
    "<td>Cabin number</td>\n",
    "<td></td>\n",
    "</tr>\n",
    "<tr>\n",
    "<td>embarked</td>\n",
    "<td>Port of Embarkation</td>\n",
    "<td>C = Cherbourg, Q = Queenstown, S = Southampton</td>\n",
    "</tr>\n",
    "</table>\n",
    "</center>"
   ]
  },
  {
   "cell_type": "markdown",
   "id": "7e2915e9",
   "metadata": {
    "papermill": {
     "duration": 0.023951,
     "end_time": "2023-08-20T08:18:13.774484",
     "exception": false,
     "start_time": "2023-08-20T08:18:13.750533",
     "status": "completed"
    },
    "tags": []
   },
   "source": [
    "# 3.0 Importing Libraries\n",
    "In this section, We will be importing the necessary libraries and explaining their roles in this project.\n",
    "- Numpy: Numerical computing library.\n",
    "- Pandas: Data manipulation and analysis library.\n",
    "- Matplotlib: Data visualization library.\n",
    "- Seaborn: Statistical data visualization library."
   ]
  },
  {
   "cell_type": "code",
   "execution_count": 2,
   "id": "54e0bb7b",
   "metadata": {
    "execution": {
     "iopub.execute_input": "2023-08-20T08:18:13.824453Z",
     "iopub.status.busy": "2023-08-20T08:18:13.824083Z",
     "iopub.status.idle": "2023-08-20T08:18:15.116292Z",
     "shell.execute_reply": "2023-08-20T08:18:15.114868Z"
    },
    "papermill": {
     "duration": 1.320389,
     "end_time": "2023-08-20T08:18:15.118950",
     "exception": false,
     "start_time": "2023-08-20T08:18:13.798561",
     "status": "completed"
    },
    "tags": []
   },
   "outputs": [],
   "source": [
    "#Load libraries\n",
    "import pandas as pd\n",
    "import numpy as np\n",
    "\n",
    "#visualization libraris\n",
    "import matplotlib.pyplot as plt\n",
    "import seaborn as sns"
   ]
  },
  {
   "cell_type": "markdown",
   "id": "e06d70b5",
   "metadata": {
    "papermill": {
     "duration": 0.024341,
     "end_time": "2023-08-20T08:18:15.168822",
     "exception": false,
     "start_time": "2023-08-20T08:18:15.144481",
     "status": "completed"
    },
    "tags": []
   },
   "source": [
    "# 4.0 Loading Dataset\n",
    "In this section, We will import Titanic dataset "
   ]
  },
  {
   "cell_type": "code",
   "execution_count": 5,
   "id": "2e5d1442",
   "metadata": {
    "execution": {
     "iopub.execute_input": "2023-08-20T08:18:15.219852Z",
     "iopub.status.busy": "2023-08-20T08:18:15.219211Z",
     "iopub.status.idle": "2023-08-20T08:18:15.254973Z",
     "shell.execute_reply": "2023-08-20T08:18:15.253660Z"
    },
    "papermill": {
     "duration": 0.064329,
     "end_time": "2023-08-20T08:18:15.257555",
     "exception": false,
     "start_time": "2023-08-20T08:18:15.193226",
     "status": "completed"
    },
    "tags": []
   },
   "outputs": [],
   "source": [
    "train = pd.read_csv('train.csv')"
   ]
  },
  {
   "cell_type": "markdown",
   "id": "a717b674",
   "metadata": {
    "papermill": {
     "duration": 0.025904,
     "end_time": "2023-08-20T08:18:15.308069",
     "exception": false,
     "start_time": "2023-08-20T08:18:15.282165",
     "status": "completed"
    },
    "tags": []
   },
   "source": [
    "### 4.1 Copy train dataset into df"
   ]
  },
  {
   "cell_type": "code",
   "execution_count": 6,
   "id": "77c5b932",
   "metadata": {
    "execution": {
     "iopub.execute_input": "2023-08-20T08:18:15.358689Z",
     "iopub.status.busy": "2023-08-20T08:18:15.358341Z",
     "iopub.status.idle": "2023-08-20T08:18:15.363675Z",
     "shell.execute_reply": "2023-08-20T08:18:15.362655Z"
    },
    "papermill": {
     "duration": 0.032865,
     "end_time": "2023-08-20T08:18:15.365426",
     "exception": false,
     "start_time": "2023-08-20T08:18:15.332561",
     "status": "completed"
    },
    "tags": []
   },
   "outputs": [],
   "source": [
    "#Lets copy the Titanic train dataset into df;\n",
    "df = train.copy()"
   ]
  },
  {
   "cell_type": "markdown",
   "id": "f2a012d7",
   "metadata": {
    "papermill": {
     "duration": 0.023677,
     "end_time": "2023-08-20T08:18:15.414360",
     "exception": false,
     "start_time": "2023-08-20T08:18:15.390683",
     "status": "completed"
    },
    "tags": []
   },
   "source": [
    "### 4.2 Get a sneak peek of your data\n",
    "- Get a quick overview of your dataset with a single line of code.\n",
    "- Preview the first few rows of your data to get started.\n",
    "- See what your data looks like without having to load the entire file.\n",
    "- Get a sense of the shape and structure of your data with a simple command."
   ]
  },
  {
   "cell_type": "code",
   "execution_count": 7,
   "id": "2a68e860",
   "metadata": {
    "execution": {
     "iopub.execute_input": "2023-08-20T08:18:15.469463Z",
     "iopub.status.busy": "2023-08-20T08:18:15.468432Z",
     "iopub.status.idle": "2023-08-20T08:18:15.493366Z",
     "shell.execute_reply": "2023-08-20T08:18:15.492504Z"
    },
    "papermill": {
     "duration": 0.054417,
     "end_time": "2023-08-20T08:18:15.495229",
     "exception": false,
     "start_time": "2023-08-20T08:18:15.440812",
     "status": "completed"
    },
    "tags": []
   },
   "outputs": [
    {
     "data": {
      "text/html": [
       "<div>\n",
       "<style scoped>\n",
       "    .dataframe tbody tr th:only-of-type {\n",
       "        vertical-align: middle;\n",
       "    }\n",
       "\n",
       "    .dataframe tbody tr th {\n",
       "        vertical-align: top;\n",
       "    }\n",
       "\n",
       "    .dataframe thead th {\n",
       "        text-align: right;\n",
       "    }\n",
       "</style>\n",
       "<table border=\"1\" class=\"dataframe\">\n",
       "  <thead>\n",
       "    <tr style=\"text-align: right;\">\n",
       "      <th></th>\n",
       "      <th>PassengerId</th>\n",
       "      <th>Survived</th>\n",
       "      <th>Pclass</th>\n",
       "      <th>Name</th>\n",
       "      <th>Sex</th>\n",
       "      <th>Age</th>\n",
       "      <th>SibSp</th>\n",
       "      <th>Parch</th>\n",
       "      <th>Ticket</th>\n",
       "      <th>Fare</th>\n",
       "      <th>Cabin</th>\n",
       "      <th>Embarked</th>\n",
       "    </tr>\n",
       "  </thead>\n",
       "  <tbody>\n",
       "    <tr>\n",
       "      <th>0</th>\n",
       "      <td>1</td>\n",
       "      <td>0</td>\n",
       "      <td>3</td>\n",
       "      <td>Braund, Mr. Owen Harris</td>\n",
       "      <td>male</td>\n",
       "      <td>22.0</td>\n",
       "      <td>1</td>\n",
       "      <td>0</td>\n",
       "      <td>A/5 21171</td>\n",
       "      <td>7.2500</td>\n",
       "      <td>NaN</td>\n",
       "      <td>S</td>\n",
       "    </tr>\n",
       "    <tr>\n",
       "      <th>1</th>\n",
       "      <td>2</td>\n",
       "      <td>1</td>\n",
       "      <td>1</td>\n",
       "      <td>Cumings, Mrs. John Bradley (Florence Briggs Th...</td>\n",
       "      <td>female</td>\n",
       "      <td>38.0</td>\n",
       "      <td>1</td>\n",
       "      <td>0</td>\n",
       "      <td>PC 17599</td>\n",
       "      <td>71.2833</td>\n",
       "      <td>C85</td>\n",
       "      <td>C</td>\n",
       "    </tr>\n",
       "    <tr>\n",
       "      <th>2</th>\n",
       "      <td>3</td>\n",
       "      <td>1</td>\n",
       "      <td>3</td>\n",
       "      <td>Heikkinen, Miss. Laina</td>\n",
       "      <td>female</td>\n",
       "      <td>26.0</td>\n",
       "      <td>0</td>\n",
       "      <td>0</td>\n",
       "      <td>STON/O2. 3101282</td>\n",
       "      <td>7.9250</td>\n",
       "      <td>NaN</td>\n",
       "      <td>S</td>\n",
       "    </tr>\n",
       "    <tr>\n",
       "      <th>3</th>\n",
       "      <td>4</td>\n",
       "      <td>1</td>\n",
       "      <td>1</td>\n",
       "      <td>Futrelle, Mrs. Jacques Heath (Lily May Peel)</td>\n",
       "      <td>female</td>\n",
       "      <td>35.0</td>\n",
       "      <td>1</td>\n",
       "      <td>0</td>\n",
       "      <td>113803</td>\n",
       "      <td>53.1000</td>\n",
       "      <td>C123</td>\n",
       "      <td>S</td>\n",
       "    </tr>\n",
       "    <tr>\n",
       "      <th>4</th>\n",
       "      <td>5</td>\n",
       "      <td>0</td>\n",
       "      <td>3</td>\n",
       "      <td>Allen, Mr. William Henry</td>\n",
       "      <td>male</td>\n",
       "      <td>35.0</td>\n",
       "      <td>0</td>\n",
       "      <td>0</td>\n",
       "      <td>373450</td>\n",
       "      <td>8.0500</td>\n",
       "      <td>NaN</td>\n",
       "      <td>S</td>\n",
       "    </tr>\n",
       "  </tbody>\n",
       "</table>\n",
       "</div>"
      ],
      "text/plain": [
       "   PassengerId  Survived  Pclass  \\\n",
       "0            1         0       3   \n",
       "1            2         1       1   \n",
       "2            3         1       3   \n",
       "3            4         1       1   \n",
       "4            5         0       3   \n",
       "\n",
       "                                                Name     Sex   Age  SibSp  \\\n",
       "0                            Braund, Mr. Owen Harris    male  22.0      1   \n",
       "1  Cumings, Mrs. John Bradley (Florence Briggs Th...  female  38.0      1   \n",
       "2                             Heikkinen, Miss. Laina  female  26.0      0   \n",
       "3       Futrelle, Mrs. Jacques Heath (Lily May Peel)  female  35.0      1   \n",
       "4                           Allen, Mr. William Henry    male  35.0      0   \n",
       "\n",
       "   Parch            Ticket     Fare Cabin Embarked  \n",
       "0      0         A/5 21171   7.2500   NaN        S  \n",
       "1      0          PC 17599  71.2833   C85        C  \n",
       "2      0  STON/O2. 3101282   7.9250   NaN        S  \n",
       "3      0            113803  53.1000  C123        S  \n",
       "4      0            373450   8.0500   NaN        S  "
      ]
     },
     "execution_count": 7,
     "metadata": {},
     "output_type": "execute_result"
    }
   ],
   "source": [
    "df.head()"
   ]
  },
  {
   "cell_type": "markdown",
   "id": "4eb95408",
   "metadata": {
    "papermill": {
     "duration": 0.023831,
     "end_time": "2023-08-20T08:18:15.543541",
     "exception": false,
     "start_time": "2023-08-20T08:18:15.519710",
     "status": "completed"
    },
    "tags": []
   },
   "source": [
    "# 5.0 Basic Structure"
   ]
  },
  {
   "cell_type": "code",
   "execution_count": 8,
   "id": "65835af0",
   "metadata": {
    "execution": {
     "iopub.execute_input": "2023-08-20T08:18:15.592688Z",
     "iopub.status.busy": "2023-08-20T08:18:15.591972Z",
     "iopub.status.idle": "2023-08-20T08:18:15.597734Z",
     "shell.execute_reply": "2023-08-20T08:18:15.596859Z"
    },
    "papermill": {
     "duration": 0.032493,
     "end_time": "2023-08-20T08:18:15.599603",
     "exception": false,
     "start_time": "2023-08-20T08:18:15.567110",
     "status": "completed"
    },
    "tags": []
   },
   "outputs": [
    {
     "data": {
      "text/plain": [
       "(891, 12)"
      ]
     },
     "execution_count": 8,
     "metadata": {},
     "output_type": "execute_result"
    }
   ],
   "source": [
    "#Lets See the shape of dataset\n",
    "df.shape"
   ]
  },
  {
   "cell_type": "code",
   "execution_count": 9,
   "id": "3e87008e",
   "metadata": {
    "execution": {
     "iopub.execute_input": "2023-08-20T08:18:15.650034Z",
     "iopub.status.busy": "2023-08-20T08:18:15.649452Z",
     "iopub.status.idle": "2023-08-20T08:18:15.655052Z",
     "shell.execute_reply": "2023-08-20T08:18:15.654370Z"
    },
    "papermill": {
     "duration": 0.032677,
     "end_time": "2023-08-20T08:18:15.656710",
     "exception": false,
     "start_time": "2023-08-20T08:18:15.624033",
     "status": "completed"
    },
    "tags": []
   },
   "outputs": [
    {
     "data": {
      "text/plain": [
       "Index(['PassengerId', 'Survived', 'Pclass', 'Name', 'Sex', 'Age', 'SibSp',\n",
       "       'Parch', 'Ticket', 'Fare', 'Cabin', 'Embarked'],\n",
       "      dtype='object')"
      ]
     },
     "execution_count": 9,
     "metadata": {},
     "output_type": "execute_result"
    }
   ],
   "source": [
    "#Lets See the column names in Apple AppStore Dataset by using df.columns\n",
    "df.columns"
   ]
  },
  {
   "cell_type": "code",
   "execution_count": 10,
   "id": "b486ef8b",
   "metadata": {
    "execution": {
     "iopub.execute_input": "2023-08-20T08:18:15.707161Z",
     "iopub.status.busy": "2023-08-20T08:18:15.705758Z",
     "iopub.status.idle": "2023-08-20T08:18:15.732124Z",
     "shell.execute_reply": "2023-08-20T08:18:15.730468Z"
    },
    "papermill": {
     "duration": 0.053299,
     "end_time": "2023-08-20T08:18:15.734140",
     "exception": false,
     "start_time": "2023-08-20T08:18:15.680841",
     "status": "completed"
    },
    "tags": []
   },
   "outputs": [
    {
     "name": "stdout",
     "output_type": "stream",
     "text": [
      "<class 'pandas.core.frame.DataFrame'>\n",
      "RangeIndex: 891 entries, 0 to 890\n",
      "Data columns (total 12 columns):\n",
      " #   Column       Non-Null Count  Dtype  \n",
      "---  ------       --------------  -----  \n",
      " 0   PassengerId  891 non-null    int64  \n",
      " 1   Survived     891 non-null    int64  \n",
      " 2   Pclass       891 non-null    int64  \n",
      " 3   Name         891 non-null    object \n",
      " 4   Sex          891 non-null    object \n",
      " 5   Age          714 non-null    float64\n",
      " 6   SibSp        891 non-null    int64  \n",
      " 7   Parch        891 non-null    int64  \n",
      " 8   Ticket       891 non-null    object \n",
      " 9   Fare         891 non-null    float64\n",
      " 10  Cabin        204 non-null    object \n",
      " 11  Embarked     889 non-null    object \n",
      "dtypes: float64(2), int64(5), object(5)\n",
      "memory usage: 83.7+ KB\n"
     ]
    }
   ],
   "source": [
    "#info about our dataset\n",
    "df.info()"
   ]
  },
  {
   "cell_type": "markdown",
   "id": "0265149a",
   "metadata": {
    "papermill": {
     "duration": 0.025037,
     "end_time": "2023-08-20T08:18:15.783985",
     "exception": false,
     "start_time": "2023-08-20T08:18:15.758948",
     "status": "completed"
    },
    "tags": []
   },
   "source": [
    "### Observation Set 01:\n",
    "* As you can see; The dataframe has 892 rows and 12 columns\n",
    "<br>df.info() provides a snapshot summary of the DataFrame's structure, showing the total number of rows, the number of non-null values in each column, and the data types of the columns. This helps to quickly grasp the data's completeness and understand the types of information stored in the DataFrame."
   ]
  },
  {
   "cell_type": "markdown",
   "id": "695df436",
   "metadata": {
    "papermill": {
     "duration": 0.024954,
     "end_time": "2023-08-20T08:18:15.834048",
     "exception": false,
     "start_time": "2023-08-20T08:18:15.809094",
     "status": "completed"
    },
    "tags": []
   },
   "source": [
    "# 6.0 Descriptive Statistics"
   ]
  },
  {
   "cell_type": "code",
   "execution_count": 11,
   "id": "c77973f4",
   "metadata": {
    "execution": {
     "iopub.execute_input": "2023-08-20T08:18:15.886955Z",
     "iopub.status.busy": "2023-08-20T08:18:15.886611Z",
     "iopub.status.idle": "2023-08-20T08:18:15.917336Z",
     "shell.execute_reply": "2023-08-20T08:18:15.916526Z"
    },
    "papermill": {
     "duration": 0.060291,
     "end_time": "2023-08-20T08:18:15.919619",
     "exception": false,
     "start_time": "2023-08-20T08:18:15.859328",
     "status": "completed"
    },
    "tags": []
   },
   "outputs": [
    {
     "data": {
      "text/html": [
       "<div>\n",
       "<style scoped>\n",
       "    .dataframe tbody tr th:only-of-type {\n",
       "        vertical-align: middle;\n",
       "    }\n",
       "\n",
       "    .dataframe tbody tr th {\n",
       "        vertical-align: top;\n",
       "    }\n",
       "\n",
       "    .dataframe thead th {\n",
       "        text-align: right;\n",
       "    }\n",
       "</style>\n",
       "<table border=\"1\" class=\"dataframe\">\n",
       "  <thead>\n",
       "    <tr style=\"text-align: right;\">\n",
       "      <th></th>\n",
       "      <th>PassengerId</th>\n",
       "      <th>Survived</th>\n",
       "      <th>Pclass</th>\n",
       "      <th>Age</th>\n",
       "      <th>SibSp</th>\n",
       "      <th>Parch</th>\n",
       "      <th>Fare</th>\n",
       "    </tr>\n",
       "  </thead>\n",
       "  <tbody>\n",
       "    <tr>\n",
       "      <th>count</th>\n",
       "      <td>891.000000</td>\n",
       "      <td>891.000000</td>\n",
       "      <td>891.000000</td>\n",
       "      <td>714.000000</td>\n",
       "      <td>891.000000</td>\n",
       "      <td>891.000000</td>\n",
       "      <td>891.000000</td>\n",
       "    </tr>\n",
       "    <tr>\n",
       "      <th>mean</th>\n",
       "      <td>446.000000</td>\n",
       "      <td>0.383838</td>\n",
       "      <td>2.308642</td>\n",
       "      <td>29.699118</td>\n",
       "      <td>0.523008</td>\n",
       "      <td>0.381594</td>\n",
       "      <td>32.204208</td>\n",
       "    </tr>\n",
       "    <tr>\n",
       "      <th>std</th>\n",
       "      <td>257.353842</td>\n",
       "      <td>0.486592</td>\n",
       "      <td>0.836071</td>\n",
       "      <td>14.526497</td>\n",
       "      <td>1.102743</td>\n",
       "      <td>0.806057</td>\n",
       "      <td>49.693429</td>\n",
       "    </tr>\n",
       "    <tr>\n",
       "      <th>min</th>\n",
       "      <td>1.000000</td>\n",
       "      <td>0.000000</td>\n",
       "      <td>1.000000</td>\n",
       "      <td>0.420000</td>\n",
       "      <td>0.000000</td>\n",
       "      <td>0.000000</td>\n",
       "      <td>0.000000</td>\n",
       "    </tr>\n",
       "    <tr>\n",
       "      <th>25%</th>\n",
       "      <td>223.500000</td>\n",
       "      <td>0.000000</td>\n",
       "      <td>2.000000</td>\n",
       "      <td>20.125000</td>\n",
       "      <td>0.000000</td>\n",
       "      <td>0.000000</td>\n",
       "      <td>7.910400</td>\n",
       "    </tr>\n",
       "    <tr>\n",
       "      <th>50%</th>\n",
       "      <td>446.000000</td>\n",
       "      <td>0.000000</td>\n",
       "      <td>3.000000</td>\n",
       "      <td>28.000000</td>\n",
       "      <td>0.000000</td>\n",
       "      <td>0.000000</td>\n",
       "      <td>14.454200</td>\n",
       "    </tr>\n",
       "    <tr>\n",
       "      <th>75%</th>\n",
       "      <td>668.500000</td>\n",
       "      <td>1.000000</td>\n",
       "      <td>3.000000</td>\n",
       "      <td>38.000000</td>\n",
       "      <td>1.000000</td>\n",
       "      <td>0.000000</td>\n",
       "      <td>31.000000</td>\n",
       "    </tr>\n",
       "    <tr>\n",
       "      <th>max</th>\n",
       "      <td>891.000000</td>\n",
       "      <td>1.000000</td>\n",
       "      <td>3.000000</td>\n",
       "      <td>80.000000</td>\n",
       "      <td>8.000000</td>\n",
       "      <td>6.000000</td>\n",
       "      <td>512.329200</td>\n",
       "    </tr>\n",
       "  </tbody>\n",
       "</table>\n",
       "</div>"
      ],
      "text/plain": [
       "       PassengerId    Survived      Pclass         Age       SibSp  \\\n",
       "count   891.000000  891.000000  891.000000  714.000000  891.000000   \n",
       "mean    446.000000    0.383838    2.308642   29.699118    0.523008   \n",
       "std     257.353842    0.486592    0.836071   14.526497    1.102743   \n",
       "min       1.000000    0.000000    1.000000    0.420000    0.000000   \n",
       "25%     223.500000    0.000000    2.000000   20.125000    0.000000   \n",
       "50%     446.000000    0.000000    3.000000   28.000000    0.000000   \n",
       "75%     668.500000    1.000000    3.000000   38.000000    1.000000   \n",
       "max     891.000000    1.000000    3.000000   80.000000    8.000000   \n",
       "\n",
       "            Parch        Fare  \n",
       "count  891.000000  891.000000  \n",
       "mean     0.381594   32.204208  \n",
       "std      0.806057   49.693429  \n",
       "min      0.000000    0.000000  \n",
       "25%      0.000000    7.910400  \n",
       "50%      0.000000   14.454200  \n",
       "75%      0.000000   31.000000  \n",
       "max      6.000000  512.329200  "
      ]
     },
     "execution_count": 11,
     "metadata": {},
     "output_type": "execute_result"
    }
   ],
   "source": [
    "#summary of data\n",
    "df.describe()"
   ]
  },
  {
   "cell_type": "markdown",
   "id": "b4bfba82",
   "metadata": {
    "papermill": {
     "duration": 0.025077,
     "end_time": "2023-08-20T08:18:15.969991",
     "exception": false,
     "start_time": "2023-08-20T08:18:15.944914",
     "status": "completed"
    },
    "tags": []
   },
   "source": [
    "### Observation Set 02:\n",
    "The statistical summary of the numerical columns in the DataFrame, including count, mean, standard deviation, minimum, 25th percentile (Q1), median (50th percentile or Q2), 75th percentile (Q3), and maximum. This provides a quick insight into the central tendency, spread, and range of the data.\n",
    "<br> We can see all summary about data here."
   ]
  },
  {
   "cell_type": "markdown",
   "id": "4f96dfbb",
   "metadata": {
    "papermill": {
     "duration": 0.025332,
     "end_time": "2023-08-20T08:18:16.020607",
     "exception": false,
     "start_time": "2023-08-20T08:18:15.995275",
     "status": "completed"
    },
    "tags": []
   },
   "source": [
    "# 7.0 Missing Values"
   ]
  },
  {
   "cell_type": "code",
   "execution_count": 12,
   "id": "d2919955",
   "metadata": {
    "execution": {
     "iopub.execute_input": "2023-08-20T08:18:16.073141Z",
     "iopub.status.busy": "2023-08-20T08:18:16.072529Z",
     "iopub.status.idle": "2023-08-20T08:18:16.080625Z",
     "shell.execute_reply": "2023-08-20T08:18:16.079656Z"
    },
    "papermill": {
     "duration": 0.036264,
     "end_time": "2023-08-20T08:18:16.082523",
     "exception": false,
     "start_time": "2023-08-20T08:18:16.046259",
     "status": "completed"
    },
    "tags": []
   },
   "outputs": [
    {
     "data": {
      "text/plain": [
       "Cabin          687\n",
       "Age            177\n",
       "Embarked         2\n",
       "PassengerId      0\n",
       "Survived         0\n",
       "Pclass           0\n",
       "Name             0\n",
       "Sex              0\n",
       "SibSp            0\n",
       "Parch            0\n",
       "Ticket           0\n",
       "Fare             0\n",
       "dtype: int64"
      ]
     },
     "execution_count": 12,
     "metadata": {},
     "output_type": "execute_result"
    }
   ],
   "source": [
    "#Lets See the null values in dataset\n",
    "df.isnull().sum().sort_values(ascending = False)"
   ]
  },
  {
   "cell_type": "code",
   "execution_count": 13,
   "id": "001d1a68",
   "metadata": {
    "execution": {
     "iopub.execute_input": "2023-08-20T08:18:16.134590Z",
     "iopub.status.busy": "2023-08-20T08:18:16.134217Z",
     "iopub.status.idle": "2023-08-20T08:18:16.392671Z",
     "shell.execute_reply": "2023-08-20T08:18:16.391383Z"
    },
    "papermill": {
     "duration": 0.287705,
     "end_time": "2023-08-20T08:18:16.395137",
     "exception": false,
     "start_time": "2023-08-20T08:18:16.107432",
     "status": "completed"
    },
    "tags": []
   },
   "outputs": [
    {
     "data": {
      "text/plain": [
       "Text(0.5, 1.0, 'Missing null values')"
      ]
     },
     "execution_count": 13,
     "metadata": {},
     "output_type": "execute_result"
    },
    {
     "data": {
      "image/png": "[encoded data removed]",
      "text/plain": [
       "<Figure size 1800x600 with 1 Axes>"
      ]
     },
     "metadata": {},
     "output_type": "display_data"
    }
   ],
   "source": [
    "#Let's plot the missing null values\n",
    "plt.figure(figsize=(18,6))\n",
    "sns.heatmap(df.isnull(),yticklabels = False, cbar = False , cmap = 'viridis')\n",
    "plt.title(\"Missing null values\")"
   ]
  },
  {
   "cell_type": "markdown",
   "id": "f5afd58c",
   "metadata": {
    "papermill": {
     "duration": 0.025934,
     "end_time": "2023-08-20T08:18:16.447902",
     "exception": false,
     "start_time": "2023-08-20T08:18:16.421968",
     "status": "completed"
    },
    "tags": []
   },
   "source": [
    "**Figure_1:** Provide us the visual on the missing values in a dataframe.\n",
    "\n",
    "Here's a simple piece of code that helps you see the data that'have missing values, See the percentage of null values in your dataset sorted in ascending order, making it easy to identify which features have the most missing data."
   ]
  },
  {
   "cell_type": "markdown",
   "id": "cd43a9d6",
   "metadata": {
    "papermill": {
     "duration": 0.025884,
     "end_time": "2023-08-20T08:18:16.500355",
     "exception": false,
     "start_time": "2023-08-20T08:18:16.474471",
     "status": "completed"
    },
    "tags": []
   },
   "source": [
    "### 7.1 Percentage of missing values"
   ]
  },
  {
   "cell_type": "code",
   "execution_count": 14,
   "id": "efe2a580",
   "metadata": {
    "execution": {
     "iopub.execute_input": "2023-08-20T08:18:16.553666Z",
     "iopub.status.busy": "2023-08-20T08:18:16.553320Z",
     "iopub.status.idle": "2023-08-20T08:18:16.564040Z",
     "shell.execute_reply": "2023-08-20T08:18:16.562892Z"
    },
    "papermill": {
     "duration": 0.040425,
     "end_time": "2023-08-20T08:18:16.566496",
     "exception": false,
     "start_time": "2023-08-20T08:18:16.526071",
     "status": "completed"
    },
    "tags": []
   },
   "outputs": [
    {
     "data": {
      "text/plain": [
       "Cabin          77.104377\n",
       "Age            19.865320\n",
       "Embarked        0.224467\n",
       "PassengerId     0.000000\n",
       "Survived        0.000000\n",
       "Pclass          0.000000\n",
       "Name            0.000000\n",
       "Sex             0.000000\n",
       "SibSp           0.000000\n",
       "Parch           0.000000\n",
       "Ticket          0.000000\n",
       "Fare            0.000000\n",
       "dtype: float64"
      ]
     },
     "execution_count": 14,
     "metadata": {},
     "output_type": "execute_result"
    }
   ],
   "source": [
    "df.isnull().sum().sort_values(ascending = False)/len(df) *100"
   ]
  },
  {
   "cell_type": "markdown",
   "id": "3a6cd377",
   "metadata": {
    "papermill": {
     "duration": 0.026626,
     "end_time": "2023-08-20T08:18:16.618531",
     "exception": false,
     "start_time": "2023-08-20T08:18:16.591905",
     "status": "completed"
    },
    "tags": []
   },
   "source": [
    "### Observation Set 03:\n",
    "\n",
    "As We can See`Cabin` column having more than 70% null values.\n",
    "<br>Following columns have small number of null values, So we can impute or drop these values:\n",
    "* Age  \n",
    "* Embarked "
   ]
  },
  {
   "cell_type": "markdown",
   "id": "005d37b3",
   "metadata": {
    "papermill": {
     "duration": 0.025961,
     "end_time": "2023-08-20T08:18:16.670371",
     "exception": false,
     "start_time": "2023-08-20T08:18:16.644410",
     "status": "completed"
    },
    "tags": []
   },
   "source": [
    "# 8.0 Exploration & Visualization"
   ]
  },
  {
   "cell_type": "markdown",
   "id": "ecff7e6a",
   "metadata": {
    "papermill": {
     "duration": 0.025261,
     "end_time": "2023-08-20T08:18:16.720998",
     "exception": false,
     "start_time": "2023-08-20T08:18:16.695737",
     "status": "completed"
    },
    "tags": []
   },
   "source": [
    "**Exploration of Complete & Important Variables**\n",
    "\n",
    "Our response variable in the training set is complete, as well as Sex and Pclass, which seem two of the most important predictors.\n",
    "\n",
    "## 8.1 Survival"
   ]
  },
  {
   "cell_type": "code",
   "execution_count": 15,
   "id": "7077df30",
   "metadata": {
    "execution": {
     "iopub.execute_input": "2023-08-20T08:18:16.774075Z",
     "iopub.status.busy": "2023-08-20T08:18:16.773717Z",
     "iopub.status.idle": "2023-08-20T08:18:16.781026Z",
     "shell.execute_reply": "2023-08-20T08:18:16.779688Z"
    },
    "papermill": {
     "duration": 0.036786,
     "end_time": "2023-08-20T08:18:16.783533",
     "exception": false,
     "start_time": "2023-08-20T08:18:16.746747",
     "status": "completed"
    },
    "tags": []
   },
   "outputs": [
    {
     "data": {
      "text/plain": [
       "Index(['PassengerId', 'Survived', 'Pclass', 'Name', 'Sex', 'Age', 'SibSp',\n",
       "       'Parch', 'Ticket', 'Fare', 'Cabin', 'Embarked'],\n",
       "      dtype='object')"
      ]
     },
     "execution_count": 15,
     "metadata": {},
     "output_type": "execute_result"
    }
   ],
   "source": [
    "df.columns"
   ]
  },
  {
   "cell_type": "code",
   "execution_count": 16,
   "id": "72cf4d63",
   "metadata": {
    "execution": {
     "iopub.execute_input": "2023-08-20T08:18:16.837220Z",
     "iopub.status.busy": "2023-08-20T08:18:16.836806Z",
     "iopub.status.idle": "2023-08-20T08:18:17.022664Z",
     "shell.execute_reply": "2023-08-20T08:18:17.020766Z"
    },
    "papermill": {
     "duration": 0.215412,
     "end_time": "2023-08-20T08:18:17.025093",
     "exception": false,
     "start_time": "2023-08-20T08:18:16.809681",
     "status": "completed"
    },
    "tags": []
   },
   "outputs": [
    {
     "data": {
      "text/plain": [
       "<Axes: xlabel='Survived', ylabel='count'>"
      ]
     },
     "execution_count": 16,
     "metadata": {},
     "output_type": "execute_result"
    },
    {
     "data": {
      "image/png": "[encoded data removed]",
      "text/plain": [
       "<Figure size 640x480 with 1 Axes>"
      ]
     },
     "metadata": {},
     "output_type": "display_data"
    }
   ],
   "source": [
    "#Lets See the distribution of 'Survived' passengers with respect to the same variable\n",
    "sns.countplot(x='Survived', hue='Survived', data=df)"
   ]
  },
  {
   "cell_type": "markdown",
   "id": "7fb62c19",
   "metadata": {
    "papermill": {
     "duration": 0.026291,
     "end_time": "2023-08-20T08:18:17.078616",
     "exception": false,
     "start_time": "2023-08-20T08:18:17.052325",
     "status": "completed"
    },
    "tags": []
   },
   "source": [
    "**Figure_2:** Shows the survived rate of passengers with respect to the same variable.\n"
   ]
  },
  {
   "cell_type": "markdown",
   "id": "1c2b1a7d",
   "metadata": {
    "papermill": {
     "duration": 0.027455,
     "end_time": "2023-08-20T08:18:17.132575",
     "exception": false,
     "start_time": "2023-08-20T08:18:17.105120",
     "status": "completed"
    },
    "tags": []
   },
   "source": [
    "#### 8.1.1 Gender & Survival"
   ]
  },
  {
   "cell_type": "code",
   "execution_count": 17,
   "id": "e78c7da2",
   "metadata": {
    "execution": {
     "iopub.execute_input": "2023-08-20T08:18:17.187902Z",
     "iopub.status.busy": "2023-08-20T08:18:17.187572Z",
     "iopub.status.idle": "2023-08-20T08:18:17.367707Z",
     "shell.execute_reply": "2023-08-20T08:18:17.366822Z"
    },
    "papermill": {
     "duration": 0.210403,
     "end_time": "2023-08-20T08:18:17.369527",
     "exception": false,
     "start_time": "2023-08-20T08:18:17.159124",
     "status": "completed"
    },
    "tags": []
   },
   "outputs": [
    {
     "data": {
      "text/plain": [
       "<Axes: xlabel='Sex', ylabel='count'>"
      ]
     },
     "execution_count": 17,
     "metadata": {},
     "output_type": "execute_result"
    },
    {
     "data": {
      "image/png": "[encoded data removed]",
      "text/plain": [
       "<Figure size 640x480 with 1 Axes>"
      ]
     },
     "metadata": {},
     "output_type": "display_data"
    }
   ],
   "source": [
    "#Lets See survival of genders in dataset\n",
    "sns.countplot(x='Sex', hue='Survived', data=df)"
   ]
  },
  {
   "cell_type": "markdown",
   "id": "07dffd01",
   "metadata": {
    "papermill": {
     "duration": 0.026313,
     "end_time": "2023-08-20T08:18:17.421763",
     "exception": false,
     "start_time": "2023-08-20T08:18:17.395450",
     "status": "completed"
    },
    "tags": []
   },
   "source": [
    "**Figure_3:** Shows the survived rate of genders.\n",
    "\n",
    "<br> This plot shows that survival rate of female is more than male."
   ]
  },
  {
   "cell_type": "markdown",
   "id": "7b4c9526",
   "metadata": {
    "papermill": {
     "duration": 0.02648,
     "end_time": "2023-08-20T08:18:17.475378",
     "exception": false,
     "start_time": "2023-08-20T08:18:17.448898",
     "status": "completed"
    },
    "tags": []
   },
   "source": [
    "#### 8.1.2 Passenger Survival Class"
   ]
  },
  {
   "cell_type": "code",
   "execution_count": 18,
   "id": "ee00534a",
   "metadata": {
    "execution": {
     "iopub.execute_input": "2023-08-20T08:18:17.531318Z",
     "iopub.status.busy": "2023-08-20T08:18:17.530613Z",
     "iopub.status.idle": "2023-08-20T08:18:17.676712Z",
     "shell.execute_reply": "2023-08-20T08:18:17.676002Z"
    },
    "papermill": {
     "duration": 0.176226,
     "end_time": "2023-08-20T08:18:17.678629",
     "exception": false,
     "start_time": "2023-08-20T08:18:17.502403",
     "status": "completed"
    },
    "tags": []
   },
   "outputs": [
    {
     "data": {
      "text/plain": [
       "<Axes: xlabel='Pclass', ylabel='count'>"
      ]
     },
     "execution_count": 18,
     "metadata": {},
     "output_type": "execute_result"
    },
    {
     "data": {
      "image/png": "[encoded data removed]",
      "text/plain": [
       "<Figure size 640x480 with 1 Axes>"
      ]
     },
     "metadata": {},
     "output_type": "display_data"
    }
   ],
   "source": [
    "#Lets See the distribution of passengers' classes ('Pclass') in the dataset.\n",
    "sns.countplot(x='Pclass', data=df)"
   ]
  },
  {
   "cell_type": "markdown",
   "id": "9c3a1d05",
   "metadata": {
    "papermill": {
     "duration": 0.026848,
     "end_time": "2023-08-20T08:18:17.734418",
     "exception": false,
     "start_time": "2023-08-20T08:18:17.707570",
     "status": "completed"
    },
    "tags": []
   },
   "source": [
    "**Figure_4:** Shows the distribution of passengers' in classes.\n",
    "\n",
    "<br>We can See from Figure_4, that highest number of passengers in class_3."
   ]
  },
  {
   "cell_type": "code",
   "execution_count": 19,
   "id": "1f76b13a",
   "metadata": {
    "execution": {
     "iopub.execute_input": "2023-08-20T08:18:17.790764Z",
     "iopub.status.busy": "2023-08-20T08:18:17.790175Z",
     "iopub.status.idle": "2023-08-20T08:18:17.988501Z",
     "shell.execute_reply": "2023-08-20T08:18:17.986982Z"
    },
    "papermill": {
     "duration": 0.229138,
     "end_time": "2023-08-20T08:18:17.991144",
     "exception": false,
     "start_time": "2023-08-20T08:18:17.762006",
     "status": "completed"
    },
    "tags": []
   },
   "outputs": [
    {
     "data": {
      "text/plain": [
       "<Axes: xlabel='Pclass', ylabel='count'>"
      ]
     },
     "execution_count": 19,
     "metadata": {},
     "output_type": "execute_result"
    },
    {
     "data": {
      "image/png": "[encoded data removed]",
      "text/plain": [
       "<Figure size 640x480 with 1 Axes>"
      ]
     },
     "metadata": {},
     "output_type": "display_data"
    }
   ],
   "source": [
    "#Lets See the Survival rate in all Pclass\n",
    "sns.countplot(x='Pclass', hue='Survived', data=df)"
   ]
  },
  {
   "cell_type": "markdown",
   "id": "5d7bd2e2",
   "metadata": {
    "papermill": {
     "duration": 0.026684,
     "end_time": "2023-08-20T08:18:18.044769",
     "exception": false,
     "start_time": "2023-08-20T08:18:18.018085",
     "status": "completed"
    },
    "tags": []
   },
   "source": [
    "**Figure_5:** Shows the  survival of passengers' in all Pclasses.\n",
    "    \n",
    "<br>As we can see, highest suvival of passengers in class_1 and lowest suvival in class 3."
   ]
  },
  {
   "cell_type": "markdown",
   "id": "afcc7a29",
   "metadata": {
    "papermill": {
     "duration": 0.027388,
     "end_time": "2023-08-20T08:18:18.100152",
     "exception": false,
     "start_time": "2023-08-20T08:18:18.072764",
     "status": "completed"
    },
    "tags": []
   },
   "source": [
    "#### 8.1.3 Passenger Class, Gender & Survival"
   ]
  },
  {
   "cell_type": "code",
   "execution_count": 20,
   "id": "57603e05",
   "metadata": {
    "execution": {
     "iopub.execute_input": "2023-08-20T08:18:18.156829Z",
     "iopub.status.busy": "2023-08-20T08:18:18.156448Z",
     "iopub.status.idle": "2023-08-20T08:18:18.784236Z",
     "shell.execute_reply": "2023-08-20T08:18:18.783319Z"
    },
    "papermill": {
     "duration": 0.658844,
     "end_time": "2023-08-20T08:18:18.786144",
     "exception": false,
     "start_time": "2023-08-20T08:18:18.127300",
     "status": "completed"
    },
    "tags": []
   },
   "outputs": [
    {
     "data": {
      "text/plain": [
       "<seaborn.axisgrid.FacetGrid at 0x29e1ad0a4a0>"
      ]
     },
     "execution_count": 20,
     "metadata": {},
     "output_type": "execute_result"
    },
    {
     "data": {
      "image/png": "[encoded data removed]",
      "text/plain": [
       "<Figure size 1500x500 with 3 Axes>"
      ]
     },
     "metadata": {},
     "output_type": "display_data"
    }
   ],
   "source": [
    "# Create a categorical subplot of passenger gender distribution across different passenger classes.\n",
    "sns.catplot(x='Sex', col='Pclass', data=df, kind='count')"
   ]
  },
  {
   "cell_type": "markdown",
   "id": "621c502a",
   "metadata": {
    "papermill": {
     "duration": 0.030606,
     "end_time": "2023-08-20T08:18:18.844920",
     "exception": false,
     "start_time": "2023-08-20T08:18:18.814314",
     "status": "completed"
    },
    "tags": []
   },
   "source": [
    "**Figure_6:** Shows the  survival of of passenger gender distribution across all passenger classes."
   ]
  },
  {
   "cell_type": "code",
   "execution_count": 21,
   "id": "2514604a",
   "metadata": {
    "execution": {
     "iopub.execute_input": "2023-08-20T08:18:18.901894Z",
     "iopub.status.busy": "2023-08-20T08:18:18.901479Z",
     "iopub.status.idle": "2023-08-20T08:18:19.693265Z",
     "shell.execute_reply": "2023-08-20T08:18:19.692346Z"
    },
    "papermill": {
     "duration": 0.822756,
     "end_time": "2023-08-20T08:18:19.695208",
     "exception": false,
     "start_time": "2023-08-20T08:18:18.872452",
     "status": "completed"
    },
    "tags": []
   },
   "outputs": [
    {
     "data": {
      "text/plain": [
       "<seaborn.axisgrid.FacetGrid at 0x29e2109c160>"
      ]
     },
     "execution_count": 21,
     "metadata": {},
     "output_type": "execute_result"
    },
    {
     "data": {
      "image/png": "[encoded data removed]",
      "text/plain": [
       "<Figure size 1572.11x500 with 3 Axes>"
      ]
     },
     "metadata": {},
     "output_type": "display_data"
    }
   ],
   "source": [
    "# Create a categorical subplot of passenger gender distribution across different passenger classes according to Survived.\n",
    " \n",
    "sns.catplot(x='Sex', col='Pclass', hue='Survived', data=df, kind='count')"
   ]
  },
  {
   "cell_type": "markdown",
   "id": "58de8b52",
   "metadata": {
    "papermill": {
     "duration": 0.027824,
     "end_time": "2023-08-20T08:18:19.751513",
     "exception": false,
     "start_time": "2023-08-20T08:18:19.723689",
     "status": "completed"
    },
    "tags": []
   },
   "source": [
    "**Figure_7:** Shows the  survival of passenger gender distribution across different passenger classes according to Survived."
   ]
  },
  {
   "cell_type": "markdown",
   "id": "f0811f43",
   "metadata": {
    "papermill": {
     "duration": 0.027655,
     "end_time": "2023-08-20T08:18:19.806968",
     "exception": false,
     "start_time": "2023-08-20T08:18:19.779313",
     "status": "completed"
    },
    "tags": []
   },
   "source": [
    "## 8.2 What's in the name?"
   ]
  },
  {
   "cell_type": "code",
   "execution_count": 22,
   "id": "9d5228ae",
   "metadata": {
    "execution": {
     "iopub.execute_input": "2023-08-20T08:18:19.866917Z",
     "iopub.status.busy": "2023-08-20T08:18:19.866282Z",
     "iopub.status.idle": "2023-08-20T08:18:19.878897Z",
     "shell.execute_reply": "2023-08-20T08:18:19.878247Z"
    },
    "papermill": {
     "duration": 0.045775,
     "end_time": "2023-08-20T08:18:19.880900",
     "exception": false,
     "start_time": "2023-08-20T08:18:19.835125",
     "status": "completed"
    },
    "tags": []
   },
   "outputs": [
    {
     "data": {
      "text/html": [
       "<div>\n",
       "<style scoped>\n",
       "    .dataframe tbody tr th:only-of-type {\n",
       "        vertical-align: middle;\n",
       "    }\n",
       "\n",
       "    .dataframe tbody tr th {\n",
       "        vertical-align: top;\n",
       "    }\n",
       "\n",
       "    .dataframe thead th {\n",
       "        text-align: right;\n",
       "    }\n",
       "</style>\n",
       "<table border=\"1\" class=\"dataframe\">\n",
       "  <thead>\n",
       "    <tr style=\"text-align: right;\">\n",
       "      <th></th>\n",
       "      <th>PassengerId</th>\n",
       "      <th>Survived</th>\n",
       "      <th>Pclass</th>\n",
       "      <th>Name</th>\n",
       "      <th>Sex</th>\n",
       "      <th>Age</th>\n",
       "      <th>SibSp</th>\n",
       "      <th>Parch</th>\n",
       "      <th>Ticket</th>\n",
       "      <th>Fare</th>\n",
       "      <th>Cabin</th>\n",
       "      <th>Embarked</th>\n",
       "    </tr>\n",
       "  </thead>\n",
       "  <tbody>\n",
       "    <tr>\n",
       "      <th>0</th>\n",
       "      <td>1</td>\n",
       "      <td>0</td>\n",
       "      <td>3</td>\n",
       "      <td>Braund, Mr. Owen Harris</td>\n",
       "      <td>male</td>\n",
       "      <td>22.0</td>\n",
       "      <td>1</td>\n",
       "      <td>0</td>\n",
       "      <td>A/5 21171</td>\n",
       "      <td>7.2500</td>\n",
       "      <td>NaN</td>\n",
       "      <td>S</td>\n",
       "    </tr>\n",
       "    <tr>\n",
       "      <th>1</th>\n",
       "      <td>2</td>\n",
       "      <td>1</td>\n",
       "      <td>1</td>\n",
       "      <td>Cumings, Mrs. John Bradley (Florence Briggs Th...</td>\n",
       "      <td>female</td>\n",
       "      <td>38.0</td>\n",
       "      <td>1</td>\n",
       "      <td>0</td>\n",
       "      <td>PC 17599</td>\n",
       "      <td>71.2833</td>\n",
       "      <td>C85</td>\n",
       "      <td>C</td>\n",
       "    </tr>\n",
       "    <tr>\n",
       "      <th>2</th>\n",
       "      <td>3</td>\n",
       "      <td>1</td>\n",
       "      <td>3</td>\n",
       "      <td>Heikkinen, Miss. Laina</td>\n",
       "      <td>female</td>\n",
       "      <td>26.0</td>\n",
       "      <td>0</td>\n",
       "      <td>0</td>\n",
       "      <td>STON/O2. 3101282</td>\n",
       "      <td>7.9250</td>\n",
       "      <td>NaN</td>\n",
       "      <td>S</td>\n",
       "    </tr>\n",
       "    <tr>\n",
       "      <th>3</th>\n",
       "      <td>4</td>\n",
       "      <td>1</td>\n",
       "      <td>1</td>\n",
       "      <td>Futrelle, Mrs. Jacques Heath (Lily May Peel)</td>\n",
       "      <td>female</td>\n",
       "      <td>35.0</td>\n",
       "      <td>1</td>\n",
       "      <td>0</td>\n",
       "      <td>113803</td>\n",
       "      <td>53.1000</td>\n",
       "      <td>C123</td>\n",
       "      <td>S</td>\n",
       "    </tr>\n",
       "    <tr>\n",
       "      <th>4</th>\n",
       "      <td>5</td>\n",
       "      <td>0</td>\n",
       "      <td>3</td>\n",
       "      <td>Allen, Mr. William Henry</td>\n",
       "      <td>male</td>\n",
       "      <td>35.0</td>\n",
       "      <td>0</td>\n",
       "      <td>0</td>\n",
       "      <td>373450</td>\n",
       "      <td>8.0500</td>\n",
       "      <td>NaN</td>\n",
       "      <td>S</td>\n",
       "    </tr>\n",
       "  </tbody>\n",
       "</table>\n",
       "</div>"
      ],
      "text/plain": [
       "   PassengerId  Survived  Pclass  \\\n",
       "0            1         0       3   \n",
       "1            2         1       1   \n",
       "2            3         1       3   \n",
       "3            4         1       1   \n",
       "4            5         0       3   \n",
       "\n",
       "                                                Name     Sex   Age  SibSp  \\\n",
       "0                            Braund, Mr. Owen Harris    male  22.0      1   \n",
       "1  Cumings, Mrs. John Bradley (Florence Briggs Th...  female  38.0      1   \n",
       "2                             Heikkinen, Miss. Laina  female  26.0      0   \n",
       "3       Futrelle, Mrs. Jacques Heath (Lily May Peel)  female  35.0      1   \n",
       "4                           Allen, Mr. William Henry    male  35.0      0   \n",
       "\n",
       "   Parch            Ticket     Fare Cabin Embarked  \n",
       "0      0         A/5 21171   7.2500   NaN        S  \n",
       "1      0          PC 17599  71.2833   C85        C  \n",
       "2      0  STON/O2. 3101282   7.9250   NaN        S  \n",
       "3      0            113803  53.1000  C123        S  \n",
       "4      0            373450   8.0500   NaN        S  "
      ]
     },
     "execution_count": 22,
     "metadata": {},
     "output_type": "execute_result"
    }
   ],
   "source": [
    "df.head()"
   ]
  },
  {
   "cell_type": "code",
   "execution_count": 23,
   "id": "0f9e4195",
   "metadata": {
    "execution": {
     "iopub.execute_input": "2023-08-20T08:18:19.939822Z",
     "iopub.status.busy": "2023-08-20T08:18:19.939162Z",
     "iopub.status.idle": "2023-08-20T08:18:19.945801Z",
     "shell.execute_reply": "2023-08-20T08:18:19.944782Z"
    },
    "papermill": {
     "duration": 0.038472,
     "end_time": "2023-08-20T08:18:19.947611",
     "exception": false,
     "start_time": "2023-08-20T08:18:19.909139",
     "status": "completed"
    },
    "tags": []
   },
   "outputs": [
    {
     "data": {
      "text/plain": [
       "0                              Braund, Mr. Owen Harris\n",
       "1    Cumings, Mrs. John Bradley (Florence Briggs Th...\n",
       "2                               Heikkinen, Miss. Laina\n",
       "3         Futrelle, Mrs. Jacques Heath (Lily May Peel)\n",
       "4                             Allen, Mr. William Henry\n",
       "5                                     Moran, Mr. James\n",
       "6                              McCarthy, Mr. Timothy J\n",
       "7                       Palsson, Master. Gosta Leonard\n",
       "8    Johnson, Mrs. Oscar W (Elisabeth Vilhelmina Berg)\n",
       "9                  Nasser, Mrs. Nicholas (Adele Achem)\n",
       "Name: Name, dtype: object"
      ]
     },
     "execution_count": 23,
     "metadata": {},
     "output_type": "execute_result"
    }
   ],
   "source": [
    "df['Name'].head(10)"
   ]
  },
  {
   "cell_type": "markdown",
   "id": "fbf1edd1",
   "metadata": {
    "papermill": {
     "duration": 0.029215,
     "end_time": "2023-08-20T08:18:20.004867",
     "exception": false,
     "start_time": "2023-08-20T08:18:19.975652",
     "status": "completed"
    },
    "tags": []
   },
   "source": [
    "### 8.2.1 Extracting & Analyzing Titles"
   ]
  },
  {
   "cell_type": "markdown",
   "id": "0e3655e5",
   "metadata": {
    "papermill": {
     "duration": 0.027328,
     "end_time": "2023-08-20T08:18:20.059849",
     "exception": false,
     "start_time": "2023-08-20T08:18:20.032521",
     "status": "completed"
    },
    "tags": []
   },
   "source": [
    "This is called feature engineering where you derive additional columns as per your domain knowledge like creating 'Title in the following example.\n",
    "\n",
    "<br>This code uses the regular expression \\b([A-Z][a-z]+)\\. to match a word boundary (\\b), followed by a capitalized word ([A-Z][a-z]+) and a period (\\.). The re.search function returns a match object if the pattern is found in the string, and the group(1) method extracts the first capturing group (the capitalized word). In this case, the output will be Mr."
   ]
  },
  {
   "cell_type": "code",
   "execution_count": 24,
   "id": "02673fbb",
   "metadata": {
    "execution": {
     "iopub.execute_input": "2023-08-20T08:18:20.119037Z",
     "iopub.status.busy": "2023-08-20T08:18:20.118318Z",
     "iopub.status.idle": "2023-08-20T08:18:20.122912Z",
     "shell.execute_reply": "2023-08-20T08:18:20.121849Z"
    },
    "papermill": {
     "duration": 0.037553,
     "end_time": "2023-08-20T08:18:20.125256",
     "exception": false,
     "start_time": "2023-08-20T08:18:20.087703",
     "status": "completed"
    },
    "tags": []
   },
   "outputs": [],
   "source": [
    "import re #regula expression\n",
    "\n",
    "v = 'Braund, Mr. Owen Harris'\n",
    "x = re.search(\"^The.*Spani$\", v)\n",
    "x"
   ]
  },
  {
   "cell_type": "code",
   "execution_count": 25,
   "id": "a8775845",
   "metadata": {
    "execution": {
     "iopub.execute_input": "2023-08-20T08:18:20.182934Z",
     "iopub.status.busy": "2023-08-20T08:18:20.182549Z",
     "iopub.status.idle": "2023-08-20T08:18:20.189336Z",
     "shell.execute_reply": "2023-08-20T08:18:20.188265Z"
    },
    "papermill": {
     "duration": 0.037971,
     "end_time": "2023-08-20T08:18:20.191235",
     "exception": false,
     "start_time": "2023-08-20T08:18:20.153264",
     "status": "completed"
    },
    "tags": []
   },
   "outputs": [
    {
     "data": {
      "text/plain": [
       "'Mr'"
      ]
     },
     "execution_count": 25,
     "metadata": {},
     "output_type": "execute_result"
    }
   ],
   "source": [
    "a = 'Braund, Mr. Owen Harris'\n",
    "re.search(' ([A-Z][a-z]+)\\.', a).group(1)"
   ]
  },
  {
   "cell_type": "code",
   "execution_count": 26,
   "id": "bc25e24d",
   "metadata": {
    "execution": {
     "iopub.execute_input": "2023-08-20T08:18:20.251448Z",
     "iopub.status.busy": "2023-08-20T08:18:20.250333Z",
     "iopub.status.idle": "2023-08-20T08:18:20.269959Z",
     "shell.execute_reply": "2023-08-20T08:18:20.268537Z"
    },
    "papermill": {
     "duration": 0.05249,
     "end_time": "2023-08-20T08:18:20.272404",
     "exception": false,
     "start_time": "2023-08-20T08:18:20.219914",
     "status": "completed"
    },
    "tags": []
   },
   "outputs": [
    {
     "data": {
      "text/html": [
       "<div>\n",
       "<style scoped>\n",
       "    .dataframe tbody tr th:only-of-type {\n",
       "        vertical-align: middle;\n",
       "    }\n",
       "\n",
       "    .dataframe tbody tr th {\n",
       "        vertical-align: top;\n",
       "    }\n",
       "\n",
       "    .dataframe thead th {\n",
       "        text-align: right;\n",
       "    }\n",
       "</style>\n",
       "<table border=\"1\" class=\"dataframe\">\n",
       "  <thead>\n",
       "    <tr style=\"text-align: right;\">\n",
       "      <th></th>\n",
       "      <th>PassengerId</th>\n",
       "      <th>Survived</th>\n",
       "      <th>Pclass</th>\n",
       "      <th>Name</th>\n",
       "      <th>Sex</th>\n",
       "      <th>Age</th>\n",
       "      <th>SibSp</th>\n",
       "      <th>Parch</th>\n",
       "      <th>Ticket</th>\n",
       "      <th>Fare</th>\n",
       "      <th>Cabin</th>\n",
       "      <th>Embarked</th>\n",
       "      <th>Title</th>\n",
       "    </tr>\n",
       "  </thead>\n",
       "  <tbody>\n",
       "    <tr>\n",
       "      <th>0</th>\n",
       "      <td>1</td>\n",
       "      <td>0</td>\n",
       "      <td>3</td>\n",
       "      <td>Braund, Mr. Owen Harris</td>\n",
       "      <td>male</td>\n",
       "      <td>22.0</td>\n",
       "      <td>1</td>\n",
       "      <td>0</td>\n",
       "      <td>A/5 21171</td>\n",
       "      <td>7.2500</td>\n",
       "      <td>NaN</td>\n",
       "      <td>S</td>\n",
       "      <td>Mr</td>\n",
       "    </tr>\n",
       "    <tr>\n",
       "      <th>1</th>\n",
       "      <td>2</td>\n",
       "      <td>1</td>\n",
       "      <td>1</td>\n",
       "      <td>Cumings, Mrs. John Bradley (Florence Briggs Th...</td>\n",
       "      <td>female</td>\n",
       "      <td>38.0</td>\n",
       "      <td>1</td>\n",
       "      <td>0</td>\n",
       "      <td>PC 17599</td>\n",
       "      <td>71.2833</td>\n",
       "      <td>C85</td>\n",
       "      <td>C</td>\n",
       "      <td>Mrs</td>\n",
       "    </tr>\n",
       "    <tr>\n",
       "      <th>2</th>\n",
       "      <td>3</td>\n",
       "      <td>1</td>\n",
       "      <td>3</td>\n",
       "      <td>Heikkinen, Miss. Laina</td>\n",
       "      <td>female</td>\n",
       "      <td>26.0</td>\n",
       "      <td>0</td>\n",
       "      <td>0</td>\n",
       "      <td>STON/O2. 3101282</td>\n",
       "      <td>7.9250</td>\n",
       "      <td>NaN</td>\n",
       "      <td>S</td>\n",
       "      <td>Miss</td>\n",
       "    </tr>\n",
       "    <tr>\n",
       "      <th>3</th>\n",
       "      <td>4</td>\n",
       "      <td>1</td>\n",
       "      <td>1</td>\n",
       "      <td>Futrelle, Mrs. Jacques Heath (Lily May Peel)</td>\n",
       "      <td>female</td>\n",
       "      <td>35.0</td>\n",
       "      <td>1</td>\n",
       "      <td>0</td>\n",
       "      <td>113803</td>\n",
       "      <td>53.1000</td>\n",
       "      <td>C123</td>\n",
       "      <td>S</td>\n",
       "      <td>Mrs</td>\n",
       "    </tr>\n",
       "    <tr>\n",
       "      <th>4</th>\n",
       "      <td>5</td>\n",
       "      <td>0</td>\n",
       "      <td>3</td>\n",
       "      <td>Allen, Mr. William Henry</td>\n",
       "      <td>male</td>\n",
       "      <td>35.0</td>\n",
       "      <td>0</td>\n",
       "      <td>0</td>\n",
       "      <td>373450</td>\n",
       "      <td>8.0500</td>\n",
       "      <td>NaN</td>\n",
       "      <td>S</td>\n",
       "      <td>Mr</td>\n",
       "    </tr>\n",
       "  </tbody>\n",
       "</table>\n",
       "</div>"
      ],
      "text/plain": [
       "   PassengerId  Survived  Pclass  \\\n",
       "0            1         0       3   \n",
       "1            2         1       1   \n",
       "2            3         1       3   \n",
       "3            4         1       1   \n",
       "4            5         0       3   \n",
       "\n",
       "                                                Name     Sex   Age  SibSp  \\\n",
       "0                            Braund, Mr. Owen Harris    male  22.0      1   \n",
       "1  Cumings, Mrs. John Bradley (Florence Briggs Th...  female  38.0      1   \n",
       "2                             Heikkinen, Miss. Laina  female  26.0      0   \n",
       "3       Futrelle, Mrs. Jacques Heath (Lily May Peel)  female  35.0      1   \n",
       "4                           Allen, Mr. William Henry    male  35.0      0   \n",
       "\n",
       "   Parch            Ticket     Fare Cabin Embarked Title  \n",
       "0      0         A/5 21171   7.2500   NaN        S    Mr  \n",
       "1      0          PC 17599  71.2833   C85        C   Mrs  \n",
       "2      0  STON/O2. 3101282   7.9250   NaN        S  Miss  \n",
       "3      0            113803  53.1000  C123        S   Mrs  \n",
       "4      0            373450   8.0500   NaN        S    Mr  "
      ]
     },
     "execution_count": 26,
     "metadata": {},
     "output_type": "execute_result"
    }
   ],
   "source": [
    "# Create a new column 'Title' in the DataFrame 'dftitanic' to store extracted titles.\n",
    "# Apply a lambda function to each 'Name' value to search for a title using the regular expression pattern.\n",
    "# The pattern captures a title starting with an uppercase letter followed by lowercase letters, followed by a period and a space.\n",
    "# The extracted title is assigned to the 'Title' column.\n",
    "df['Title'] = df['Name'].apply(lambda x: re.search('([A-Z][a-z]+)\\. ', x).group(1))\n",
    "df.head()"
   ]
  },
  {
   "cell_type": "code",
   "execution_count": 27,
   "id": "4d595d7c",
   "metadata": {
    "execution": {
     "iopub.execute_input": "2023-08-20T08:18:20.332023Z",
     "iopub.status.busy": "2023-08-20T08:18:20.331666Z",
     "iopub.status.idle": "2023-08-20T08:18:20.339492Z",
     "shell.execute_reply": "2023-08-20T08:18:20.338538Z"
    },
    "papermill": {
     "duration": 0.040605,
     "end_time": "2023-08-20T08:18:20.341381",
     "exception": false,
     "start_time": "2023-08-20T08:18:20.300776",
     "status": "completed"
    },
    "tags": []
   },
   "outputs": [
    {
     "data": {
      "text/plain": [
       "Mr          517\n",
       "Miss        182\n",
       "Mrs         125\n",
       "Master       40\n",
       "Dr            7\n",
       "Rev           6\n",
       "Mlle          2\n",
       "Major         2\n",
       "Col           2\n",
       "Countess      1\n",
       "Capt          1\n",
       "Ms            1\n",
       "Sir           1\n",
       "Lady          1\n",
       "Mme           1\n",
       "Don           1\n",
       "Jonkheer      1\n",
       "Name: Title, dtype: int64"
      ]
     },
     "execution_count": 27,
     "metadata": {},
     "output_type": "execute_result"
    }
   ],
   "source": [
    "#Lets see the Extracted Title\n",
    "df['Title'].value_counts()"
   ]
  },
  {
   "cell_type": "markdown",
   "id": "47067e91",
   "metadata": {
    "papermill": {
     "duration": 0.028562,
     "end_time": "2023-08-20T08:18:20.398679",
     "exception": false,
     "start_time": "2023-08-20T08:18:20.370117",
     "status": "completed"
    },
    "tags": []
   },
   "source": [
    "The term *Mademoiselle* is a French familiar title, abbreviated **Mlle**, traditionally given to an unmarried woman. The equivalent in English is \"Miss\". However, the courtesy title \"Madame\" is accorded women where their marital status is unknown."
   ]
  },
  {
   "cell_type": "code",
   "execution_count": 28,
   "id": "5f0000a4",
   "metadata": {
    "execution": {
     "iopub.execute_input": "2023-08-20T08:18:20.458521Z",
     "iopub.status.busy": "2023-08-20T08:18:20.458125Z",
     "iopub.status.idle": "2023-08-20T08:18:20.463637Z",
     "shell.execute_reply": "2023-08-20T08:18:20.462633Z"
    },
    "papermill": {
     "duration": 0.037996,
     "end_time": "2023-08-20T08:18:20.465827",
     "exception": false,
     "start_time": "2023-08-20T08:18:20.427831",
     "status": "completed"
    },
    "tags": []
   },
   "outputs": [],
   "source": [
    "# Replace 'Mlle' with 'Miss' in the 'Title' column.\n",
    "df['Title'] = df['Title'].replace('Mlle', 'Miss')"
   ]
  },
  {
   "cell_type": "markdown",
   "id": "c552888c",
   "metadata": {
    "papermill": {
     "duration": 0.028434,
     "end_time": "2023-08-20T08:18:20.522692",
     "exception": false,
     "start_time": "2023-08-20T08:18:20.494258",
     "status": "completed"
    },
    "tags": []
   },
   "source": [
    "In France, one traditionally calls a young, unmarried woman Mademoiselle – Mlle for short – and an older, married woman _Madame_, whose abbreviation is **Mme**."
   ]
  },
  {
   "cell_type": "code",
   "execution_count": 29,
   "id": "70d13740",
   "metadata": {
    "execution": {
     "iopub.execute_input": "2023-08-20T08:18:20.581881Z",
     "iopub.status.busy": "2023-08-20T08:18:20.581475Z",
     "iopub.status.idle": "2023-08-20T08:18:20.587507Z",
     "shell.execute_reply": "2023-08-20T08:18:20.585896Z"
    },
    "papermill": {
     "duration": 0.038392,
     "end_time": "2023-08-20T08:18:20.589955",
     "exception": false,
     "start_time": "2023-08-20T08:18:20.551563",
     "status": "completed"
    },
    "tags": []
   },
   "outputs": [],
   "source": [
    "# Replace 'Mme' with 'Mrs' in the 'Title' column.\n",
    "df['Title'] = df['Title'].replace('Mme', 'Mrs')"
   ]
  },
  {
   "cell_type": "code",
   "execution_count": 30,
   "id": "c3c6f7f9",
   "metadata": {
    "execution": {
     "iopub.execute_input": "2023-08-20T08:18:20.651009Z",
     "iopub.status.busy": "2023-08-20T08:18:20.650053Z",
     "iopub.status.idle": "2023-08-20T08:18:20.656310Z",
     "shell.execute_reply": "2023-08-20T08:18:20.655080Z"
    },
    "papermill": {
     "duration": 0.038149,
     "end_time": "2023-08-20T08:18:20.658315",
     "exception": false,
     "start_time": "2023-08-20T08:18:20.620166",
     "status": "completed"
    },
    "tags": []
   },
   "outputs": [],
   "source": [
    " # Assign 'Others' to non-standard titles.\n",
    "df.loc[(~df['Title'].isin(['Mr', 'Mrs', 'Miss', 'Master'])), 'Title'] = 'Others'"
   ]
  },
  {
   "cell_type": "code",
   "execution_count": 31,
   "id": "55547dd8",
   "metadata": {
    "execution": {
     "iopub.execute_input": "2023-08-20T08:18:20.717533Z",
     "iopub.status.busy": "2023-08-20T08:18:20.716903Z",
     "iopub.status.idle": "2023-08-20T08:18:20.723469Z",
     "shell.execute_reply": "2023-08-20T08:18:20.722707Z"
    },
    "papermill": {
     "duration": 0.038445,
     "end_time": "2023-08-20T08:18:20.725127",
     "exception": false,
     "start_time": "2023-08-20T08:18:20.686682",
     "status": "completed"
    },
    "tags": []
   },
   "outputs": [
    {
     "data": {
      "text/plain": [
       "array(['Mr', 'Mrs', 'Miss', 'Master', 'Others'], dtype=object)"
      ]
     },
     "execution_count": 31,
     "metadata": {},
     "output_type": "execute_result"
    }
   ],
   "source": [
    "#Now lets See unique titles in dataset\n",
    "df['Title'].unique()"
   ]
  },
  {
   "cell_type": "code",
   "execution_count": 32,
   "id": "a1aeddbc",
   "metadata": {
    "execution": {
     "iopub.execute_input": "2023-08-20T08:18:20.785912Z",
     "iopub.status.busy": "2023-08-20T08:18:20.784895Z",
     "iopub.status.idle": "2023-08-20T08:18:20.991382Z",
     "shell.execute_reply": "2023-08-20T08:18:20.990119Z"
    },
    "papermill": {
     "duration": 0.239383,
     "end_time": "2023-08-20T08:18:20.993919",
     "exception": false,
     "start_time": "2023-08-20T08:18:20.754536",
     "status": "completed"
    },
    "tags": []
   },
   "outputs": [
    {
     "data": {
      "image/png": "[encoded data removed]",
      "text/plain": [
       "<Figure size 640x480 with 1 Axes>"
      ]
     },
     "metadata": {},
     "output_type": "display_data"
    }
   ],
   "source": [
    " # Visualize survival counts for different titles.\n",
    "sns.countplot(data=df, x='Title', hue='Survived');"
   ]
  },
  {
   "cell_type": "markdown",
   "id": "72550a14",
   "metadata": {
    "papermill": {
     "duration": 0.029965,
     "end_time": "2023-08-20T08:18:21.052910",
     "exception": false,
     "start_time": "2023-08-20T08:18:21.022945",
     "status": "completed"
    },
    "tags": []
   },
   "source": [
    "**Figure_8:** Shows the survival counts for different titles.\n",
    "\n",
    "### Observation Set 04:\n",
    "\n",
    "This distribution of survival outcomes across various titles in the dataset. It allows us to see how many individuals with each title survived or did not survive. Titles like 'Mr' generally show a higher number of non-survivors, while 'Miss' and 'Mrs' exhibit a more balanced survival distribution. The plot helps in understanding the relationship between social status (indicated by titles) and survival outcomes among Titanic passengers.\n"
   ]
  },
  {
   "cell_type": "markdown",
   "id": "34e42584",
   "metadata": {
    "papermill": {
     "duration": 0.028479,
     "end_time": "2023-08-20T08:18:21.110963",
     "exception": false,
     "start_time": "2023-08-20T08:18:21.082484",
     "status": "completed"
    },
    "tags": []
   },
   "source": [
    "## 8.3 Travelling Alone vs Groups"
   ]
  },
  {
   "cell_type": "markdown",
   "id": "bb3c8ea9",
   "metadata": {
    "papermill": {
     "duration": 0.028084,
     "end_time": "2023-08-20T08:18:21.168101",
     "exception": false,
     "start_time": "2023-08-20T08:18:21.140017",
     "status": "completed"
    },
    "tags": []
   },
   "source": [
    "### 8.3.1 Family Size"
   ]
  },
  {
   "cell_type": "code",
   "execution_count": 33,
   "id": "3c4f6537",
   "metadata": {
    "execution": {
     "iopub.execute_input": "2023-08-20T08:18:21.227007Z",
     "iopub.status.busy": "2023-08-20T08:18:21.226650Z",
     "iopub.status.idle": "2023-08-20T08:18:21.232166Z",
     "shell.execute_reply": "2023-08-20T08:18:21.231229Z"
    },
    "papermill": {
     "duration": 0.037528,
     "end_time": "2023-08-20T08:18:21.233970",
     "exception": false,
     "start_time": "2023-08-20T08:18:21.196442",
     "status": "completed"
    },
    "tags": []
   },
   "outputs": [],
   "source": [
    "# Create family size 'Fsize' column by summing siblings,spouses, and parents/children counts.\n",
    "df['Fsize'] = df['SibSp'] + df['Parch']+1"
   ]
  },
  {
   "cell_type": "markdown",
   "id": "db3ae3c2",
   "metadata": {
    "papermill": {
     "duration": 0.028068,
     "end_time": "2023-08-20T08:18:21.290852",
     "exception": false,
     "start_time": "2023-08-20T08:18:21.262784",
     "status": "completed"
    },
    "tags": []
   },
   "source": [
    "Lets Show the countplot on column **'Fsize'** and check how many people are survived and died."
   ]
  },
  {
   "cell_type": "code",
   "execution_count": 34,
   "id": "227c54af",
   "metadata": {
    "execution": {
     "iopub.execute_input": "2023-08-20T08:18:21.352635Z",
     "iopub.status.busy": "2023-08-20T08:18:21.352243Z",
     "iopub.status.idle": "2023-08-20T08:18:21.360524Z",
     "shell.execute_reply": "2023-08-20T08:18:21.358757Z"
    },
    "papermill": {
     "duration": 0.043504,
     "end_time": "2023-08-20T08:18:21.362929",
     "exception": false,
     "start_time": "2023-08-20T08:18:21.319425",
     "status": "completed"
    },
    "tags": []
   },
   "outputs": [
    {
     "data": {
      "text/plain": [
       "Index(['PassengerId', 'Survived', 'Pclass', 'Name', 'Sex', 'Age', 'SibSp',\n",
       "       'Parch', 'Ticket', 'Fare', 'Cabin', 'Embarked', 'Title', 'Fsize'],\n",
       "      dtype='object')"
      ]
     },
     "execution_count": 34,
     "metadata": {},
     "output_type": "execute_result"
    }
   ],
   "source": [
    "df.columns"
   ]
  },
  {
   "cell_type": "code",
   "execution_count": 35,
   "id": "cd99a1a7",
   "metadata": {
    "execution": {
     "iopub.execute_input": "2023-08-20T08:18:21.423472Z",
     "iopub.status.busy": "2023-08-20T08:18:21.423082Z",
     "iopub.status.idle": "2023-08-20T08:18:21.675678Z",
     "shell.execute_reply": "2023-08-20T08:18:21.674671Z"
    },
    "papermill": {
     "duration": 0.285313,
     "end_time": "2023-08-20T08:18:21.677732",
     "exception": false,
     "start_time": "2023-08-20T08:18:21.392419",
     "status": "completed"
    },
    "tags": []
   },
   "outputs": [
    {
     "data": {
      "image/png": "[encoded data removed]",
      "text/plain": [
       "<Figure size 640x480 with 1 Axes>"
      ]
     },
     "metadata": {},
     "output_type": "display_data"
    }
   ],
   "source": [
    "# Lets See the survival counts based on family size.\n",
    "sns.countplot(x = 'Fsize',hue='Survived', data =df, dodge=False );"
   ]
  },
  {
   "cell_type": "markdown",
   "id": "362dec4e",
   "metadata": {
    "papermill": {
     "duration": 0.029419,
     "end_time": "2023-08-20T08:18:21.736051",
     "exception": false,
     "start_time": "2023-08-20T08:18:21.706632",
     "status": "completed"
    },
    "tags": []
   },
   "source": [
    "**Figure_9:**  Shows the survival counts based on family size."
   ]
  },
  {
   "cell_type": "code",
   "execution_count": 36,
   "id": "a58a76f6",
   "metadata": {
    "execution": {
     "iopub.execute_input": "2023-08-20T08:18:21.796892Z",
     "iopub.status.busy": "2023-08-20T08:18:21.796380Z",
     "iopub.status.idle": "2023-08-20T08:18:21.802234Z",
     "shell.execute_reply": "2023-08-20T08:18:21.801075Z"
    },
    "papermill": {
     "duration": 0.038516,
     "end_time": "2023-08-20T08:18:21.804478",
     "exception": false,
     "start_time": "2023-08-20T08:18:21.765962",
     "status": "completed"
    },
    "tags": []
   },
   "outputs": [],
   "source": [
    "# Lets Create a DataFrame 'temp_1' containing rows with family size of 4.\n",
    "temp_1 = df.loc[df['Fsize']==4 ,:]"
   ]
  },
  {
   "cell_type": "code",
   "execution_count": 37,
   "id": "2d4bbbb4",
   "metadata": {
    "execution": {
     "iopub.execute_input": "2023-08-20T08:18:21.864536Z",
     "iopub.status.busy": "2023-08-20T08:18:21.863975Z",
     "iopub.status.idle": "2023-08-20T08:18:22.091039Z",
     "shell.execute_reply": "2023-08-20T08:18:22.090177Z"
    },
    "papermill": {
     "duration": 0.259535,
     "end_time": "2023-08-20T08:18:22.093273",
     "exception": false,
     "start_time": "2023-08-20T08:18:21.833738",
     "status": "completed"
    },
    "tags": []
   },
   "outputs": [
    {
     "data": {
      "image/png": "[encoded data removed]",
      "text/plain": [
       "<Figure size 1500x800 with 1 Axes>"
      ]
     },
     "metadata": {},
     "output_type": "display_data"
    }
   ],
   "source": [
    "plt.figure(figsize=(15,8));\n",
    "sns.countplot(data=temp_1,x='Sex', hue='Survived', dodge=True);"
   ]
  },
  {
   "cell_type": "markdown",
   "id": "778e895d",
   "metadata": {
    "papermill": {
     "duration": 0.03,
     "end_time": "2023-08-20T08:18:22.153615",
     "exception": false,
     "start_time": "2023-08-20T08:18:22.123615",
     "status": "completed"
    },
    "tags": []
   },
   "source": [
    "**Figure_10:**  Shows the survival counts based on family size 4."
   ]
  },
  {
   "cell_type": "code",
   "execution_count": 38,
   "id": "0209f71c",
   "metadata": {
    "execution": {
     "iopub.execute_input": "2023-08-20T08:18:22.215200Z",
     "iopub.status.busy": "2023-08-20T08:18:22.214668Z",
     "iopub.status.idle": "2023-08-20T08:18:22.232114Z",
     "shell.execute_reply": "2023-08-20T08:18:22.230885Z"
    },
    "papermill": {
     "duration": 0.050859,
     "end_time": "2023-08-20T08:18:22.234347",
     "exception": false,
     "start_time": "2023-08-20T08:18:22.183488",
     "status": "completed"
    },
    "tags": []
   },
   "outputs": [
    {
     "data": {
      "text/html": [
       "<div>\n",
       "<style scoped>\n",
       "    .dataframe tbody tr th:only-of-type {\n",
       "        vertical-align: middle;\n",
       "    }\n",
       "\n",
       "    .dataframe tbody tr th {\n",
       "        vertical-align: top;\n",
       "    }\n",
       "\n",
       "    .dataframe thead th {\n",
       "        text-align: right;\n",
       "    }\n",
       "</style>\n",
       "<table border=\"1\" class=\"dataframe\">\n",
       "  <thead>\n",
       "    <tr style=\"text-align: right;\">\n",
       "      <th></th>\n",
       "      <th>Fsize</th>\n",
       "      <th>Survived</th>\n",
       "      <th>perc</th>\n",
       "    </tr>\n",
       "  </thead>\n",
       "  <tbody>\n",
       "    <tr>\n",
       "      <th>0</th>\n",
       "      <td>1</td>\n",
       "      <td>0</td>\n",
       "      <td>0.696462</td>\n",
       "    </tr>\n",
       "    <tr>\n",
       "      <th>1</th>\n",
       "      <td>1</td>\n",
       "      <td>1</td>\n",
       "      <td>0.303538</td>\n",
       "    </tr>\n",
       "    <tr>\n",
       "      <th>2</th>\n",
       "      <td>2</td>\n",
       "      <td>1</td>\n",
       "      <td>0.552795</td>\n",
       "    </tr>\n",
       "    <tr>\n",
       "      <th>3</th>\n",
       "      <td>2</td>\n",
       "      <td>0</td>\n",
       "      <td>0.447205</td>\n",
       "    </tr>\n",
       "    <tr>\n",
       "      <th>4</th>\n",
       "      <td>3</td>\n",
       "      <td>1</td>\n",
       "      <td>0.578431</td>\n",
       "    </tr>\n",
       "    <tr>\n",
       "      <th>5</th>\n",
       "      <td>3</td>\n",
       "      <td>0</td>\n",
       "      <td>0.421569</td>\n",
       "    </tr>\n",
       "    <tr>\n",
       "      <th>6</th>\n",
       "      <td>4</td>\n",
       "      <td>1</td>\n",
       "      <td>0.724138</td>\n",
       "    </tr>\n",
       "    <tr>\n",
       "      <th>7</th>\n",
       "      <td>4</td>\n",
       "      <td>0</td>\n",
       "      <td>0.275862</td>\n",
       "    </tr>\n",
       "    <tr>\n",
       "      <th>8</th>\n",
       "      <td>5</td>\n",
       "      <td>0</td>\n",
       "      <td>0.800000</td>\n",
       "    </tr>\n",
       "    <tr>\n",
       "      <th>9</th>\n",
       "      <td>5</td>\n",
       "      <td>1</td>\n",
       "      <td>0.200000</td>\n",
       "    </tr>\n",
       "    <tr>\n",
       "      <th>10</th>\n",
       "      <td>6</td>\n",
       "      <td>0</td>\n",
       "      <td>0.863636</td>\n",
       "    </tr>\n",
       "    <tr>\n",
       "      <th>11</th>\n",
       "      <td>6</td>\n",
       "      <td>1</td>\n",
       "      <td>0.136364</td>\n",
       "    </tr>\n",
       "    <tr>\n",
       "      <th>12</th>\n",
       "      <td>7</td>\n",
       "      <td>0</td>\n",
       "      <td>0.666667</td>\n",
       "    </tr>\n",
       "    <tr>\n",
       "      <th>13</th>\n",
       "      <td>7</td>\n",
       "      <td>1</td>\n",
       "      <td>0.333333</td>\n",
       "    </tr>\n",
       "    <tr>\n",
       "      <th>14</th>\n",
       "      <td>8</td>\n",
       "      <td>0</td>\n",
       "      <td>1.000000</td>\n",
       "    </tr>\n",
       "    <tr>\n",
       "      <th>15</th>\n",
       "      <td>11</td>\n",
       "      <td>0</td>\n",
       "      <td>1.000000</td>\n",
       "    </tr>\n",
       "  </tbody>\n",
       "</table>\n",
       "</div>"
      ],
      "text/plain": [
       "    Fsize  Survived      perc\n",
       "0       1         0  0.696462\n",
       "1       1         1  0.303538\n",
       "2       2         1  0.552795\n",
       "3       2         0  0.447205\n",
       "4       3         1  0.578431\n",
       "5       3         0  0.421569\n",
       "6       4         1  0.724138\n",
       "7       4         0  0.275862\n",
       "8       5         0  0.800000\n",
       "9       5         1  0.200000\n",
       "10      6         0  0.863636\n",
       "11      6         1  0.136364\n",
       "12      7         0  0.666667\n",
       "13      7         1  0.333333\n",
       "14      8         0  1.000000\n",
       "15     11         0  1.000000"
      ]
     },
     "execution_count": 38,
     "metadata": {},
     "output_type": "execute_result"
    }
   ],
   "source": [
    "# Group data by family size and survival, calculate normalized counts, and create a new DataFrame with percentage values.\n",
    "df.groupby('Fsize')['Survived'].value_counts(normalize=True).reset_index(name='perc')"
   ]
  },
  {
   "cell_type": "code",
   "execution_count": 39,
   "id": "affb1995",
   "metadata": {
    "execution": {
     "iopub.execute_input": "2023-08-20T08:18:22.296042Z",
     "iopub.status.busy": "2023-08-20T08:18:22.295716Z",
     "iopub.status.idle": "2023-08-20T08:18:22.602754Z",
     "shell.execute_reply": "2023-08-20T08:18:22.601856Z"
    },
    "papermill": {
     "duration": 0.340504,
     "end_time": "2023-08-20T08:18:22.604829",
     "exception": false,
     "start_time": "2023-08-20T08:18:22.264325",
     "status": "completed"
    },
    "tags": []
   },
   "outputs": [
    {
     "data": {
      "image/png": "[encoded data removed]",
      "text/plain": [
       "<Figure size 1500x600 with 1 Axes>"
      ]
     },
     "metadata": {},
     "output_type": "display_data"
    }
   ],
   "source": [
    "# Group data by family size and survival, calculate normalized counts, and create a DataFrame 'temp'.\n",
    "# Visualize survival percentages based on family size using a bar plot.\n",
    "\n",
    "temp = df.groupby('Fsize')['Survived'].value_counts(normalize=True).reset_index(name='Perc')\n",
    "\n",
    "plt.figure(figsize=(15,6));\n",
    "sns.barplot(data=temp,x='Fsize', y='Perc', hue='Survived', dodge=True);"
   ]
  },
  {
   "cell_type": "markdown",
   "id": "ae09ecb7",
   "metadata": {
    "papermill": {
     "duration": 0.029208,
     "end_time": "2023-08-20T08:18:22.665141",
     "exception": false,
     "start_time": "2023-08-20T08:18:22.635933",
     "status": "completed"
    },
    "tags": []
   },
   "source": [
    "**Figure_11:**  Shows the survival percentages based on family size using a bar plot."
   ]
  },
  {
   "cell_type": "markdown",
   "id": "22ad29b4",
   "metadata": {
    "papermill": {
     "duration": 0.029411,
     "end_time": "2023-08-20T08:18:22.723869",
     "exception": false,
     "start_time": "2023-08-20T08:18:22.694458",
     "status": "completed"
    },
    "tags": []
   },
   "source": [
    "### 8.3.2 How many people booked together?\n",
    "\n",
    "Apart from families, there could be groups of friends travelling together."
   ]
  },
  {
   "cell_type": "code",
   "execution_count": 40,
   "id": "2838bdcd",
   "metadata": {
    "execution": {
     "iopub.execute_input": "2023-08-20T08:18:22.785555Z",
     "iopub.status.busy": "2023-08-20T08:18:22.785174Z",
     "iopub.status.idle": "2023-08-20T08:18:22.791960Z",
     "shell.execute_reply": "2023-08-20T08:18:22.791269Z"
    },
    "papermill": {
     "duration": 0.039676,
     "end_time": "2023-08-20T08:18:22.793577",
     "exception": false,
     "start_time": "2023-08-20T08:18:22.753901",
     "status": "completed"
    },
    "tags": []
   },
   "outputs": [
    {
     "data": {
      "text/plain": [
       "347082      7\n",
       "CA. 2343    7\n",
       "1601        7\n",
       "3101295     6\n",
       "CA 2144     6\n",
       "Name: Ticket, dtype: int64"
      ]
     },
     "execution_count": 40,
     "metadata": {},
     "output_type": "execute_result"
    }
   ],
   "source": [
    "# Display the top occurrences of tickets in the dataset.\n",
    "df['Ticket'].value_counts().head()"
   ]
  },
  {
   "cell_type": "markdown",
   "id": "fb30f5f7",
   "metadata": {
    "papermill": {
     "duration": 0.029576,
     "end_time": "2023-08-20T08:18:22.852957",
     "exception": false,
     "start_time": "2023-08-20T08:18:22.823381",
     "status": "completed"
    },
    "tags": []
   },
   "source": [
    "**reset_index()** is a method to reset index of a Data Frame. **reset_index()** method sets a list of integer ranging from 0 to length of data as index."
   ]
  },
  {
   "cell_type": "code",
   "execution_count": 41,
   "id": "95c46aa0",
   "metadata": {
    "execution": {
     "iopub.execute_input": "2023-08-20T08:18:22.914453Z",
     "iopub.status.busy": "2023-08-20T08:18:22.914077Z",
     "iopub.status.idle": "2023-08-20T08:18:22.924617Z",
     "shell.execute_reply": "2023-08-20T08:18:22.923572Z"
    },
    "papermill": {
     "duration": 0.043981,
     "end_time": "2023-08-20T08:18:22.926851",
     "exception": false,
     "start_time": "2023-08-20T08:18:22.882870",
     "status": "completed"
    },
    "tags": []
   },
   "outputs": [
    {
     "data": {
      "text/html": [
       "<div>\n",
       "<style scoped>\n",
       "    .dataframe tbody tr th:only-of-type {\n",
       "        vertical-align: middle;\n",
       "    }\n",
       "\n",
       "    .dataframe tbody tr th {\n",
       "        vertical-align: top;\n",
       "    }\n",
       "\n",
       "    .dataframe thead th {\n",
       "        text-align: right;\n",
       "    }\n",
       "</style>\n",
       "<table border=\"1\" class=\"dataframe\">\n",
       "  <thead>\n",
       "    <tr style=\"text-align: right;\">\n",
       "      <th></th>\n",
       "      <th>index</th>\n",
       "      <th>Ticket</th>\n",
       "    </tr>\n",
       "  </thead>\n",
       "  <tbody>\n",
       "    <tr>\n",
       "      <th>0</th>\n",
       "      <td>347082</td>\n",
       "      <td>7</td>\n",
       "    </tr>\n",
       "    <tr>\n",
       "      <th>1</th>\n",
       "      <td>CA. 2343</td>\n",
       "      <td>7</td>\n",
       "    </tr>\n",
       "    <tr>\n",
       "      <th>2</th>\n",
       "      <td>1601</td>\n",
       "      <td>7</td>\n",
       "    </tr>\n",
       "    <tr>\n",
       "      <th>3</th>\n",
       "      <td>3101295</td>\n",
       "      <td>6</td>\n",
       "    </tr>\n",
       "    <tr>\n",
       "      <th>4</th>\n",
       "      <td>CA 2144</td>\n",
       "      <td>6</td>\n",
       "    </tr>\n",
       "  </tbody>\n",
       "</table>\n",
       "</div>"
      ],
      "text/plain": [
       "      index  Ticket\n",
       "0    347082       7\n",
       "1  CA. 2343       7\n",
       "2      1601       7\n",
       "3   3101295       6\n",
       "4   CA 2144       6"
      ]
     },
     "execution_count": 41,
     "metadata": {},
     "output_type": "execute_result"
    }
   ],
   "source": [
    "# Display the top occurrences of tickets in the dataset as a DataFrame.\n",
    "df['Ticket'].value_counts().reset_index().head()"
   ]
  },
  {
   "cell_type": "code",
   "execution_count": 42,
   "id": "997d03ff",
   "metadata": {
    "execution": {
     "iopub.execute_input": "2023-08-20T08:18:22.989742Z",
     "iopub.status.busy": "2023-08-20T08:18:22.989156Z",
     "iopub.status.idle": "2023-08-20T08:18:22.994996Z",
     "shell.execute_reply": "2023-08-20T08:18:22.993998Z"
    },
    "papermill": {
     "duration": 0.040003,
     "end_time": "2023-08-20T08:18:22.997158",
     "exception": false,
     "start_time": "2023-08-20T08:18:22.957155",
     "status": "completed"
    },
    "tags": []
   },
   "outputs": [],
   "source": [
    "# Create a DataFrame 'temp' with ticket counts.\n",
    "temp = df['Ticket'].value_counts().reset_index(name='Tsize')"
   ]
  },
  {
   "cell_type": "code",
   "execution_count": 43,
   "id": "8454011d",
   "metadata": {
    "execution": {
     "iopub.execute_input": "2023-08-20T08:18:23.060325Z",
     "iopub.status.busy": "2023-08-20T08:18:23.059647Z",
     "iopub.status.idle": "2023-08-20T08:18:23.074466Z",
     "shell.execute_reply": "2023-08-20T08:18:23.073588Z"
    },
    "papermill": {
     "duration": 0.048798,
     "end_time": "2023-08-20T08:18:23.076327",
     "exception": false,
     "start_time": "2023-08-20T08:18:23.027529",
     "status": "completed"
    },
    "tags": []
   },
   "outputs": [
    {
     "data": {
      "text/html": [
       "<div>\n",
       "<style scoped>\n",
       "    .dataframe tbody tr th:only-of-type {\n",
       "        vertical-align: middle;\n",
       "    }\n",
       "\n",
       "    .dataframe tbody tr th {\n",
       "        vertical-align: top;\n",
       "    }\n",
       "\n",
       "    .dataframe thead th {\n",
       "        text-align: right;\n",
       "    }\n",
       "</style>\n",
       "<table border=\"1\" class=\"dataframe\">\n",
       "  <thead>\n",
       "    <tr style=\"text-align: right;\">\n",
       "      <th></th>\n",
       "      <th>PassengerId</th>\n",
       "      <th>Survived</th>\n",
       "      <th>Pclass</th>\n",
       "      <th>Name</th>\n",
       "      <th>Sex</th>\n",
       "      <th>Age</th>\n",
       "      <th>SibSp</th>\n",
       "      <th>Parch</th>\n",
       "      <th>Ticket</th>\n",
       "      <th>Fare</th>\n",
       "      <th>Cabin</th>\n",
       "      <th>Embarked</th>\n",
       "      <th>Title</th>\n",
       "      <th>Fsize</th>\n",
       "    </tr>\n",
       "  </thead>\n",
       "  <tbody>\n",
       "    <tr>\n",
       "      <th>0</th>\n",
       "      <td>1</td>\n",
       "      <td>0</td>\n",
       "      <td>3</td>\n",
       "      <td>Braund, Mr. Owen Harris</td>\n",
       "      <td>male</td>\n",
       "      <td>22.0</td>\n",
       "      <td>1</td>\n",
       "      <td>0</td>\n",
       "      <td>A/5 21171</td>\n",
       "      <td>7.2500</td>\n",
       "      <td>NaN</td>\n",
       "      <td>S</td>\n",
       "      <td>Mr</td>\n",
       "      <td>2</td>\n",
       "    </tr>\n",
       "    <tr>\n",
       "      <th>1</th>\n",
       "      <td>2</td>\n",
       "      <td>1</td>\n",
       "      <td>1</td>\n",
       "      <td>Cumings, Mrs. John Bradley (Florence Briggs Th...</td>\n",
       "      <td>female</td>\n",
       "      <td>38.0</td>\n",
       "      <td>1</td>\n",
       "      <td>0</td>\n",
       "      <td>PC 17599</td>\n",
       "      <td>71.2833</td>\n",
       "      <td>C85</td>\n",
       "      <td>C</td>\n",
       "      <td>Mrs</td>\n",
       "      <td>2</td>\n",
       "    </tr>\n",
       "    <tr>\n",
       "      <th>2</th>\n",
       "      <td>3</td>\n",
       "      <td>1</td>\n",
       "      <td>3</td>\n",
       "      <td>Heikkinen, Miss. Laina</td>\n",
       "      <td>female</td>\n",
       "      <td>26.0</td>\n",
       "      <td>0</td>\n",
       "      <td>0</td>\n",
       "      <td>STON/O2. 3101282</td>\n",
       "      <td>7.9250</td>\n",
       "      <td>NaN</td>\n",
       "      <td>S</td>\n",
       "      <td>Miss</td>\n",
       "      <td>1</td>\n",
       "    </tr>\n",
       "    <tr>\n",
       "      <th>3</th>\n",
       "      <td>4</td>\n",
       "      <td>1</td>\n",
       "      <td>1</td>\n",
       "      <td>Futrelle, Mrs. Jacques Heath (Lily May Peel)</td>\n",
       "      <td>female</td>\n",
       "      <td>35.0</td>\n",
       "      <td>1</td>\n",
       "      <td>0</td>\n",
       "      <td>113803</td>\n",
       "      <td>53.1000</td>\n",
       "      <td>C123</td>\n",
       "      <td>S</td>\n",
       "      <td>Mrs</td>\n",
       "      <td>2</td>\n",
       "    </tr>\n",
       "    <tr>\n",
       "      <th>4</th>\n",
       "      <td>5</td>\n",
       "      <td>0</td>\n",
       "      <td>3</td>\n",
       "      <td>Allen, Mr. William Henry</td>\n",
       "      <td>male</td>\n",
       "      <td>35.0</td>\n",
       "      <td>0</td>\n",
       "      <td>0</td>\n",
       "      <td>373450</td>\n",
       "      <td>8.0500</td>\n",
       "      <td>NaN</td>\n",
       "      <td>S</td>\n",
       "      <td>Mr</td>\n",
       "      <td>1</td>\n",
       "    </tr>\n",
       "  </tbody>\n",
       "</table>\n",
       "</div>"
      ],
      "text/plain": [
       "   PassengerId  Survived  Pclass  \\\n",
       "0            1         0       3   \n",
       "1            2         1       1   \n",
       "2            3         1       3   \n",
       "3            4         1       1   \n",
       "4            5         0       3   \n",
       "\n",
       "                                                Name     Sex   Age  SibSp  \\\n",
       "0                            Braund, Mr. Owen Harris    male  22.0      1   \n",
       "1  Cumings, Mrs. John Bradley (Florence Briggs Th...  female  38.0      1   \n",
       "2                             Heikkinen, Miss. Laina  female  26.0      0   \n",
       "3       Futrelle, Mrs. Jacques Heath (Lily May Peel)  female  35.0      1   \n",
       "4                           Allen, Mr. William Henry    male  35.0      0   \n",
       "\n",
       "   Parch            Ticket     Fare Cabin Embarked Title  Fsize  \n",
       "0      0         A/5 21171   7.2500   NaN        S    Mr      2  \n",
       "1      0          PC 17599  71.2833   C85        C   Mrs      2  \n",
       "2      0  STON/O2. 3101282   7.9250   NaN        S  Miss      1  \n",
       "3      0            113803  53.1000  C123        S   Mrs      2  \n",
       "4      0            373450   8.0500   NaN        S    Mr      1  "
      ]
     },
     "execution_count": 43,
     "metadata": {},
     "output_type": "execute_result"
    }
   ],
   "source": [
    "df.head()"
   ]
  },
  {
   "cell_type": "code",
   "execution_count": 44,
   "id": "f1cee35d",
   "metadata": {
    "execution": {
     "iopub.execute_input": "2023-08-20T08:18:23.139801Z",
     "iopub.status.busy": "2023-08-20T08:18:23.139101Z",
     "iopub.status.idle": "2023-08-20T08:18:23.164684Z",
     "shell.execute_reply": "2023-08-20T08:18:23.163507Z"
    },
    "papermill": {
     "duration": 0.05998,
     "end_time": "2023-08-20T08:18:23.166844",
     "exception": false,
     "start_time": "2023-08-20T08:18:23.106864",
     "status": "completed"
    },
    "tags": []
   },
   "outputs": [
    {
     "data": {
      "text/html": [
       "<div>\n",
       "<style scoped>\n",
       "    .dataframe tbody tr th:only-of-type {\n",
       "        vertical-align: middle;\n",
       "    }\n",
       "\n",
       "    .dataframe tbody tr th {\n",
       "        vertical-align: top;\n",
       "    }\n",
       "\n",
       "    .dataframe thead th {\n",
       "        text-align: right;\n",
       "    }\n",
       "</style>\n",
       "<table border=\"1\" class=\"dataframe\">\n",
       "  <thead>\n",
       "    <tr style=\"text-align: right;\">\n",
       "      <th></th>\n",
       "      <th>PassengerId</th>\n",
       "      <th>Survived</th>\n",
       "      <th>Pclass</th>\n",
       "      <th>Name</th>\n",
       "      <th>Sex</th>\n",
       "      <th>Age</th>\n",
       "      <th>SibSp</th>\n",
       "      <th>Parch</th>\n",
       "      <th>Ticket</th>\n",
       "      <th>Fare</th>\n",
       "      <th>Cabin</th>\n",
       "      <th>Embarked</th>\n",
       "      <th>Title</th>\n",
       "      <th>Fsize</th>\n",
       "      <th>Tsize</th>\n",
       "    </tr>\n",
       "  </thead>\n",
       "  <tbody>\n",
       "    <tr>\n",
       "      <th>0</th>\n",
       "      <td>1</td>\n",
       "      <td>0</td>\n",
       "      <td>3</td>\n",
       "      <td>Braund, Mr. Owen Harris</td>\n",
       "      <td>male</td>\n",
       "      <td>22.0</td>\n",
       "      <td>1</td>\n",
       "      <td>0</td>\n",
       "      <td>A/5 21171</td>\n",
       "      <td>7.2500</td>\n",
       "      <td>NaN</td>\n",
       "      <td>S</td>\n",
       "      <td>Mr</td>\n",
       "      <td>2</td>\n",
       "      <td>1</td>\n",
       "    </tr>\n",
       "    <tr>\n",
       "      <th>1</th>\n",
       "      <td>2</td>\n",
       "      <td>1</td>\n",
       "      <td>1</td>\n",
       "      <td>Cumings, Mrs. John Bradley (Florence Briggs Th...</td>\n",
       "      <td>female</td>\n",
       "      <td>38.0</td>\n",
       "      <td>1</td>\n",
       "      <td>0</td>\n",
       "      <td>PC 17599</td>\n",
       "      <td>71.2833</td>\n",
       "      <td>C85</td>\n",
       "      <td>C</td>\n",
       "      <td>Mrs</td>\n",
       "      <td>2</td>\n",
       "      <td>1</td>\n",
       "    </tr>\n",
       "    <tr>\n",
       "      <th>2</th>\n",
       "      <td>3</td>\n",
       "      <td>1</td>\n",
       "      <td>3</td>\n",
       "      <td>Heikkinen, Miss. Laina</td>\n",
       "      <td>female</td>\n",
       "      <td>26.0</td>\n",
       "      <td>0</td>\n",
       "      <td>0</td>\n",
       "      <td>STON/O2. 3101282</td>\n",
       "      <td>7.9250</td>\n",
       "      <td>NaN</td>\n",
       "      <td>S</td>\n",
       "      <td>Miss</td>\n",
       "      <td>1</td>\n",
       "      <td>1</td>\n",
       "    </tr>\n",
       "    <tr>\n",
       "      <th>3</th>\n",
       "      <td>4</td>\n",
       "      <td>1</td>\n",
       "      <td>1</td>\n",
       "      <td>Futrelle, Mrs. Jacques Heath (Lily May Peel)</td>\n",
       "      <td>female</td>\n",
       "      <td>35.0</td>\n",
       "      <td>1</td>\n",
       "      <td>0</td>\n",
       "      <td>113803</td>\n",
       "      <td>53.1000</td>\n",
       "      <td>C123</td>\n",
       "      <td>S</td>\n",
       "      <td>Mrs</td>\n",
       "      <td>2</td>\n",
       "      <td>2</td>\n",
       "    </tr>\n",
       "    <tr>\n",
       "      <th>4</th>\n",
       "      <td>138</td>\n",
       "      <td>0</td>\n",
       "      <td>1</td>\n",
       "      <td>Futrelle, Mr. Jacques Heath</td>\n",
       "      <td>male</td>\n",
       "      <td>37.0</td>\n",
       "      <td>1</td>\n",
       "      <td>0</td>\n",
       "      <td>113803</td>\n",
       "      <td>53.1000</td>\n",
       "      <td>C123</td>\n",
       "      <td>S</td>\n",
       "      <td>Mr</td>\n",
       "      <td>2</td>\n",
       "      <td>2</td>\n",
       "    </tr>\n",
       "  </tbody>\n",
       "</table>\n",
       "</div>"
      ],
      "text/plain": [
       "   PassengerId  Survived  Pclass  \\\n",
       "0            1         0       3   \n",
       "1            2         1       1   \n",
       "2            3         1       3   \n",
       "3            4         1       1   \n",
       "4          138         0       1   \n",
       "\n",
       "                                                Name     Sex   Age  SibSp  \\\n",
       "0                            Braund, Mr. Owen Harris    male  22.0      1   \n",
       "1  Cumings, Mrs. John Bradley (Florence Briggs Th...  female  38.0      1   \n",
       "2                             Heikkinen, Miss. Laina  female  26.0      0   \n",
       "3       Futrelle, Mrs. Jacques Heath (Lily May Peel)  female  35.0      1   \n",
       "4                        Futrelle, Mr. Jacques Heath    male  37.0      1   \n",
       "\n",
       "   Parch            Ticket     Fare Cabin Embarked Title  Fsize  Tsize  \n",
       "0      0         A/5 21171   7.2500   NaN        S    Mr      2      1  \n",
       "1      0          PC 17599  71.2833   C85        C   Mrs      2      1  \n",
       "2      0  STON/O2. 3101282   7.9250   NaN        S  Miss      1      1  \n",
       "3      0            113803  53.1000  C123        S   Mrs      2      2  \n",
       "4      0            113803  53.1000  C123        S    Mr      2      2  "
      ]
     },
     "execution_count": 44,
     "metadata": {},
     "output_type": "execute_result"
    }
   ],
   "source": [
    "# Merge ticket counts from 'temp' into 'dftitanic' based on 'Ticket' and remove the extra 'index' column.\n",
    "df = df.merge(temp, left_on='Ticket', right_on='index', how='inner').drop('index', axis=1)\n",
    "df.head()  "
   ]
  },
  {
   "cell_type": "code",
   "execution_count": 45,
   "id": "e15706a8",
   "metadata": {
    "execution": {
     "iopub.execute_input": "2023-08-20T08:18:23.230110Z",
     "iopub.status.busy": "2023-08-20T08:18:23.229763Z",
     "iopub.status.idle": "2023-08-20T08:18:23.468599Z",
     "shell.execute_reply": "2023-08-20T08:18:23.467098Z"
    },
    "papermill": {
     "duration": 0.272941,
     "end_time": "2023-08-20T08:18:23.470784",
     "exception": false,
     "start_time": "2023-08-20T08:18:23.197843",
     "status": "completed"
    },
    "tags": []
   },
   "outputs": [
    {
     "data": {
      "image/png": "[encoded data removed]",
      "text/plain": [
       "<Figure size 640x480 with 1 Axes>"
      ]
     },
     "metadata": {},
     "output_type": "display_data"
    }
   ],
   "source": [
    "# Visualize survival counts based on ticket size.\n",
    "sns.countplot(data=df, x='Tsize', hue='Survived');  "
   ]
  },
  {
   "cell_type": "markdown",
   "id": "ef14a107",
   "metadata": {
    "papermill": {
     "duration": 0.030948,
     "end_time": "2023-08-20T08:18:23.532562",
     "exception": false,
     "start_time": "2023-08-20T08:18:23.501614",
     "status": "completed"
    },
    "tags": []
   },
   "source": [
    "**Figure_11:**  Visualize survival counts based on ticket size.\n",
    "\n",
    "Show the countplot on column **'Tsize'** and check how many people are survived and died."
   ]
  },
  {
   "cell_type": "code",
   "execution_count": 46,
   "id": "3709193c",
   "metadata": {
    "execution": {
     "iopub.execute_input": "2023-08-20T08:18:23.598782Z",
     "iopub.status.busy": "2023-08-20T08:18:23.597420Z",
     "iopub.status.idle": "2023-08-20T08:18:23.606360Z",
     "shell.execute_reply": "2023-08-20T08:18:23.605545Z"
    },
    "papermill": {
     "duration": 0.043273,
     "end_time": "2023-08-20T08:18:23.608276",
     "exception": false,
     "start_time": "2023-08-20T08:18:23.565003",
     "status": "completed"
    },
    "tags": []
   },
   "outputs": [],
   "source": [
    "# Group data by ticket size and survival, calculate normalized counts, and create a DataFrame 'temp'.\n",
    "temp = df.groupby('Tsize')['Survived'].value_counts(normalize=True).reset_index(name='Perc')"
   ]
  },
  {
   "cell_type": "code",
   "execution_count": 47,
   "id": "95d0d0b7",
   "metadata": {
    "execution": {
     "iopub.execute_input": "2023-08-20T08:18:23.674493Z",
     "iopub.status.busy": "2023-08-20T08:18:23.674073Z",
     "iopub.status.idle": "2023-08-20T08:18:24.021499Z",
     "shell.execute_reply": "2023-08-20T08:18:24.020394Z"
    },
    "papermill": {
     "duration": 0.383173,
     "end_time": "2023-08-20T08:18:24.023643",
     "exception": false,
     "start_time": "2023-08-20T08:18:23.640470",
     "status": "completed"
    },
    "tags": []
   },
   "outputs": [
    {
     "data": {
      "image/png": "[encoded data removed]",
      "text/plain": [
       "<Figure size 640x480 with 1 Axes>"
      ]
     },
     "metadata": {},
     "output_type": "display_data"
    }
   ],
   "source": [
    "# Create DataFrame 'temp_1' for family size of 4.\n",
    "temp_1 = df.loc[df['Fsize']==4 ,:]\n",
    "sns.countplot(data=temp_1,x='Sex', hue='Survived', dodge=True);"
   ]
  },
  {
   "cell_type": "markdown",
   "id": "5cbf4447",
   "metadata": {
    "papermill": {
     "duration": 0.031511,
     "end_time": "2023-08-20T08:18:24.087175",
     "exception": false,
     "start_time": "2023-08-20T08:18:24.055664",
     "status": "completed"
    },
    "tags": []
   },
   "source": [
    "**Figure_12:**  Shows the survival counts based on ticket size 4."
   ]
  },
  {
   "cell_type": "markdown",
   "id": "67d489d6",
   "metadata": {
    "papermill": {
     "duration": 0.031078,
     "end_time": "2023-08-20T08:18:24.149714",
     "exception": false,
     "start_time": "2023-08-20T08:18:24.118636",
     "status": "completed"
    },
    "tags": []
   },
   "source": [
    "### 8.3.3 Consolidating family & friends"
   ]
  },
  {
   "cell_type": "code",
   "execution_count": 48,
   "id": "fe846a0d",
   "metadata": {
    "execution": {
     "iopub.execute_input": "2023-08-20T08:18:24.215119Z",
     "iopub.status.busy": "2023-08-20T08:18:24.214771Z",
     "iopub.status.idle": "2023-08-20T08:18:24.491518Z",
     "shell.execute_reply": "2023-08-20T08:18:24.490531Z"
    },
    "papermill": {
     "duration": 0.311827,
     "end_time": "2023-08-20T08:18:24.493661",
     "exception": false,
     "start_time": "2023-08-20T08:18:24.181834",
     "status": "completed"
    },
    "tags": []
   },
   "outputs": [
    {
     "data": {
      "image/png": "[encoded data removed]",
      "text/plain": [
       "<Figure size 640x480 with 1 Axes>"
      ]
     },
     "metadata": {},
     "output_type": "display_data"
    }
   ],
   "source": [
    "# Create 'Group' column with larger of ticket size and family size.\n",
    "df['Group'] = df[['Tsize', 'Fsize']].max(axis=1)  \n",
    "sns.countplot(data = df, x = 'Group', hue = 'Survived');"
   ]
  },
  {
   "cell_type": "markdown",
   "id": "1ea89458",
   "metadata": {
    "papermill": {
     "duration": 0.031369,
     "end_time": "2023-08-20T08:18:24.557498",
     "exception": false,
     "start_time": "2023-08-20T08:18:24.526129",
     "status": "completed"
    },
    "tags": []
   },
   "source": [
    "**Figure_13:**  Shows the survival counts based group size."
   ]
  },
  {
   "cell_type": "code",
   "execution_count": 49,
   "id": "4a5035c8",
   "metadata": {
    "execution": {
     "iopub.execute_input": "2023-08-20T08:18:24.623235Z",
     "iopub.status.busy": "2023-08-20T08:18:24.622856Z",
     "iopub.status.idle": "2023-08-20T08:18:24.646787Z",
     "shell.execute_reply": "2023-08-20T08:18:24.645490Z"
    },
    "papermill": {
     "duration": 0.059361,
     "end_time": "2023-08-20T08:18:24.648855",
     "exception": false,
     "start_time": "2023-08-20T08:18:24.589494",
     "status": "completed"
    },
    "tags": []
   },
   "outputs": [
    {
     "data": {
      "text/html": [
       "<div>\n",
       "<style scoped>\n",
       "    .dataframe tbody tr th:only-of-type {\n",
       "        vertical-align: middle;\n",
       "    }\n",
       "\n",
       "    .dataframe tbody tr th {\n",
       "        vertical-align: top;\n",
       "    }\n",
       "\n",
       "    .dataframe thead th {\n",
       "        text-align: right;\n",
       "    }\n",
       "</style>\n",
       "<table border=\"1\" class=\"dataframe\">\n",
       "  <thead>\n",
       "    <tr style=\"text-align: right;\">\n",
       "      <th></th>\n",
       "      <th>PassengerId</th>\n",
       "      <th>Survived</th>\n",
       "      <th>Pclass</th>\n",
       "      <th>Name</th>\n",
       "      <th>Sex</th>\n",
       "      <th>Age</th>\n",
       "      <th>SibSp</th>\n",
       "      <th>Parch</th>\n",
       "      <th>Ticket</th>\n",
       "      <th>Fare</th>\n",
       "      <th>Cabin</th>\n",
       "      <th>Embarked</th>\n",
       "      <th>Title</th>\n",
       "      <th>Fsize</th>\n",
       "      <th>Tsize</th>\n",
       "      <th>Group</th>\n",
       "      <th>GrupSize</th>\n",
       "    </tr>\n",
       "  </thead>\n",
       "  <tbody>\n",
       "    <tr>\n",
       "      <th>0</th>\n",
       "      <td>1</td>\n",
       "      <td>0</td>\n",
       "      <td>3</td>\n",
       "      <td>Braund, Mr. Owen Harris</td>\n",
       "      <td>male</td>\n",
       "      <td>22.0</td>\n",
       "      <td>1</td>\n",
       "      <td>0</td>\n",
       "      <td>A/5 21171</td>\n",
       "      <td>7.2500</td>\n",
       "      <td>NaN</td>\n",
       "      <td>S</td>\n",
       "      <td>Mr</td>\n",
       "      <td>2</td>\n",
       "      <td>1</td>\n",
       "      <td>2</td>\n",
       "      <td>couple</td>\n",
       "    </tr>\n",
       "    <tr>\n",
       "      <th>1</th>\n",
       "      <td>2</td>\n",
       "      <td>1</td>\n",
       "      <td>1</td>\n",
       "      <td>Cumings, Mrs. John Bradley (Florence Briggs Th...</td>\n",
       "      <td>female</td>\n",
       "      <td>38.0</td>\n",
       "      <td>1</td>\n",
       "      <td>0</td>\n",
       "      <td>PC 17599</td>\n",
       "      <td>71.2833</td>\n",
       "      <td>C85</td>\n",
       "      <td>C</td>\n",
       "      <td>Mrs</td>\n",
       "      <td>2</td>\n",
       "      <td>1</td>\n",
       "      <td>2</td>\n",
       "      <td>couple</td>\n",
       "    </tr>\n",
       "    <tr>\n",
       "      <th>2</th>\n",
       "      <td>3</td>\n",
       "      <td>1</td>\n",
       "      <td>3</td>\n",
       "      <td>Heikkinen, Miss. Laina</td>\n",
       "      <td>female</td>\n",
       "      <td>26.0</td>\n",
       "      <td>0</td>\n",
       "      <td>0</td>\n",
       "      <td>STON/O2. 3101282</td>\n",
       "      <td>7.9250</td>\n",
       "      <td>NaN</td>\n",
       "      <td>S</td>\n",
       "      <td>Miss</td>\n",
       "      <td>1</td>\n",
       "      <td>1</td>\n",
       "      <td>1</td>\n",
       "      <td>solo</td>\n",
       "    </tr>\n",
       "    <tr>\n",
       "      <th>3</th>\n",
       "      <td>4</td>\n",
       "      <td>1</td>\n",
       "      <td>1</td>\n",
       "      <td>Futrelle, Mrs. Jacques Heath (Lily May Peel)</td>\n",
       "      <td>female</td>\n",
       "      <td>35.0</td>\n",
       "      <td>1</td>\n",
       "      <td>0</td>\n",
       "      <td>113803</td>\n",
       "      <td>53.1000</td>\n",
       "      <td>C123</td>\n",
       "      <td>S</td>\n",
       "      <td>Mrs</td>\n",
       "      <td>2</td>\n",
       "      <td>2</td>\n",
       "      <td>2</td>\n",
       "      <td>couple</td>\n",
       "    </tr>\n",
       "    <tr>\n",
       "      <th>4</th>\n",
       "      <td>138</td>\n",
       "      <td>0</td>\n",
       "      <td>1</td>\n",
       "      <td>Futrelle, Mr. Jacques Heath</td>\n",
       "      <td>male</td>\n",
       "      <td>37.0</td>\n",
       "      <td>1</td>\n",
       "      <td>0</td>\n",
       "      <td>113803</td>\n",
       "      <td>53.1000</td>\n",
       "      <td>C123</td>\n",
       "      <td>S</td>\n",
       "      <td>Mr</td>\n",
       "      <td>2</td>\n",
       "      <td>2</td>\n",
       "      <td>2</td>\n",
       "      <td>couple</td>\n",
       "    </tr>\n",
       "  </tbody>\n",
       "</table>\n",
       "</div>"
      ],
      "text/plain": [
       "   PassengerId  Survived  Pclass  \\\n",
       "0            1         0       3   \n",
       "1            2         1       1   \n",
       "2            3         1       3   \n",
       "3            4         1       1   \n",
       "4          138         0       1   \n",
       "\n",
       "                                                Name     Sex   Age  SibSp  \\\n",
       "0                            Braund, Mr. Owen Harris    male  22.0      1   \n",
       "1  Cumings, Mrs. John Bradley (Florence Briggs Th...  female  38.0      1   \n",
       "2                             Heikkinen, Miss. Laina  female  26.0      0   \n",
       "3       Futrelle, Mrs. Jacques Heath (Lily May Peel)  female  35.0      1   \n",
       "4                        Futrelle, Mr. Jacques Heath    male  37.0      1   \n",
       "\n",
       "   Parch            Ticket     Fare Cabin Embarked Title  Fsize  Tsize  Group  \\\n",
       "0      0         A/5 21171   7.2500   NaN        S    Mr      2      1      2   \n",
       "1      0          PC 17599  71.2833   C85        C   Mrs      2      1      2   \n",
       "2      0  STON/O2. 3101282   7.9250   NaN        S  Miss      1      1      1   \n",
       "3      0            113803  53.1000  C123        S   Mrs      2      2      2   \n",
       "4      0            113803  53.1000  C123        S    Mr      2      2      2   \n",
       "\n",
       "  GrupSize  \n",
       "0   couple  \n",
       "1   couple  \n",
       "2     solo  \n",
       "3   couple  \n",
       "4   couple  "
      ]
     },
     "execution_count": 49,
     "metadata": {},
     "output_type": "execute_result"
    }
   ],
   "source": [
    "df['GrupSize'] = ''  # Initialize the 'GrupSize' column.\n",
    "df.loc[df['Group'] == 1, 'GrupSize'] = 'solo'  # Label rows with 'Group' size of 1 as 'solo'.\n",
    "df.loc[df['Group'] == 2, 'GrupSize'] = 'couple'  # Label rows with 'Group' size of 2 as 'couple'.\n",
    "df.loc[(df['Group'] >= 3) & (df['Group'] <= 4), 'GrupSize'] = 'group'  # Label rows with 'Group' size between 3 and 4 as 'group'.\n",
    "df.loc[df['Group'] > 4, 'GrupSize'] = 'large_group'  # Label rows with 'Group' size greater than 4 as 'large_group'.\n",
    "df.head()  # Display the modified DataFrame.\n"
   ]
  },
  {
   "cell_type": "markdown",
   "id": "f5019a41",
   "metadata": {
    "papermill": {
     "duration": 0.031481,
     "end_time": "2023-08-20T08:18:24.711716",
     "exception": false,
     "start_time": "2023-08-20T08:18:24.680235",
     "status": "completed"
    },
    "tags": []
   },
   "source": [
    "This code snippet assigns labels to the 'GrupSize' column in the 'dftitanic' DataFrame based on the 'Group' size. Rows with different 'Group' sizes are labeled as 'solo', 'couple', 'group', or 'large_group'."
   ]
  },
  {
   "cell_type": "code",
   "execution_count": 50,
   "id": "e74600c8",
   "metadata": {
    "execution": {
     "iopub.execute_input": "2023-08-20T08:18:24.778486Z",
     "iopub.status.busy": "2023-08-20T08:18:24.778083Z",
     "iopub.status.idle": "2023-08-20T08:18:24.972498Z",
     "shell.execute_reply": "2023-08-20T08:18:24.971054Z"
    },
    "papermill": {
     "duration": 0.231432,
     "end_time": "2023-08-20T08:18:24.975476",
     "exception": false,
     "start_time": "2023-08-20T08:18:24.744044",
     "status": "completed"
    },
    "tags": []
   },
   "outputs": [
    {
     "data": {
      "text/plain": [
       "<Axes: xlabel='GrupSize', ylabel='count'>"
      ]
     },
     "execution_count": 50,
     "metadata": {},
     "output_type": "execute_result"
    },
    {
     "data": {
      "image/png": "[encoded data removed]",
      "text/plain": [
       "<Figure size 640x480 with 1 Axes>"
      ]
     },
     "metadata": {},
     "output_type": "display_data"
    }
   ],
   "source": [
    "# Lets visualize survival counts based on grouped sizes.\n",
    "sns.countplot(x='GrupSize', hue='Survived', order=['solo', 'couple', 'group', 'large group'], data=df)  \n"
   ]
  },
  {
   "cell_type": "markdown",
   "id": "cfea54c8",
   "metadata": {
    "papermill": {
     "duration": 0.03259,
     "end_time": "2023-08-20T08:18:25.040913",
     "exception": false,
     "start_time": "2023-08-20T08:18:25.008323",
     "status": "completed"
    },
    "tags": []
   },
   "source": [
    "**Figure_14:**  Shows the survival counts based on grouped sizes."
   ]
  },
  {
   "cell_type": "markdown",
   "id": "eb93c6c7",
   "metadata": {
    "papermill": {
     "duration": 0.032087,
     "end_time": "2023-08-20T08:18:25.106422",
     "exception": false,
     "start_time": "2023-08-20T08:18:25.074335",
     "status": "completed"
    },
    "tags": []
   },
   "source": [
    "##  8.4 Effect of Fare"
   ]
  },
  {
   "cell_type": "code",
   "execution_count": 51,
   "id": "36a443ae",
   "metadata": {
    "execution": {
     "iopub.execute_input": "2023-08-20T08:18:25.172780Z",
     "iopub.status.busy": "2023-08-20T08:18:25.172392Z",
     "iopub.status.idle": "2023-08-20T08:18:25.180905Z",
     "shell.execute_reply": "2023-08-20T08:18:25.179324Z"
    },
    "papermill": {
     "duration": 0.04478,
     "end_time": "2023-08-20T08:18:25.183662",
     "exception": false,
     "start_time": "2023-08-20T08:18:25.138882",
     "status": "completed"
    },
    "tags": []
   },
   "outputs": [
    {
     "data": {
      "text/plain": [
       "0"
      ]
     },
     "execution_count": 51,
     "metadata": {},
     "output_type": "execute_result"
    }
   ],
   "source": [
    "# Lets See the missing values in the 'Fare' column.\n",
    "df['Fare'].isnull().sum()  "
   ]
  },
  {
   "cell_type": "code",
   "execution_count": 52,
   "id": "003b541b",
   "metadata": {
    "execution": {
     "iopub.execute_input": "2023-08-20T08:18:25.250684Z",
     "iopub.status.busy": "2023-08-20T08:18:25.250337Z",
     "iopub.status.idle": "2023-08-20T08:18:25.572515Z",
     "shell.execute_reply": "2023-08-20T08:18:25.570990Z"
    },
    "papermill": {
     "duration": 0.358386,
     "end_time": "2023-08-20T08:18:25.574936",
     "exception": false,
     "start_time": "2023-08-20T08:18:25.216550",
     "status": "completed"
    },
    "tags": []
   },
   "outputs": [
    {
     "data": {
      "image/png": "[encoded data removed]",
      "text/plain": [
       "<Figure size 640x480 with 1 Axes>"
      ]
     },
     "metadata": {},
     "output_type": "display_data"
    }
   ],
   "source": [
    "sns.histplot(data = df['Fare']);"
   ]
  },
  {
   "cell_type": "markdown",
   "id": "85793ada",
   "metadata": {
    "papermill": {
     "duration": 0.03224,
     "end_time": "2023-08-20T08:18:25.640357",
     "exception": false,
     "start_time": "2023-08-20T08:18:25.608117",
     "status": "completed"
    },
    "tags": []
   },
   "source": [
    "**Figure_15:**  Shows the fare of Passengers in dataset."
   ]
  },
  {
   "cell_type": "code",
   "execution_count": 53,
   "id": "f2ca1ee6",
   "metadata": {
    "execution": {
     "iopub.execute_input": "2023-08-20T08:18:25.706616Z",
     "iopub.status.busy": "2023-08-20T08:18:25.706293Z",
     "iopub.status.idle": "2023-08-20T08:18:25.728196Z",
     "shell.execute_reply": "2023-08-20T08:18:25.727115Z"
    },
    "papermill": {
     "duration": 0.05773,
     "end_time": "2023-08-20T08:18:25.730635",
     "exception": false,
     "start_time": "2023-08-20T08:18:25.672905",
     "status": "completed"
    },
    "tags": []
   },
   "outputs": [
    {
     "data": {
      "text/html": [
       "<div>\n",
       "<style scoped>\n",
       "    .dataframe tbody tr th:only-of-type {\n",
       "        vertical-align: middle;\n",
       "    }\n",
       "\n",
       "    .dataframe tbody tr th {\n",
       "        vertical-align: top;\n",
       "    }\n",
       "\n",
       "    .dataframe thead th {\n",
       "        text-align: right;\n",
       "    }\n",
       "</style>\n",
       "<table border=\"1\" class=\"dataframe\">\n",
       "  <thead>\n",
       "    <tr style=\"text-align: right;\">\n",
       "      <th></th>\n",
       "      <th>PassengerId</th>\n",
       "      <th>Survived</th>\n",
       "      <th>Pclass</th>\n",
       "      <th>Name</th>\n",
       "      <th>Sex</th>\n",
       "      <th>Age</th>\n",
       "      <th>SibSp</th>\n",
       "      <th>Parch</th>\n",
       "      <th>Ticket</th>\n",
       "      <th>Fare</th>\n",
       "      <th>Cabin</th>\n",
       "      <th>Embarked</th>\n",
       "      <th>Title</th>\n",
       "      <th>Fsize</th>\n",
       "      <th>Tsize</th>\n",
       "      <th>Group</th>\n",
       "      <th>GrupSize</th>\n",
       "    </tr>\n",
       "  </thead>\n",
       "  <tbody>\n",
       "    <tr>\n",
       "      <th>266</th>\n",
       "      <td>180</td>\n",
       "      <td>0</td>\n",
       "      <td>3</td>\n",
       "      <td>Leonard, Mr. Lionel</td>\n",
       "      <td>male</td>\n",
       "      <td>36.0</td>\n",
       "      <td>0</td>\n",
       "      <td>0</td>\n",
       "      <td>LINE</td>\n",
       "      <td>0.0</td>\n",
       "      <td>NaN</td>\n",
       "      <td>S</td>\n",
       "      <td>Mr</td>\n",
       "      <td>1</td>\n",
       "      <td>4</td>\n",
       "      <td>4</td>\n",
       "      <td>group</td>\n",
       "    </tr>\n",
       "    <tr>\n",
       "      <th>267</th>\n",
       "      <td>272</td>\n",
       "      <td>1</td>\n",
       "      <td>3</td>\n",
       "      <td>Tornquist, Mr. William Henry</td>\n",
       "      <td>male</td>\n",
       "      <td>25.0</td>\n",
       "      <td>0</td>\n",
       "      <td>0</td>\n",
       "      <td>LINE</td>\n",
       "      <td>0.0</td>\n",
       "      <td>NaN</td>\n",
       "      <td>S</td>\n",
       "      <td>Mr</td>\n",
       "      <td>1</td>\n",
       "      <td>4</td>\n",
       "      <td>4</td>\n",
       "      <td>group</td>\n",
       "    </tr>\n",
       "    <tr>\n",
       "      <th>268</th>\n",
       "      <td>303</td>\n",
       "      <td>0</td>\n",
       "      <td>3</td>\n",
       "      <td>Johnson, Mr. William Cahoone Jr</td>\n",
       "      <td>male</td>\n",
       "      <td>19.0</td>\n",
       "      <td>0</td>\n",
       "      <td>0</td>\n",
       "      <td>LINE</td>\n",
       "      <td>0.0</td>\n",
       "      <td>NaN</td>\n",
       "      <td>S</td>\n",
       "      <td>Mr</td>\n",
       "      <td>1</td>\n",
       "      <td>4</td>\n",
       "      <td>4</td>\n",
       "      <td>group</td>\n",
       "    </tr>\n",
       "    <tr>\n",
       "      <th>269</th>\n",
       "      <td>598</td>\n",
       "      <td>0</td>\n",
       "      <td>3</td>\n",
       "      <td>Johnson, Mr. Alfred</td>\n",
       "      <td>male</td>\n",
       "      <td>49.0</td>\n",
       "      <td>0</td>\n",
       "      <td>0</td>\n",
       "      <td>LINE</td>\n",
       "      <td>0.0</td>\n",
       "      <td>NaN</td>\n",
       "      <td>S</td>\n",
       "      <td>Mr</td>\n",
       "      <td>1</td>\n",
       "      <td>4</td>\n",
       "      <td>4</td>\n",
       "      <td>group</td>\n",
       "    </tr>\n",
       "    <tr>\n",
       "      <th>366</th>\n",
       "      <td>264</td>\n",
       "      <td>0</td>\n",
       "      <td>1</td>\n",
       "      <td>Harrison, Mr. William</td>\n",
       "      <td>male</td>\n",
       "      <td>40.0</td>\n",
       "      <td>0</td>\n",
       "      <td>0</td>\n",
       "      <td>112059</td>\n",
       "      <td>0.0</td>\n",
       "      <td>B94</td>\n",
       "      <td>S</td>\n",
       "      <td>Mr</td>\n",
       "      <td>1</td>\n",
       "      <td>1</td>\n",
       "      <td>1</td>\n",
       "      <td>solo</td>\n",
       "    </tr>\n",
       "    <tr>\n",
       "      <th>386</th>\n",
       "      <td>278</td>\n",
       "      <td>0</td>\n",
       "      <td>2</td>\n",
       "      <td>Parkes, Mr. Francis \"Frank\"</td>\n",
       "      <td>male</td>\n",
       "      <td>NaN</td>\n",
       "      <td>0</td>\n",
       "      <td>0</td>\n",
       "      <td>239853</td>\n",
       "      <td>0.0</td>\n",
       "      <td>NaN</td>\n",
       "      <td>S</td>\n",
       "      <td>Mr</td>\n",
       "      <td>1</td>\n",
       "      <td>3</td>\n",
       "      <td>3</td>\n",
       "      <td>group</td>\n",
       "    </tr>\n",
       "    <tr>\n",
       "      <th>387</th>\n",
       "      <td>414</td>\n",
       "      <td>0</td>\n",
       "      <td>2</td>\n",
       "      <td>Cunningham, Mr. Alfred Fleming</td>\n",
       "      <td>male</td>\n",
       "      <td>NaN</td>\n",
       "      <td>0</td>\n",
       "      <td>0</td>\n",
       "      <td>239853</td>\n",
       "      <td>0.0</td>\n",
       "      <td>NaN</td>\n",
       "      <td>S</td>\n",
       "      <td>Mr</td>\n",
       "      <td>1</td>\n",
       "      <td>3</td>\n",
       "      <td>3</td>\n",
       "      <td>group</td>\n",
       "    </tr>\n",
       "    <tr>\n",
       "      <th>388</th>\n",
       "      <td>467</td>\n",
       "      <td>0</td>\n",
       "      <td>2</td>\n",
       "      <td>Campbell, Mr. William</td>\n",
       "      <td>male</td>\n",
       "      <td>NaN</td>\n",
       "      <td>0</td>\n",
       "      <td>0</td>\n",
       "      <td>239853</td>\n",
       "      <td>0.0</td>\n",
       "      <td>NaN</td>\n",
       "      <td>S</td>\n",
       "      <td>Mr</td>\n",
       "      <td>1</td>\n",
       "      <td>3</td>\n",
       "      <td>3</td>\n",
       "      <td>group</td>\n",
       "    </tr>\n",
       "    <tr>\n",
       "      <th>592</th>\n",
       "      <td>482</td>\n",
       "      <td>0</td>\n",
       "      <td>2</td>\n",
       "      <td>Frost, Mr. Anthony Wood \"Archie\"</td>\n",
       "      <td>male</td>\n",
       "      <td>NaN</td>\n",
       "      <td>0</td>\n",
       "      <td>0</td>\n",
       "      <td>239854</td>\n",
       "      <td>0.0</td>\n",
       "      <td>NaN</td>\n",
       "      <td>S</td>\n",
       "      <td>Mr</td>\n",
       "      <td>1</td>\n",
       "      <td>1</td>\n",
       "      <td>1</td>\n",
       "      <td>solo</td>\n",
       "    </tr>\n",
       "    <tr>\n",
       "      <th>715</th>\n",
       "      <td>634</td>\n",
       "      <td>0</td>\n",
       "      <td>1</td>\n",
       "      <td>Parr, Mr. William Henry Marsh</td>\n",
       "      <td>male</td>\n",
       "      <td>NaN</td>\n",
       "      <td>0</td>\n",
       "      <td>0</td>\n",
       "      <td>112052</td>\n",
       "      <td>0.0</td>\n",
       "      <td>NaN</td>\n",
       "      <td>S</td>\n",
       "      <td>Mr</td>\n",
       "      <td>1</td>\n",
       "      <td>1</td>\n",
       "      <td>1</td>\n",
       "      <td>solo</td>\n",
       "    </tr>\n",
       "    <tr>\n",
       "      <th>743</th>\n",
       "      <td>675</td>\n",
       "      <td>0</td>\n",
       "      <td>2</td>\n",
       "      <td>Watson, Mr. Ennis Hastings</td>\n",
       "      <td>male</td>\n",
       "      <td>NaN</td>\n",
       "      <td>0</td>\n",
       "      <td>0</td>\n",
       "      <td>239856</td>\n",
       "      <td>0.0</td>\n",
       "      <td>NaN</td>\n",
       "      <td>S</td>\n",
       "      <td>Mr</td>\n",
       "      <td>1</td>\n",
       "      <td>1</td>\n",
       "      <td>1</td>\n",
       "      <td>solo</td>\n",
       "    </tr>\n",
       "    <tr>\n",
       "      <th>786</th>\n",
       "      <td>733</td>\n",
       "      <td>0</td>\n",
       "      <td>2</td>\n",
       "      <td>Knight, Mr. Robert J</td>\n",
       "      <td>male</td>\n",
       "      <td>NaN</td>\n",
       "      <td>0</td>\n",
       "      <td>0</td>\n",
       "      <td>239855</td>\n",
       "      <td>0.0</td>\n",
       "      <td>NaN</td>\n",
       "      <td>S</td>\n",
       "      <td>Mr</td>\n",
       "      <td>1</td>\n",
       "      <td>1</td>\n",
       "      <td>1</td>\n",
       "      <td>solo</td>\n",
       "    </tr>\n",
       "    <tr>\n",
       "      <th>837</th>\n",
       "      <td>807</td>\n",
       "      <td>0</td>\n",
       "      <td>1</td>\n",
       "      <td>Andrews, Mr. Thomas Jr</td>\n",
       "      <td>male</td>\n",
       "      <td>39.0</td>\n",
       "      <td>0</td>\n",
       "      <td>0</td>\n",
       "      <td>112050</td>\n",
       "      <td>0.0</td>\n",
       "      <td>A36</td>\n",
       "      <td>S</td>\n",
       "      <td>Mr</td>\n",
       "      <td>1</td>\n",
       "      <td>1</td>\n",
       "      <td>1</td>\n",
       "      <td>solo</td>\n",
       "    </tr>\n",
       "    <tr>\n",
       "      <th>843</th>\n",
       "      <td>816</td>\n",
       "      <td>0</td>\n",
       "      <td>1</td>\n",
       "      <td>Fry, Mr. Richard</td>\n",
       "      <td>male</td>\n",
       "      <td>NaN</td>\n",
       "      <td>0</td>\n",
       "      <td>0</td>\n",
       "      <td>112058</td>\n",
       "      <td>0.0</td>\n",
       "      <td>B102</td>\n",
       "      <td>S</td>\n",
       "      <td>Mr</td>\n",
       "      <td>1</td>\n",
       "      <td>1</td>\n",
       "      <td>1</td>\n",
       "      <td>solo</td>\n",
       "    </tr>\n",
       "    <tr>\n",
       "      <th>849</th>\n",
       "      <td>823</td>\n",
       "      <td>0</td>\n",
       "      <td>1</td>\n",
       "      <td>Reuchlin, Jonkheer. John George</td>\n",
       "      <td>male</td>\n",
       "      <td>38.0</td>\n",
       "      <td>0</td>\n",
       "      <td>0</td>\n",
       "      <td>19972</td>\n",
       "      <td>0.0</td>\n",
       "      <td>NaN</td>\n",
       "      <td>S</td>\n",
       "      <td>Others</td>\n",
       "      <td>1</td>\n",
       "      <td>1</td>\n",
       "      <td>1</td>\n",
       "      <td>solo</td>\n",
       "    </tr>\n",
       "  </tbody>\n",
       "</table>\n",
       "</div>"
      ],
      "text/plain": [
       "     PassengerId  Survived  Pclass                              Name   Sex  \\\n",
       "266          180         0       3               Leonard, Mr. Lionel  male   \n",
       "267          272         1       3      Tornquist, Mr. William Henry  male   \n",
       "268          303         0       3   Johnson, Mr. William Cahoone Jr  male   \n",
       "269          598         0       3               Johnson, Mr. Alfred  male   \n",
       "366          264         0       1             Harrison, Mr. William  male   \n",
       "386          278         0       2       Parkes, Mr. Francis \"Frank\"  male   \n",
       "387          414         0       2    Cunningham, Mr. Alfred Fleming  male   \n",
       "388          467         0       2             Campbell, Mr. William  male   \n",
       "592          482         0       2  Frost, Mr. Anthony Wood \"Archie\"  male   \n",
       "715          634         0       1     Parr, Mr. William Henry Marsh  male   \n",
       "743          675         0       2        Watson, Mr. Ennis Hastings  male   \n",
       "786          733         0       2              Knight, Mr. Robert J  male   \n",
       "837          807         0       1            Andrews, Mr. Thomas Jr  male   \n",
       "843          816         0       1                  Fry, Mr. Richard  male   \n",
       "849          823         0       1   Reuchlin, Jonkheer. John George  male   \n",
       "\n",
       "      Age  SibSp  Parch  Ticket  Fare Cabin Embarked   Title  Fsize  Tsize  \\\n",
       "266  36.0      0      0    LINE   0.0   NaN        S      Mr      1      4   \n",
       "267  25.0      0      0    LINE   0.0   NaN        S      Mr      1      4   \n",
       "268  19.0      0      0    LINE   0.0   NaN        S      Mr      1      4   \n",
       "269  49.0      0      0    LINE   0.0   NaN        S      Mr      1      4   \n",
       "366  40.0      0      0  112059   0.0   B94        S      Mr      1      1   \n",
       "386   NaN      0      0  239853   0.0   NaN        S      Mr      1      3   \n",
       "387   NaN      0      0  239853   0.0   NaN        S      Mr      1      3   \n",
       "388   NaN      0      0  239853   0.0   NaN        S      Mr      1      3   \n",
       "592   NaN      0      0  239854   0.0   NaN        S      Mr      1      1   \n",
       "715   NaN      0      0  112052   0.0   NaN        S      Mr      1      1   \n",
       "743   NaN      0      0  239856   0.0   NaN        S      Mr      1      1   \n",
       "786   NaN      0      0  239855   0.0   NaN        S      Mr      1      1   \n",
       "837  39.0      0      0  112050   0.0   A36        S      Mr      1      1   \n",
       "843   NaN      0      0  112058   0.0  B102        S      Mr      1      1   \n",
       "849  38.0      0      0   19972   0.0   NaN        S  Others      1      1   \n",
       "\n",
       "     Group GrupSize  \n",
       "266      4    group  \n",
       "267      4    group  \n",
       "268      4    group  \n",
       "269      4    group  \n",
       "366      1     solo  \n",
       "386      3    group  \n",
       "387      3    group  \n",
       "388      3    group  \n",
       "592      1     solo  \n",
       "715      1     solo  \n",
       "743      1     solo  \n",
       "786      1     solo  \n",
       "837      1     solo  \n",
       "843      1     solo  \n",
       "849      1     solo  "
      ]
     },
     "execution_count": 53,
     "metadata": {},
     "output_type": "execute_result"
    }
   ],
   "source": [
    "# Display rows where fare is equal to 0.\n",
    "df[df['Fare'] == 0]  "
   ]
  },
  {
   "cell_type": "markdown",
   "id": "9c1787be",
   "metadata": {
    "papermill": {
     "duration": 0.033953,
     "end_time": "2023-08-20T08:18:25.797644",
     "exception": false,
     "start_time": "2023-08-20T08:18:25.763691",
     "status": "completed"
    },
    "tags": []
   },
   "source": [
    "### Observation Set 05:\n",
    "\n",
    "The code selects all rows in the DataFrame df where the value in the Fare column is equal to 0. This likely represents passengers who were recorded with a fare of zero, which could be due to missing or erroneous data. Further investigation and correction of these zero fare values might be necessary to ensure accurate analysis and modeling."
   ]
  },
  {
   "cell_type": "code",
   "execution_count": 54,
   "id": "5120446d",
   "metadata": {
    "execution": {
     "iopub.execute_input": "2023-08-20T08:18:25.865894Z",
     "iopub.status.busy": "2023-08-20T08:18:25.865528Z",
     "iopub.status.idle": "2023-08-20T08:18:25.875754Z",
     "shell.execute_reply": "2023-08-20T08:18:25.874935Z"
    },
    "papermill": {
     "duration": 0.046938,
     "end_time": "2023-08-20T08:18:25.877934",
     "exception": false,
     "start_time": "2023-08-20T08:18:25.830996",
     "status": "completed"
    },
    "tags": []
   },
   "outputs": [
    {
     "data": {
      "text/plain": [
       "count    891.000000\n",
       "mean      32.204208\n",
       "std       49.693429\n",
       "min        0.000000\n",
       "25%        7.910400\n",
       "50%       14.454200\n",
       "75%       31.000000\n",
       "max      512.329200\n",
       "Name: Fare, dtype: float64"
      ]
     },
     "execution_count": 54,
     "metadata": {},
     "output_type": "execute_result"
    }
   ],
   "source": [
    "df['Fare'].describe()"
   ]
  },
  {
   "cell_type": "code",
   "execution_count": 55,
   "id": "c10d96c9",
   "metadata": {
    "execution": {
     "iopub.execute_input": "2023-08-20T08:18:25.947020Z",
     "iopub.status.busy": "2023-08-20T08:18:25.945747Z",
     "iopub.status.idle": "2023-08-20T08:18:25.955655Z",
     "shell.execute_reply": "2023-08-20T08:18:25.954100Z"
    },
    "papermill": {
     "duration": 0.046987,
     "end_time": "2023-08-20T08:18:25.957927",
     "exception": false,
     "start_time": "2023-08-20T08:18:25.910940",
     "status": "completed"
    },
    "tags": []
   },
   "outputs": [
    {
     "data": {
      "text/plain": [
       "60.287499999999994"
      ]
     },
     "execution_count": 55,
     "metadata": {},
     "output_type": "execute_result"
    }
   ],
   "source": [
    "# Calculate the median fare for passengers in Pclass 1.\n",
    "df.loc[df['Pclass'] == 1, 'Fare'].median()  "
   ]
  },
  {
   "cell_type": "code",
   "execution_count": 56,
   "id": "45b923ae",
   "metadata": {
    "execution": {
     "iopub.execute_input": "2023-08-20T08:18:26.026271Z",
     "iopub.status.busy": "2023-08-20T08:18:26.025808Z",
     "iopub.status.idle": "2023-08-20T08:18:26.034875Z",
     "shell.execute_reply": "2023-08-20T08:18:26.033773Z"
    },
    "papermill": {
     "duration": 0.04609,
     "end_time": "2023-08-20T08:18:26.037028",
     "exception": false,
     "start_time": "2023-08-20T08:18:25.990938",
     "status": "completed"
    },
    "tags": []
   },
   "outputs": [
    {
     "data": {
      "text/plain": [
       "14.25"
      ]
     },
     "execution_count": 56,
     "metadata": {},
     "output_type": "execute_result"
    }
   ],
   "source": [
    "# Calculate the median fare for passengers in Pclass 2.\n",
    "df.loc[df['Pclass'] ==2, 'Fare'].median()"
   ]
  },
  {
   "cell_type": "code",
   "execution_count": 57,
   "id": "79484280",
   "metadata": {
    "execution": {
     "iopub.execute_input": "2023-08-20T08:18:26.105456Z",
     "iopub.status.busy": "2023-08-20T08:18:26.104167Z",
     "iopub.status.idle": "2023-08-20T08:18:26.112940Z",
     "shell.execute_reply": "2023-08-20T08:18:26.112067Z"
    },
    "papermill": {
     "duration": 0.045457,
     "end_time": "2023-08-20T08:18:26.115109",
     "exception": false,
     "start_time": "2023-08-20T08:18:26.069652",
     "status": "completed"
    },
    "tags": []
   },
   "outputs": [
    {
     "data": {
      "text/plain": [
       "8.05"
      ]
     },
     "execution_count": 57,
     "metadata": {},
     "output_type": "execute_result"
    }
   ],
   "source": [
    "# Calculate the median fare for passengers in Pclass 3.\n",
    "df.loc[df['Pclass']==3, 'Fare'].median()"
   ]
  },
  {
   "cell_type": "code",
   "execution_count": 58,
   "id": "f5ffb651",
   "metadata": {
    "execution": {
     "iopub.execute_input": "2023-08-20T08:18:26.185244Z",
     "iopub.status.busy": "2023-08-20T08:18:26.184158Z",
     "iopub.status.idle": "2023-08-20T08:18:26.196312Z",
     "shell.execute_reply": "2023-08-20T08:18:26.195005Z"
    },
    "papermill": {
     "duration": 0.049792,
     "end_time": "2023-08-20T08:18:26.198914",
     "exception": false,
     "start_time": "2023-08-20T08:18:26.149122",
     "status": "completed"
    },
    "tags": []
   },
   "outputs": [],
   "source": [
    "# Replace zero fare for Pclass 1 with median Pclass 1 fare.\n",
    "# Replace zero fare for Pclass 2 with median Pclass 2 fare.\n",
    "# Replace zero fare for Pclass 3 with median Pclass 3 fare.\n",
    "df.loc[(df['Fare'] == 0) & (df['Pclass'] == 1), 'Fare'] = df[df['Pclass'] == 1]['Fare'].median()  \n",
    "df.loc[(df['Fare'] == 0) & (df['Pclass'] == 2), 'Fare'] = df[df['Pclass'] == 2]['Fare'].median()  \n",
    "df.loc[(df['Fare'] == 0) & (df['Pclass'] == 3), 'Fare'] = df[df['Pclass'] == 3]['Fare'].median()  \n"
   ]
  },
  {
   "cell_type": "markdown",
   "id": "b8c57a96",
   "metadata": {
    "papermill": {
     "duration": 0.032828,
     "end_time": "2023-08-20T08:18:26.265054",
     "exception": false,
     "start_time": "2023-08-20T08:18:26.232226",
     "status": "completed"
    },
    "tags": []
   },
   "source": [
    "**Assigning categories to fare**"
   ]
  },
  {
   "cell_type": "code",
   "execution_count": 59,
   "id": "3aafe2cc",
   "metadata": {
    "execution": {
     "iopub.execute_input": "2023-08-20T08:18:26.334134Z",
     "iopub.status.busy": "2023-08-20T08:18:26.333379Z",
     "iopub.status.idle": "2023-08-20T08:18:26.352254Z",
     "shell.execute_reply": "2023-08-20T08:18:26.350801Z"
    },
    "papermill": {
     "duration": 0.056211,
     "end_time": "2023-08-20T08:18:26.354679",
     "exception": false,
     "start_time": "2023-08-20T08:18:26.298468",
     "status": "completed"
    },
    "tags": []
   },
   "outputs": [
    {
     "data": {
      "text/html": [
       "<div>\n",
       "<style scoped>\n",
       "    .dataframe tbody tr th:only-of-type {\n",
       "        vertical-align: middle;\n",
       "    }\n",
       "\n",
       "    .dataframe tbody tr th {\n",
       "        vertical-align: top;\n",
       "    }\n",
       "\n",
       "    .dataframe thead th {\n",
       "        text-align: right;\n",
       "    }\n",
       "</style>\n",
       "<table border=\"1\" class=\"dataframe\">\n",
       "  <thead>\n",
       "    <tr style=\"text-align: right;\">\n",
       "      <th></th>\n",
       "      <th>Fare</th>\n",
       "      <th>FareCat</th>\n",
       "    </tr>\n",
       "  </thead>\n",
       "  <tbody>\n",
       "    <tr>\n",
       "      <th>0</th>\n",
       "      <td>7.2500</td>\n",
       "      <td>0-10</td>\n",
       "    </tr>\n",
       "    <tr>\n",
       "      <th>1</th>\n",
       "      <td>71.2833</td>\n",
       "      <td>70-100</td>\n",
       "    </tr>\n",
       "    <tr>\n",
       "      <th>2</th>\n",
       "      <td>7.9250</td>\n",
       "      <td>0-10</td>\n",
       "    </tr>\n",
       "    <tr>\n",
       "      <th>3</th>\n",
       "      <td>53.1000</td>\n",
       "      <td>40-70</td>\n",
       "    </tr>\n",
       "    <tr>\n",
       "      <th>4</th>\n",
       "      <td>53.1000</td>\n",
       "      <td>40-70</td>\n",
       "    </tr>\n",
       "  </tbody>\n",
       "</table>\n",
       "</div>"
      ],
      "text/plain": [
       "      Fare FareCat\n",
       "0   7.2500    0-10\n",
       "1  71.2833  70-100\n",
       "2   7.9250    0-10\n",
       "3  53.1000   40-70\n",
       "4  53.1000   40-70"
      ]
     },
     "execution_count": 59,
     "metadata": {},
     "output_type": "execute_result"
    }
   ],
   "source": [
    "df['FareCat'] = ''  # Initialize 'FareCat' column.\n",
    "df.loc[df['Fare']<=10, 'FareCat'] = '0-10'  # Categorize fares 0-10.\n",
    "df.loc[(df['Fare']>10) & (df['Fare']<=25), 'FareCat'] = '10-25'  # Categorize fares 10-25.\n",
    "df.loc[(df['Fare']>25) & (df['Fare']<=40), 'FareCat'] = '25-40'  # Categorize fares 25-40.\n",
    "df.loc[(df['Fare']>40) & (df['Fare']<=70), 'FareCat'] = '40-70'  # Categorize fares 40-70.\n",
    "df.loc[(df['Fare']>70) & (df['Fare']<=100), 'FareCat'] = '70-100'  # Categorize fares 70-100.\n",
    "df.loc[df['Fare']>100, 'FareCat'] = '100+'  # Categorize fares above 100.\n",
    "df[['Fare', 'FareCat']].head()  # Display 'Fare' and 'FareCat' columns."
   ]
  },
  {
   "cell_type": "code",
   "execution_count": 60,
   "id": "82dc7e77",
   "metadata": {
    "execution": {
     "iopub.execute_input": "2023-08-20T08:18:26.425752Z",
     "iopub.status.busy": "2023-08-20T08:18:26.424505Z",
     "iopub.status.idle": "2023-08-20T08:18:26.648335Z",
     "shell.execute_reply": "2023-08-20T08:18:26.647474Z"
    },
    "papermill": {
     "duration": 0.261484,
     "end_time": "2023-08-20T08:18:26.650149",
     "exception": false,
     "start_time": "2023-08-20T08:18:26.388665",
     "status": "completed"
    },
    "tags": []
   },
   "outputs": [
    {
     "data": {
      "image/png": "[encoded data removed]",
      "text/plain": [
       "<Figure size 1500x600 with 1 Axes>"
      ]
     },
     "metadata": {},
     "output_type": "display_data"
    }
   ],
   "source": [
    "#Lets Visualize survival counts based on fare categories.\n",
    "plt.subplots(figsize=(15,6)) \n",
    "sns.countplot(x='FareCat', order=['0-10', '10-25', '25-40', '40-70', '70-100', '100+'], hue='Survived', data=df);  "
   ]
  },
  {
   "cell_type": "markdown",
   "id": "80dc201c",
   "metadata": {
    "papermill": {
     "duration": 0.034133,
     "end_time": "2023-08-20T08:18:26.718373",
     "exception": false,
     "start_time": "2023-08-20T08:18:26.684240",
     "status": "completed"
    },
    "tags": []
   },
   "source": [
    "**Figure_16:**  Shows the survival counts based on fare categories."
   ]
  },
  {
   "cell_type": "code",
   "execution_count": 61,
   "id": "8df25311",
   "metadata": {
    "execution": {
     "iopub.execute_input": "2023-08-20T08:18:26.788711Z",
     "iopub.status.busy": "2023-08-20T08:18:26.788099Z",
     "iopub.status.idle": "2023-08-20T08:18:26.804083Z",
     "shell.execute_reply": "2023-08-20T08:18:26.802992Z"
    },
    "papermill": {
     "duration": 0.053057,
     "end_time": "2023-08-20T08:18:26.806426",
     "exception": false,
     "start_time": "2023-08-20T08:18:26.753369",
     "status": "completed"
    },
    "tags": []
   },
   "outputs": [
    {
     "data": {
      "text/html": [
       "<div>\n",
       "<style scoped>\n",
       "    .dataframe tbody tr th:only-of-type {\n",
       "        vertical-align: middle;\n",
       "    }\n",
       "\n",
       "    .dataframe tbody tr th {\n",
       "        vertical-align: top;\n",
       "    }\n",
       "\n",
       "    .dataframe thead th {\n",
       "        text-align: right;\n",
       "    }\n",
       "</style>\n",
       "<table border=\"1\" class=\"dataframe\">\n",
       "  <thead>\n",
       "    <tr style=\"text-align: right;\">\n",
       "      <th></th>\n",
       "      <th>PassengerId</th>\n",
       "      <th>Survived</th>\n",
       "      <th>Pclass</th>\n",
       "      <th>Name</th>\n",
       "      <th>Sex</th>\n",
       "      <th>Age</th>\n",
       "      <th>SibSp</th>\n",
       "      <th>Parch</th>\n",
       "      <th>Ticket</th>\n",
       "      <th>Fare</th>\n",
       "      <th>Cabin</th>\n",
       "      <th>Embarked</th>\n",
       "      <th>Title</th>\n",
       "      <th>Fsize</th>\n",
       "      <th>Tsize</th>\n",
       "      <th>Group</th>\n",
       "      <th>GrupSize</th>\n",
       "      <th>FareCat</th>\n",
       "    </tr>\n",
       "  </thead>\n",
       "  <tbody>\n",
       "    <tr>\n",
       "      <th>0</th>\n",
       "      <td>1</td>\n",
       "      <td>0</td>\n",
       "      <td>3</td>\n",
       "      <td>Braund, Mr. Owen Harris</td>\n",
       "      <td>male</td>\n",
       "      <td>22.0</td>\n",
       "      <td>1</td>\n",
       "      <td>0</td>\n",
       "      <td>A/5 21171</td>\n",
       "      <td>7.2500</td>\n",
       "      <td>NaN</td>\n",
       "      <td>S</td>\n",
       "      <td>Mr</td>\n",
       "      <td>2</td>\n",
       "      <td>1</td>\n",
       "      <td>2</td>\n",
       "      <td>couple</td>\n",
       "      <td>0-10</td>\n",
       "    </tr>\n",
       "    <tr>\n",
       "      <th>1</th>\n",
       "      <td>2</td>\n",
       "      <td>1</td>\n",
       "      <td>1</td>\n",
       "      <td>Cumings, Mrs. John Bradley (Florence Briggs Th...</td>\n",
       "      <td>female</td>\n",
       "      <td>38.0</td>\n",
       "      <td>1</td>\n",
       "      <td>0</td>\n",
       "      <td>PC 17599</td>\n",
       "      <td>71.2833</td>\n",
       "      <td>C85</td>\n",
       "      <td>C</td>\n",
       "      <td>Mrs</td>\n",
       "      <td>2</td>\n",
       "      <td>1</td>\n",
       "      <td>2</td>\n",
       "      <td>couple</td>\n",
       "      <td>70-100</td>\n",
       "    </tr>\n",
       "    <tr>\n",
       "      <th>2</th>\n",
       "      <td>3</td>\n",
       "      <td>1</td>\n",
       "      <td>3</td>\n",
       "      <td>Heikkinen, Miss. Laina</td>\n",
       "      <td>female</td>\n",
       "      <td>26.0</td>\n",
       "      <td>0</td>\n",
       "      <td>0</td>\n",
       "      <td>STON/O2. 3101282</td>\n",
       "      <td>7.9250</td>\n",
       "      <td>NaN</td>\n",
       "      <td>S</td>\n",
       "      <td>Miss</td>\n",
       "      <td>1</td>\n",
       "      <td>1</td>\n",
       "      <td>1</td>\n",
       "      <td>solo</td>\n",
       "      <td>0-10</td>\n",
       "    </tr>\n",
       "    <tr>\n",
       "      <th>3</th>\n",
       "      <td>4</td>\n",
       "      <td>1</td>\n",
       "      <td>1</td>\n",
       "      <td>Futrelle, Mrs. Jacques Heath (Lily May Peel)</td>\n",
       "      <td>female</td>\n",
       "      <td>35.0</td>\n",
       "      <td>1</td>\n",
       "      <td>0</td>\n",
       "      <td>113803</td>\n",
       "      <td>53.1000</td>\n",
       "      <td>C123</td>\n",
       "      <td>S</td>\n",
       "      <td>Mrs</td>\n",
       "      <td>2</td>\n",
       "      <td>2</td>\n",
       "      <td>2</td>\n",
       "      <td>couple</td>\n",
       "      <td>40-70</td>\n",
       "    </tr>\n",
       "    <tr>\n",
       "      <th>4</th>\n",
       "      <td>138</td>\n",
       "      <td>0</td>\n",
       "      <td>1</td>\n",
       "      <td>Futrelle, Mr. Jacques Heath</td>\n",
       "      <td>male</td>\n",
       "      <td>37.0</td>\n",
       "      <td>1</td>\n",
       "      <td>0</td>\n",
       "      <td>113803</td>\n",
       "      <td>53.1000</td>\n",
       "      <td>C123</td>\n",
       "      <td>S</td>\n",
       "      <td>Mr</td>\n",
       "      <td>2</td>\n",
       "      <td>2</td>\n",
       "      <td>2</td>\n",
       "      <td>couple</td>\n",
       "      <td>40-70</td>\n",
       "    </tr>\n",
       "  </tbody>\n",
       "</table>\n",
       "</div>"
      ],
      "text/plain": [
       "   PassengerId  Survived  Pclass  \\\n",
       "0            1         0       3   \n",
       "1            2         1       1   \n",
       "2            3         1       3   \n",
       "3            4         1       1   \n",
       "4          138         0       1   \n",
       "\n",
       "                                                Name     Sex   Age  SibSp  \\\n",
       "0                            Braund, Mr. Owen Harris    male  22.0      1   \n",
       "1  Cumings, Mrs. John Bradley (Florence Briggs Th...  female  38.0      1   \n",
       "2                             Heikkinen, Miss. Laina  female  26.0      0   \n",
       "3       Futrelle, Mrs. Jacques Heath (Lily May Peel)  female  35.0      1   \n",
       "4                        Futrelle, Mr. Jacques Heath    male  37.0      1   \n",
       "\n",
       "   Parch            Ticket     Fare Cabin Embarked Title  Fsize  Tsize  Group  \\\n",
       "0      0         A/5 21171   7.2500   NaN        S    Mr      2      1      2   \n",
       "1      0          PC 17599  71.2833   C85        C   Mrs      2      1      2   \n",
       "2      0  STON/O2. 3101282   7.9250   NaN        S  Miss      1      1      1   \n",
       "3      0            113803  53.1000  C123        S   Mrs      2      2      2   \n",
       "4      0            113803  53.1000  C123        S    Mr      2      2      2   \n",
       "\n",
       "  GrupSize FareCat  \n",
       "0   couple    0-10  \n",
       "1   couple  70-100  \n",
       "2     solo    0-10  \n",
       "3   couple   40-70  \n",
       "4   couple   40-70  "
      ]
     },
     "execution_count": 61,
     "metadata": {},
     "output_type": "execute_result"
    }
   ],
   "source": [
    "df.head()"
   ]
  },
  {
   "cell_type": "markdown",
   "id": "089c62c1",
   "metadata": {
    "papermill": {
     "duration": 0.034647,
     "end_time": "2023-08-20T08:18:26.874891",
     "exception": false,
     "start_time": "2023-08-20T08:18:26.840244",
     "status": "completed"
    },
    "tags": []
   },
   "source": [
    "## 8.5 Effect of Embarked variable\n",
    "\n",
    "_C = Cherbourg(France), Q = Queenstown(Ireland), S = Southampton(England)_"
   ]
  },
  {
   "cell_type": "code",
   "execution_count": 62,
   "id": "ccb2d482",
   "metadata": {
    "execution": {
     "iopub.execute_input": "2023-08-20T08:18:26.943660Z",
     "iopub.status.busy": "2023-08-20T08:18:26.943001Z",
     "iopub.status.idle": "2023-08-20T08:18:27.134450Z",
     "shell.execute_reply": "2023-08-20T08:18:27.133208Z"
    },
    "papermill": {
     "duration": 0.228755,
     "end_time": "2023-08-20T08:18:27.137073",
     "exception": false,
     "start_time": "2023-08-20T08:18:26.908318",
     "status": "completed"
    },
    "tags": []
   },
   "outputs": [
    {
     "data": {
      "text/plain": [
       "<Axes: xlabel='Embarked', ylabel='count'>"
      ]
     },
     "execution_count": 62,
     "metadata": {},
     "output_type": "execute_result"
    },
    {
     "data": {
      "image/png": "[encoded data removed]",
      "text/plain": [
       "<Figure size 640x480 with 1 Axes>"
      ]
     },
     "metadata": {},
     "output_type": "display_data"
    }
   ],
   "source": [
    "#Lets Visualize survival counts based on embarked points.\n",
    "sns.countplot(data=df, x='Embarked', hue='Survived')  "
   ]
  },
  {
   "cell_type": "markdown",
   "id": "013592e4",
   "metadata": {
    "papermill": {
     "duration": 0.03406,
     "end_time": "2023-08-20T08:18:27.205607",
     "exception": false,
     "start_time": "2023-08-20T08:18:27.171547",
     "status": "completed"
    },
    "tags": []
   },
   "source": [
    "**Figure_17:**  Shows the survival counts based on embarked points."
   ]
  },
  {
   "cell_type": "code",
   "execution_count": 63,
   "id": "6a5a0cac",
   "metadata": {
    "execution": {
     "iopub.execute_input": "2023-08-20T08:18:27.277376Z",
     "iopub.status.busy": "2023-08-20T08:18:27.277015Z",
     "iopub.status.idle": "2023-08-20T08:18:27.299956Z",
     "shell.execute_reply": "2023-08-20T08:18:27.299260Z"
    },
    "papermill": {
     "duration": 0.06158,
     "end_time": "2023-08-20T08:18:27.302212",
     "exception": false,
     "start_time": "2023-08-20T08:18:27.240632",
     "status": "completed"
    },
    "tags": []
   },
   "outputs": [
    {
     "data": {
      "text/html": [
       "<div>\n",
       "<style scoped>\n",
       "    .dataframe tbody tr th:only-of-type {\n",
       "        vertical-align: middle;\n",
       "    }\n",
       "\n",
       "    .dataframe tbody tr th {\n",
       "        vertical-align: top;\n",
       "    }\n",
       "\n",
       "    .dataframe thead th {\n",
       "        text-align: right;\n",
       "    }\n",
       "</style>\n",
       "<table border=\"1\" class=\"dataframe\">\n",
       "  <thead>\n",
       "    <tr style=\"text-align: right;\">\n",
       "      <th></th>\n",
       "      <th>Name</th>\n",
       "      <th>Sex</th>\n",
       "      <th>Ticket</th>\n",
       "      <th>Cabin</th>\n",
       "      <th>Embarked</th>\n",
       "      <th>Title</th>\n",
       "      <th>GrupSize</th>\n",
       "      <th>FareCat</th>\n",
       "    </tr>\n",
       "  </thead>\n",
       "  <tbody>\n",
       "    <tr>\n",
       "      <th>count</th>\n",
       "      <td>891</td>\n",
       "      <td>891</td>\n",
       "      <td>891</td>\n",
       "      <td>204</td>\n",
       "      <td>889</td>\n",
       "      <td>891</td>\n",
       "      <td>891</td>\n",
       "      <td>891</td>\n",
       "    </tr>\n",
       "    <tr>\n",
       "      <th>unique</th>\n",
       "      <td>891</td>\n",
       "      <td>2</td>\n",
       "      <td>681</td>\n",
       "      <td>147</td>\n",
       "      <td>3</td>\n",
       "      <td>5</td>\n",
       "      <td>4</td>\n",
       "      <td>6</td>\n",
       "    </tr>\n",
       "    <tr>\n",
       "      <th>top</th>\n",
       "      <td>Braund, Mr. Owen Harris</td>\n",
       "      <td>male</td>\n",
       "      <td>347082</td>\n",
       "      <td>B96 B98</td>\n",
       "      <td>S</td>\n",
       "      <td>Mr</td>\n",
       "      <td>solo</td>\n",
       "      <td>0-10</td>\n",
       "    </tr>\n",
       "    <tr>\n",
       "      <th>freq</th>\n",
       "      <td>1</td>\n",
       "      <td>577</td>\n",
       "      <td>7</td>\n",
       "      <td>4</td>\n",
       "      <td>644</td>\n",
       "      <td>517</td>\n",
       "      <td>462</td>\n",
       "      <td>325</td>\n",
       "    </tr>\n",
       "  </tbody>\n",
       "</table>\n",
       "</div>"
      ],
      "text/plain": [
       "                           Name   Sex  Ticket    Cabin Embarked Title  \\\n",
       "count                       891   891     891      204      889   891   \n",
       "unique                      891     2     681      147        3     5   \n",
       "top     Braund, Mr. Owen Harris  male  347082  B96 B98        S    Mr   \n",
       "freq                          1   577       7        4      644   517   \n",
       "\n",
       "       GrupSize FareCat  \n",
       "count       891     891  \n",
       "unique        4       6  \n",
       "top        solo    0-10  \n",
       "freq        462     325  "
      ]
     },
     "execution_count": 63,
     "metadata": {},
     "output_type": "execute_result"
    }
   ],
   "source": [
    "# Generate a summary of categorical column statistics in the DataFrame.\n",
    "df.describe(include='O')"
   ]
  },
  {
   "cell_type": "markdown",
   "id": "8304364c",
   "metadata": {
    "papermill": {
     "duration": 0.036485,
     "end_time": "2023-08-20T08:18:27.372918",
     "exception": false,
     "start_time": "2023-08-20T08:18:27.336433",
     "status": "completed"
    },
    "tags": []
   },
   "source": [
    "## 8.6 Missing Values"
   ]
  },
  {
   "cell_type": "markdown",
   "id": "a2c78cbe",
   "metadata": {
    "papermill": {
     "duration": 0.033161,
     "end_time": "2023-08-20T08:18:27.440635",
     "exception": false,
     "start_time": "2023-08-20T08:18:27.407474",
     "status": "completed"
    },
    "tags": []
   },
   "source": [
    "### 8.6.1 Embarkment"
   ]
  },
  {
   "cell_type": "code",
   "execution_count": 64,
   "id": "6a5f00fc",
   "metadata": {
    "execution": {
     "iopub.execute_input": "2023-08-20T08:18:27.513081Z",
     "iopub.status.busy": "2023-08-20T08:18:27.511738Z",
     "iopub.status.idle": "2023-08-20T08:18:27.520421Z",
     "shell.execute_reply": "2023-08-20T08:18:27.519022Z"
    },
    "papermill": {
     "duration": 0.047095,
     "end_time": "2023-08-20T08:18:27.522947",
     "exception": false,
     "start_time": "2023-08-20T08:18:27.475852",
     "status": "completed"
    },
    "tags": []
   },
   "outputs": [
    {
     "data": {
      "text/plain": [
       "2"
      ]
     },
     "execution_count": 64,
     "metadata": {},
     "output_type": "execute_result"
    }
   ],
   "source": [
    "#Lets Check the null values in Embarked\n",
    "df['Embarked'].isnull().sum()"
   ]
  },
  {
   "cell_type": "code",
   "execution_count": 65,
   "id": "6d9712a2",
   "metadata": {
    "execution": {
     "iopub.execute_input": "2023-08-20T08:18:27.595970Z",
     "iopub.status.busy": "2023-08-20T08:18:27.595614Z",
     "iopub.status.idle": "2023-08-20T08:18:27.602153Z",
     "shell.execute_reply": "2023-08-20T08:18:27.601082Z"
    },
    "papermill": {
     "duration": 0.04534,
     "end_time": "2023-08-20T08:18:27.604125",
     "exception": false,
     "start_time": "2023-08-20T08:18:27.558785",
     "status": "completed"
    },
    "tags": []
   },
   "outputs": [],
   "source": [
    " # Fill missing 'Embarked' values with mode of Embarked\n",
    "df.loc[df['Embarked'].isnull(), 'Embarked'] = 'S' \n",
    "df['Embarked'].fillna(df['Embarked'].mode()[0], inplace=True)"
   ]
  },
  {
   "cell_type": "code",
   "execution_count": 66,
   "id": "15f513fd",
   "metadata": {
    "execution": {
     "iopub.execute_input": "2023-08-20T08:18:27.677119Z",
     "iopub.status.busy": "2023-08-20T08:18:27.676553Z",
     "iopub.status.idle": "2023-08-20T08:18:27.681998Z",
     "shell.execute_reply": "2023-08-20T08:18:27.681331Z"
    },
    "papermill": {
     "duration": 0.044197,
     "end_time": "2023-08-20T08:18:27.683671",
     "exception": false,
     "start_time": "2023-08-20T08:18:27.639474",
     "status": "completed"
    },
    "tags": []
   },
   "outputs": [
    {
     "data": {
      "text/plain": [
       "0"
      ]
     },
     "execution_count": 66,
     "metadata": {},
     "output_type": "execute_result"
    }
   ],
   "source": [
    "#Lets See missing values in Embarked\n",
    "df['Embarked'].isnull().sum()"
   ]
  },
  {
   "cell_type": "markdown",
   "id": "51b21116",
   "metadata": {
    "papermill": {
     "duration": 0.034871,
     "end_time": "2023-08-20T08:18:27.753220",
     "exception": false,
     "start_time": "2023-08-20T08:18:27.718349",
     "status": "completed"
    },
    "tags": []
   },
   "source": [
    "### 8.6.2 Age"
   ]
  },
  {
   "cell_type": "code",
   "execution_count": 67,
   "id": "e624702f",
   "metadata": {
    "execution": {
     "iopub.execute_input": "2023-08-20T08:18:27.823125Z",
     "iopub.status.busy": "2023-08-20T08:18:27.822533Z",
     "iopub.status.idle": "2023-08-20T08:18:27.827915Z",
     "shell.execute_reply": "2023-08-20T08:18:27.827322Z"
    },
    "papermill": {
     "duration": 0.042697,
     "end_time": "2023-08-20T08:18:27.829690",
     "exception": false,
     "start_time": "2023-08-20T08:18:27.786993",
     "status": "completed"
    },
    "tags": []
   },
   "outputs": [
    {
     "data": {
      "text/plain": [
       "177"
      ]
     },
     "execution_count": 67,
     "metadata": {},
     "output_type": "execute_result"
    }
   ],
   "source": [
    "df['Age'].isnull().sum()"
   ]
  },
  {
   "cell_type": "code",
   "execution_count": 68,
   "id": "519dddba",
   "metadata": {
    "execution": {
     "iopub.execute_input": "2023-08-20T08:18:27.903289Z",
     "iopub.status.busy": "2023-08-20T08:18:27.902899Z",
     "iopub.status.idle": "2023-08-20T08:18:28.104153Z",
     "shell.execute_reply": "2023-08-20T08:18:28.102999Z"
    },
    "papermill": {
     "duration": 0.241645,
     "end_time": "2023-08-20T08:18:28.106210",
     "exception": false,
     "start_time": "2023-08-20T08:18:27.864565",
     "status": "completed"
    },
    "tags": []
   },
   "outputs": [
    {
     "data": {
      "image/png": "[encoded data removed]",
      "text/plain": [
       "<Figure size 640x480 with 1 Axes>"
      ]
     },
     "metadata": {},
     "output_type": "display_data"
    }
   ],
   "source": [
    "# KDE plot for ages of passengers who did not survive.\n",
    "sns.kdeplot(df[df['Survived'] == 0]['Age'].dropna(), fill=True, label=\"Not survived\")  \n",
    "sns.kdeplot(df[df['Survived'] == 1]['Age'].dropna(), fill=True, label=\"Survived\")  \n",
    "plt.legend()  # Show legend for labels.\n",
    "plt.show()  # Display the KDE plots."
   ]
  },
  {
   "cell_type": "markdown",
   "id": "a46721e6",
   "metadata": {
    "papermill": {
     "duration": 0.035625,
     "end_time": "2023-08-20T08:18:28.178582",
     "exception": false,
     "start_time": "2023-08-20T08:18:28.142957",
     "status": "completed"
    },
    "tags": []
   },
   "source": [
    "**Figure_18:**  Shows the KDE plot for ages of passengers who did not survive."
   ]
  },
  {
   "cell_type": "code",
   "execution_count": 69,
   "id": "488bb27c",
   "metadata": {
    "execution": {
     "iopub.execute_input": "2023-08-20T08:18:28.251926Z",
     "iopub.status.busy": "2023-08-20T08:18:28.251552Z",
     "iopub.status.idle": "2023-08-20T08:18:28.257997Z",
     "shell.execute_reply": "2023-08-20T08:18:28.256970Z"
    },
    "papermill": {
     "duration": 0.045219,
     "end_time": "2023-08-20T08:18:28.259715",
     "exception": false,
     "start_time": "2023-08-20T08:18:28.214496",
     "status": "completed"
    },
    "tags": []
   },
   "outputs": [],
   "source": [
    "# Create a DataFrame 'temp' with non-null 'Age' values from DataFrame 'df'.\n",
    "temp = df[df['Age'].isnull() == False]"
   ]
  },
  {
   "cell_type": "code",
   "execution_count": 70,
   "id": "ea5a30bb",
   "metadata": {
    "execution": {
     "iopub.execute_input": "2023-08-20T08:18:28.332547Z",
     "iopub.status.busy": "2023-08-20T08:18:28.331393Z",
     "iopub.status.idle": "2023-08-20T08:18:31.413491Z",
     "shell.execute_reply": "2023-08-20T08:18:31.412693Z"
    },
    "papermill": {
     "duration": 3.120973,
     "end_time": "2023-08-20T08:18:31.415668",
     "exception": false,
     "start_time": "2023-08-20T08:18:28.294695",
     "status": "completed"
    },
    "tags": []
   },
   "outputs": [
    {
     "data": {
      "text/plain": [
       "<seaborn.axisgrid.FacetGrid at 0x29e24c36260>"
      ]
     },
     "execution_count": 70,
     "metadata": {},
     "output_type": "execute_result"
    },
    {
     "data": {
      "image/png": "[encoded data removed]",
      "text/plain": [
       "<Figure size 2500x1500 with 15 Axes>"
      ]
     },
     "metadata": {},
     "output_type": "display_data"
    }
   ],
   "source": [
    "# Create a categorical subplot of age distribution by title and passenger class using box plots.\n",
    "sns.set_context('poster')  # Set the plotting context to 'poster' size.\n",
    "sns.catplot(data=temp, x='Age', col='Title', row='Pclass', kind='box')  "
   ]
  },
  {
   "cell_type": "markdown",
   "id": "ee7c44fd",
   "metadata": {
    "papermill": {
     "duration": 0.035631,
     "end_time": "2023-08-20T08:18:31.489526",
     "exception": false,
     "start_time": "2023-08-20T08:18:31.453895",
     "status": "completed"
    },
    "tags": []
   },
   "source": [
    "**Figure_19:**  Shows the categorical subplot of age distribution by title and passenger class using box plots.\n",
    "\n",
    "### Observation Set 06:\n",
    "\n",
    "\n",
    "We create a grid of box plots, display age distributions across different passenger titles and classes. The plots reveal how age varies within these groups, highlighting potential trends in age distribution based on social status and class. The visualization aids in understanding the relationships between age, titles, and classes among the Titanic passengers."
   ]
  },
  {
   "cell_type": "code",
   "execution_count": 71,
   "id": "d952e38c",
   "metadata": {
    "execution": {
     "iopub.execute_input": "2023-08-20T08:18:31.564815Z",
     "iopub.status.busy": "2023-08-20T08:18:31.564501Z",
     "iopub.status.idle": "2023-08-20T08:18:31.596372Z",
     "shell.execute_reply": "2023-08-20T08:18:31.595416Z"
    },
    "papermill": {
     "duration": 0.071811,
     "end_time": "2023-08-20T08:18:31.598419",
     "exception": false,
     "start_time": "2023-08-20T08:18:31.526608",
     "status": "completed"
    },
    "tags": []
   },
   "outputs": [],
   "source": [
    "# Iterate through unique titles and passenger classes to fill missing 'Age' values with the median age of respective groups.\n",
    "for t in df['Title'].unique():\n",
    "    for p in df['Pclass'].unique():\n",
    "        df.loc[(df['Title'] == t) & (df['Pclass'] == p) & (df['Age'].isnull()), 'Age'] = df.loc[(df['Title'] == t) & (df['Pclass'] == p), 'Age'].median()\n"
   ]
  },
  {
   "cell_type": "code",
   "execution_count": 72,
   "id": "4893de6a",
   "metadata": {
    "execution": {
     "iopub.execute_input": "2023-08-20T08:18:31.671713Z",
     "iopub.status.busy": "2023-08-20T08:18:31.671208Z",
     "iopub.status.idle": "2023-08-20T08:18:31.680262Z",
     "shell.execute_reply": "2023-08-20T08:18:31.678748Z"
    },
    "papermill": {
     "duration": 0.049533,
     "end_time": "2023-08-20T08:18:31.682768",
     "exception": false,
     "start_time": "2023-08-20T08:18:31.633235",
     "status": "completed"
    },
    "tags": []
   },
   "outputs": [
    {
     "data": {
      "text/plain": [
       "PassengerId      0\n",
       "Survived         0\n",
       "Pclass           0\n",
       "Name             0\n",
       "Sex              0\n",
       "Age              0\n",
       "SibSp            0\n",
       "Parch            0\n",
       "Ticket           0\n",
       "Fare             0\n",
       "Cabin          687\n",
       "Embarked         0\n",
       "Title            0\n",
       "Fsize            0\n",
       "Tsize            0\n",
       "Group            0\n",
       "GrupSize         0\n",
       "FareCat          0\n",
       "dtype: int64"
      ]
     },
     "execution_count": 72,
     "metadata": {},
     "output_type": "execute_result"
    }
   ],
   "source": [
    "#Lets See the missing values in age column\n",
    "df.isnull().sum()"
   ]
  },
  {
   "cell_type": "code",
   "execution_count": 73,
   "id": "40d3182e",
   "metadata": {
    "execution": {
     "iopub.execute_input": "2023-08-20T08:18:31.757820Z",
     "iopub.status.busy": "2023-08-20T08:18:31.757113Z",
     "iopub.status.idle": "2023-08-20T08:18:31.969680Z",
     "shell.execute_reply": "2023-08-20T08:18:31.968841Z"
    },
    "papermill": {
     "duration": 0.252779,
     "end_time": "2023-08-20T08:18:31.971536",
     "exception": false,
     "start_time": "2023-08-20T08:18:31.718757",
     "status": "completed"
    },
    "tags": []
   },
   "outputs": [
    {
     "data": {
      "text/plain": [
       "<Axes: xlabel='Age', ylabel='Density'>"
      ]
     },
     "execution_count": 73,
     "metadata": {},
     "output_type": "execute_result"
    },
    {
     "data": {
      "image/png": "[encoded data removed]",
      "text/plain": [
       "<Figure size 640x480 with 1 Axes>"
      ]
     },
     "metadata": {},
     "output_type": "display_data"
    }
   ],
   "source": [
    "sns.kdeplot(df[df['Survived'] == 0]['Age'], fill=True, label='Not Survived')  # KDE plot for ages of non-survivors.\n",
    "sns.kdeplot(df[df['Survived'] == 1]['Age'], fill=True, label='Survived')  # KDE plot for ages of survivors.\n"
   ]
  },
  {
   "cell_type": "markdown",
   "id": "03f888ed",
   "metadata": {
    "papermill": {
     "duration": 0.036643,
     "end_time": "2023-08-20T08:18:32.044783",
     "exception": false,
     "start_time": "2023-08-20T08:18:32.008140",
     "status": "completed"
    },
    "tags": []
   },
   "source": [
    "**Figure_20:**  Shows the KDE plot for ages of survivors and non-survivors."
   ]
  },
  {
   "cell_type": "markdown",
   "id": "45e898d6",
   "metadata": {
    "papermill": {
     "duration": 0.036551,
     "end_time": "2023-08-20T08:18:32.117542",
     "exception": false,
     "start_time": "2023-08-20T08:18:32.080991",
     "status": "completed"
    },
    "tags": []
   },
   "source": [
    "**Creating Age categories**"
   ]
  },
  {
   "cell_type": "code",
   "execution_count": 74,
   "id": "10ea7af4",
   "metadata": {
    "execution": {
     "iopub.execute_input": "2023-08-20T08:18:32.193483Z",
     "iopub.status.busy": "2023-08-20T08:18:32.193083Z",
     "iopub.status.idle": "2023-08-20T08:18:32.204681Z",
     "shell.execute_reply": "2023-08-20T08:18:32.203575Z"
    },
    "papermill": {
     "duration": 0.051686,
     "end_time": "2023-08-20T08:18:32.206703",
     "exception": false,
     "start_time": "2023-08-20T08:18:32.155017",
     "status": "completed"
    },
    "tags": []
   },
   "outputs": [],
   "source": [
    "df['AgeCat'] = ''  # Initialize 'AgeCat' column.\n",
    "df.loc[df['Age'] <= 16, 'AgeCat'] = '0-16'  # Categorize ages 0-16.\n",
    "df.loc[(df['Age'] > 16) & (df['Age'] <= 32), 'AgeCat'] = '16-32'  # Categorize ages 16-32.\n",
    "df.loc[(df['Age'] > 32) & (df['Age'] <= 48), 'AgeCat'] = '32-48'  # Categorize ages 32-48.\n",
    "df.loc[(df['Age'] > 48) & (df['Age'] <= 64), 'AgeCat'] = '48-64'  # Categorize ages 48-64.\n",
    "df.loc[df['Age'] > 64, 'AgeCat'] = '64+'  # Categorize ages above 64."
   ]
  },
  {
   "cell_type": "code",
   "execution_count": 75,
   "id": "63241d14",
   "metadata": {
    "execution": {
     "iopub.execute_input": "2023-08-20T08:18:32.283310Z",
     "iopub.status.busy": "2023-08-20T08:18:32.282898Z",
     "iopub.status.idle": "2023-08-20T08:18:32.303874Z",
     "shell.execute_reply": "2023-08-20T08:18:32.302256Z"
    },
    "papermill": {
     "duration": 0.06193,
     "end_time": "2023-08-20T08:18:32.306148",
     "exception": false,
     "start_time": "2023-08-20T08:18:32.244218",
     "status": "completed"
    },
    "tags": []
   },
   "outputs": [
    {
     "data": {
      "text/html": [
       "<div>\n",
       "<style scoped>\n",
       "    .dataframe tbody tr th:only-of-type {\n",
       "        vertical-align: middle;\n",
       "    }\n",
       "\n",
       "    .dataframe tbody tr th {\n",
       "        vertical-align: top;\n",
       "    }\n",
       "\n",
       "    .dataframe thead th {\n",
       "        text-align: right;\n",
       "    }\n",
       "</style>\n",
       "<table border=\"1\" class=\"dataframe\">\n",
       "  <thead>\n",
       "    <tr style=\"text-align: right;\">\n",
       "      <th></th>\n",
       "      <th>PassengerId</th>\n",
       "      <th>Survived</th>\n",
       "      <th>Pclass</th>\n",
       "      <th>Name</th>\n",
       "      <th>Sex</th>\n",
       "      <th>Age</th>\n",
       "      <th>SibSp</th>\n",
       "      <th>Parch</th>\n",
       "      <th>Ticket</th>\n",
       "      <th>Fare</th>\n",
       "      <th>Cabin</th>\n",
       "      <th>Embarked</th>\n",
       "      <th>Title</th>\n",
       "      <th>Fsize</th>\n",
       "      <th>Tsize</th>\n",
       "      <th>Group</th>\n",
       "      <th>GrupSize</th>\n",
       "      <th>FareCat</th>\n",
       "      <th>AgeCat</th>\n",
       "    </tr>\n",
       "  </thead>\n",
       "  <tbody>\n",
       "    <tr>\n",
       "      <th>0</th>\n",
       "      <td>1</td>\n",
       "      <td>0</td>\n",
       "      <td>3</td>\n",
       "      <td>Braund, Mr. Owen Harris</td>\n",
       "      <td>male</td>\n",
       "      <td>22.0</td>\n",
       "      <td>1</td>\n",
       "      <td>0</td>\n",
       "      <td>A/5 21171</td>\n",
       "      <td>7.2500</td>\n",
       "      <td>NaN</td>\n",
       "      <td>S</td>\n",
       "      <td>Mr</td>\n",
       "      <td>2</td>\n",
       "      <td>1</td>\n",
       "      <td>2</td>\n",
       "      <td>couple</td>\n",
       "      <td>0-10</td>\n",
       "      <td>16-32</td>\n",
       "    </tr>\n",
       "    <tr>\n",
       "      <th>1</th>\n",
       "      <td>2</td>\n",
       "      <td>1</td>\n",
       "      <td>1</td>\n",
       "      <td>Cumings, Mrs. John Bradley (Florence Briggs Th...</td>\n",
       "      <td>female</td>\n",
       "      <td>38.0</td>\n",
       "      <td>1</td>\n",
       "      <td>0</td>\n",
       "      <td>PC 17599</td>\n",
       "      <td>71.2833</td>\n",
       "      <td>C85</td>\n",
       "      <td>C</td>\n",
       "      <td>Mrs</td>\n",
       "      <td>2</td>\n",
       "      <td>1</td>\n",
       "      <td>2</td>\n",
       "      <td>couple</td>\n",
       "      <td>70-100</td>\n",
       "      <td>32-48</td>\n",
       "    </tr>\n",
       "    <tr>\n",
       "      <th>2</th>\n",
       "      <td>3</td>\n",
       "      <td>1</td>\n",
       "      <td>3</td>\n",
       "      <td>Heikkinen, Miss. Laina</td>\n",
       "      <td>female</td>\n",
       "      <td>26.0</td>\n",
       "      <td>0</td>\n",
       "      <td>0</td>\n",
       "      <td>STON/O2. 3101282</td>\n",
       "      <td>7.9250</td>\n",
       "      <td>NaN</td>\n",
       "      <td>S</td>\n",
       "      <td>Miss</td>\n",
       "      <td>1</td>\n",
       "      <td>1</td>\n",
       "      <td>1</td>\n",
       "      <td>solo</td>\n",
       "      <td>0-10</td>\n",
       "      <td>16-32</td>\n",
       "    </tr>\n",
       "    <tr>\n",
       "      <th>3</th>\n",
       "      <td>4</td>\n",
       "      <td>1</td>\n",
       "      <td>1</td>\n",
       "      <td>Futrelle, Mrs. Jacques Heath (Lily May Peel)</td>\n",
       "      <td>female</td>\n",
       "      <td>35.0</td>\n",
       "      <td>1</td>\n",
       "      <td>0</td>\n",
       "      <td>113803</td>\n",
       "      <td>53.1000</td>\n",
       "      <td>C123</td>\n",
       "      <td>S</td>\n",
       "      <td>Mrs</td>\n",
       "      <td>2</td>\n",
       "      <td>2</td>\n",
       "      <td>2</td>\n",
       "      <td>couple</td>\n",
       "      <td>40-70</td>\n",
       "      <td>32-48</td>\n",
       "    </tr>\n",
       "    <tr>\n",
       "      <th>4</th>\n",
       "      <td>138</td>\n",
       "      <td>0</td>\n",
       "      <td>1</td>\n",
       "      <td>Futrelle, Mr. Jacques Heath</td>\n",
       "      <td>male</td>\n",
       "      <td>37.0</td>\n",
       "      <td>1</td>\n",
       "      <td>0</td>\n",
       "      <td>113803</td>\n",
       "      <td>53.1000</td>\n",
       "      <td>C123</td>\n",
       "      <td>S</td>\n",
       "      <td>Mr</td>\n",
       "      <td>2</td>\n",
       "      <td>2</td>\n",
       "      <td>2</td>\n",
       "      <td>couple</td>\n",
       "      <td>40-70</td>\n",
       "      <td>32-48</td>\n",
       "    </tr>\n",
       "  </tbody>\n",
       "</table>\n",
       "</div>"
      ],
      "text/plain": [
       "   PassengerId  Survived  Pclass  \\\n",
       "0            1         0       3   \n",
       "1            2         1       1   \n",
       "2            3         1       3   \n",
       "3            4         1       1   \n",
       "4          138         0       1   \n",
       "\n",
       "                                                Name     Sex   Age  SibSp  \\\n",
       "0                            Braund, Mr. Owen Harris    male  22.0      1   \n",
       "1  Cumings, Mrs. John Bradley (Florence Briggs Th...  female  38.0      1   \n",
       "2                             Heikkinen, Miss. Laina  female  26.0      0   \n",
       "3       Futrelle, Mrs. Jacques Heath (Lily May Peel)  female  35.0      1   \n",
       "4                        Futrelle, Mr. Jacques Heath    male  37.0      1   \n",
       "\n",
       "   Parch            Ticket     Fare Cabin Embarked Title  Fsize  Tsize  Group  \\\n",
       "0      0         A/5 21171   7.2500   NaN        S    Mr      2      1      2   \n",
       "1      0          PC 17599  71.2833   C85        C   Mrs      2      1      2   \n",
       "2      0  STON/O2. 3101282   7.9250   NaN        S  Miss      1      1      1   \n",
       "3      0            113803  53.1000  C123        S   Mrs      2      2      2   \n",
       "4      0            113803  53.1000  C123        S    Mr      2      2      2   \n",
       "\n",
       "  GrupSize FareCat AgeCat  \n",
       "0   couple    0-10  16-32  \n",
       "1   couple  70-100  32-48  \n",
       "2     solo    0-10  16-32  \n",
       "3   couple   40-70  32-48  \n",
       "4   couple   40-70  32-48  "
      ]
     },
     "execution_count": 75,
     "metadata": {},
     "output_type": "execute_result"
    }
   ],
   "source": [
    "df.head()"
   ]
  },
  {
   "cell_type": "markdown",
   "id": "557accac",
   "metadata": {
    "papermill": {
     "duration": 0.037822,
     "end_time": "2023-08-20T08:18:32.382032",
     "exception": false,
     "start_time": "2023-08-20T08:18:32.344210",
     "status": "completed"
    },
    "tags": []
   },
   "source": [
    "### 8.6.3 Dropping Cabin"
   ]
  },
  {
   "cell_type": "code",
   "execution_count": 76,
   "id": "7a59c092",
   "metadata": {
    "execution": {
     "iopub.execute_input": "2023-08-20T08:18:32.459460Z",
     "iopub.status.busy": "2023-08-20T08:18:32.459082Z",
     "iopub.status.idle": "2023-08-20T08:18:32.466553Z",
     "shell.execute_reply": "2023-08-20T08:18:32.464504Z"
    },
    "papermill": {
     "duration": 0.049106,
     "end_time": "2023-08-20T08:18:32.468895",
     "exception": false,
     "start_time": "2023-08-20T08:18:32.419789",
     "status": "completed"
    },
    "tags": []
   },
   "outputs": [],
   "source": [
    "# Extract the first letter of the 'Cabin' value to create a 'CabinType' column in DataFrame 'df'.\n",
    "df['CabinType'] = df['Cabin'].str[0]  "
   ]
  },
  {
   "cell_type": "code",
   "execution_count": 77,
   "id": "013c28a6",
   "metadata": {
    "execution": {
     "iopub.execute_input": "2023-08-20T08:18:32.545623Z",
     "iopub.status.busy": "2023-08-20T08:18:32.545253Z",
     "iopub.status.idle": "2023-08-20T08:18:32.821298Z",
     "shell.execute_reply": "2023-08-20T08:18:32.820617Z"
    },
    "papermill": {
     "duration": 0.316491,
     "end_time": "2023-08-20T08:18:32.822973",
     "exception": false,
     "start_time": "2023-08-20T08:18:32.506482",
     "status": "completed"
    },
    "tags": []
   },
   "outputs": [
    {
     "data": {
      "text/plain": [
       "<Axes: xlabel='CabinType', ylabel='count'>"
      ]
     },
     "execution_count": 77,
     "metadata": {},
     "output_type": "execute_result"
    },
    {
     "data": {
      "image/png": "[encoded data removed]",
      "text/plain": [
       "<Figure size 1500x600 with 1 Axes>"
      ]
     },
     "metadata": {},
     "output_type": "display_data"
    }
   ],
   "source": [
    "# Visualize survival counts based on cabin types in DataFrame 'df'.\n",
    "plt.figure(figsize=(15,6))  \n",
    "sns.countplot(x='CabinType', hue='Survived', data=df)  "
   ]
  },
  {
   "cell_type": "markdown",
   "id": "c0480c7b",
   "metadata": {
    "papermill": {
     "duration": 0.036535,
     "end_time": "2023-08-20T08:18:32.948337",
     "exception": false,
     "start_time": "2023-08-20T08:18:32.911802",
     "status": "completed"
    },
    "tags": []
   },
   "source": [
    "**Figure_21:**  Shows the Visualize survival counts based on cabin types."
   ]
  },
  {
   "cell_type": "code",
   "execution_count": 78,
   "id": "1fd66548",
   "metadata": {
    "execution": {
     "iopub.execute_input": "2023-08-20T08:18:33.028393Z",
     "iopub.status.busy": "2023-08-20T08:18:33.026492Z",
     "iopub.status.idle": "2023-08-20T08:18:33.036246Z",
     "shell.execute_reply": "2023-08-20T08:18:33.035438Z"
    },
    "papermill": {
     "duration": 0.050978,
     "end_time": "2023-08-20T08:18:33.038221",
     "exception": false,
     "start_time": "2023-08-20T08:18:32.987243",
     "status": "completed"
    },
    "tags": []
   },
   "outputs": [
    {
     "data": {
      "text/plain": [
       "CabinType  Pclass\n",
       "A          1         15\n",
       "B          1         47\n",
       "C          1         59\n",
       "D          1         29\n",
       "           2          4\n",
       "E          1         25\n",
       "           2          4\n",
       "           3          3\n",
       "F          2          8\n",
       "           3          5\n",
       "G          3          4\n",
       "T          1          1\n",
       "Name: Pclass, dtype: int64"
      ]
     },
     "execution_count": 78,
     "metadata": {},
     "output_type": "execute_result"
    }
   ],
   "source": [
    "# Count occurrences of each cabin type within each passenger class.\n",
    "df.groupby(['CabinType', 'Pclass'])['Pclass'].count()  "
   ]
  },
  {
   "cell_type": "code",
   "execution_count": 79,
   "id": "dd560a33",
   "metadata": {
    "execution": {
     "iopub.execute_input": "2023-08-20T08:18:33.118316Z",
     "iopub.status.busy": "2023-08-20T08:18:33.117731Z",
     "iopub.status.idle": "2023-08-20T08:18:33.123012Z",
     "shell.execute_reply": "2023-08-20T08:18:33.122328Z"
    },
    "papermill": {
     "duration": 0.048071,
     "end_time": "2023-08-20T08:18:33.125129",
     "exception": false,
     "start_time": "2023-08-20T08:18:33.077058",
     "status": "completed"
    },
    "tags": []
   },
   "outputs": [],
   "source": [
    " # Remove the 'Cabin' column from the DataFrame 'df'.\n",
    "df.drop(['Cabin', 'CabinType'], axis=1, inplace=True)"
   ]
  },
  {
   "cell_type": "code",
   "execution_count": 80,
   "id": "44f7b102",
   "metadata": {
    "execution": {
     "iopub.execute_input": "2023-08-20T08:18:33.206162Z",
     "iopub.status.busy": "2023-08-20T08:18:33.205625Z",
     "iopub.status.idle": "2023-08-20T08:18:33.214342Z",
     "shell.execute_reply": "2023-08-20T08:18:33.213356Z"
    },
    "papermill": {
     "duration": 0.051916,
     "end_time": "2023-08-20T08:18:33.216277",
     "exception": false,
     "start_time": "2023-08-20T08:18:33.164361",
     "status": "completed"
    },
    "tags": []
   },
   "outputs": [
    {
     "data": {
      "text/plain": [
       "PassengerId    0\n",
       "Survived       0\n",
       "Pclass         0\n",
       "Name           0\n",
       "Sex            0\n",
       "Age            0\n",
       "SibSp          0\n",
       "Parch          0\n",
       "Ticket         0\n",
       "Fare           0\n",
       "Embarked       0\n",
       "Title          0\n",
       "Fsize          0\n",
       "Tsize          0\n",
       "Group          0\n",
       "GrupSize       0\n",
       "FareCat        0\n",
       "AgeCat         0\n",
       "dtype: int64"
      ]
     },
     "execution_count": 80,
     "metadata": {},
     "output_type": "execute_result"
    }
   ],
   "source": [
    "#Lets Check the missing valus \n",
    "df.isnull().sum()"
   ]
  },
  {
   "cell_type": "markdown",
   "id": "2f25e3c8",
   "metadata": {
    "papermill": {
     "duration": 0.0387,
     "end_time": "2023-08-20T08:18:33.294536",
     "exception": false,
     "start_time": "2023-08-20T08:18:33.255836",
     "status": "completed"
    },
    "tags": []
   },
   "source": [
    "# 9.0. Feature Selection"
   ]
  },
  {
   "cell_type": "code",
   "execution_count": 81,
   "id": "4e72a124",
   "metadata": {
    "execution": {
     "iopub.execute_input": "2023-08-20T08:18:33.375630Z",
     "iopub.status.busy": "2023-08-20T08:18:33.375249Z",
     "iopub.status.idle": "2023-08-20T08:18:33.884236Z",
     "shell.execute_reply": "2023-08-20T08:18:33.883449Z"
    },
    "papermill": {
     "duration": 0.552949,
     "end_time": "2023-08-20T08:18:33.886531",
     "exception": false,
     "start_time": "2023-08-20T08:18:33.333582",
     "status": "completed"
    },
    "tags": []
   },
   "outputs": [
    {
     "name": "stderr",
     "output_type": "stream",
     "text": [
      "C:\\Users\\Grace\\AppData\\Local\\Temp\\ipykernel_21208\\1752253615.py:6: FutureWarning: The default value of numeric_only in DataFrame.corr is deprecated. In a future version, it will default to False. Select only valid columns or specify the value of numeric_only to silence this warning.\n",
      "  cor = df.drop('PassengerId', axis=1).corr()\n"
     ]
    },
    {
     "data": {
      "text/plain": [
       "<Axes: >"
      ]
     },
     "execution_count": 81,
     "metadata": {},
     "output_type": "execute_result"
    },
    {
     "data": {
      "image/png": "[encoded data removed]",
      "text/plain": [
       "<Figure size 1500x600 with 2 Axes>"
      ]
     },
     "metadata": {},
     "output_type": "display_data"
    }
   ],
   "source": [
    "# Create a heatmap of the correlation matrix with annotations.\n",
    "# Calculate the correlation matrix without 'PassengerId'.\n",
    " # Set the plotting context to 'poster' size.\n",
    "sns.set_context('poster') \n",
    "plt.figure(figsize=(15,6)) \n",
    "cor = df.drop('PassengerId', axis=1).corr()  \n",
    "sns.heatmap(cor, annot=True, fmt='.1g')  "
   ]
  },
  {
   "cell_type": "markdown",
   "id": "f0d644d0",
   "metadata": {
    "papermill": {
     "duration": 0.040687,
     "end_time": "2023-08-20T08:18:33.968979",
     "exception": false,
     "start_time": "2023-08-20T08:18:33.928292",
     "status": "completed"
    },
    "tags": []
   },
   "source": [
    "**Figure_22:**  Shows a heatmap of the correlation matrix with annotations of numeric valus."
   ]
  },
  {
   "cell_type": "markdown",
   "id": "99a4a4e1",
   "metadata": {
    "papermill": {
     "duration": 0.039215,
     "end_time": "2023-08-20T08:18:34.050196",
     "exception": false,
     "start_time": "2023-08-20T08:18:34.010981",
     "status": "completed"
    },
    "tags": []
   },
   "source": [
    "### Observation Set 07:\n",
    "\n",
    "The above heat map shows the corelation of different columns with eachother. A heatmap often helps to view the corelation as seen above. Looking at the above heatmap we can conclude that which attributes or columns are corelated and and can be removed to get a better shaped dataset.\n",
    "\n",
    "The following points are to be considered for dropping the columns\n",
    "\n",
    "- **'Group'** holds a corelation of 0.9 with **'Fsize'** and **'Tsize'**. So we will remove **'Group'** and **'Tsize'** because related data can be found in **'GrpSize'**.\n",
    "- **'Fsize'** still has a corelation of 0.9  with **'SibSp'** and 0.8 with **'Parch'**.So we will remove 'Fsize' because **'SibSp'** and **'Parch'** are providing the required information.\n",
    "- The **'Name'** column can also be removed because **'Title'** has been extracted.\n",
    "- Similarly **'Age'** and **'Fare'** can also be removed because **'AgeCat'** and **'FareCat'** provide the related information.\n",
    "\n",
    "So the final columns to be dropped are: 'Name','Age','Fare','Ticket','Fsize','Tsize' and 'Group'\n"
   ]
  },
  {
   "cell_type": "code",
   "execution_count": 82,
   "id": "b25936b5",
   "metadata": {
    "execution": {
     "iopub.execute_input": "2023-08-20T08:18:34.133482Z",
     "iopub.status.busy": "2023-08-20T08:18:34.132869Z",
     "iopub.status.idle": "2023-08-20T08:18:34.136837Z",
     "shell.execute_reply": "2023-08-20T08:18:34.136116Z"
    },
    "papermill": {
     "duration": 0.047861,
     "end_time": "2023-08-20T08:18:34.138952",
     "exception": false,
     "start_time": "2023-08-20T08:18:34.091091",
     "status": "completed"
    },
    "tags": []
   },
   "outputs": [],
   "source": [
    "# List of columns to be dropped from DataFrame 'df'.\n",
    "drop_features = ['Name', 'Age', 'Fare', 'Ticket', 'Fsize', 'Tsize', 'Group'] "
   ]
  },
  {
   "cell_type": "markdown",
   "id": "5dc40ff3",
   "metadata": {
    "papermill": {
     "duration": 0.04049,
     "end_time": "2023-08-20T08:18:34.221056",
     "exception": false,
     "start_time": "2023-08-20T08:18:34.180566",
     "status": "completed"
    },
    "tags": []
   },
   "source": [
    "### 9.1 Selecting Final Features"
   ]
  },
  {
   "cell_type": "code",
   "execution_count": 83,
   "id": "acab4efc",
   "metadata": {
    "execution": {
     "iopub.execute_input": "2023-08-20T08:18:34.306734Z",
     "iopub.status.busy": "2023-08-20T08:18:34.306102Z",
     "iopub.status.idle": "2023-08-20T08:18:34.311730Z",
     "shell.execute_reply": "2023-08-20T08:18:34.310372Z"
    },
    "papermill": {
     "duration": 0.04948,
     "end_time": "2023-08-20T08:18:34.314025",
     "exception": false,
     "start_time": "2023-08-20T08:18:34.264545",
     "status": "completed"
    },
    "tags": []
   },
   "outputs": [],
   "source": [
    "# Remove columns listed in 'drop_features' from DataFrame 'df'.\n",
    "df.drop(drop_features, axis=1, inplace=True)  "
   ]
  },
  {
   "cell_type": "code",
   "execution_count": 84,
   "id": "9b51c428",
   "metadata": {
    "execution": {
     "iopub.execute_input": "2023-08-20T08:18:34.416821Z",
     "iopub.status.busy": "2023-08-20T08:18:34.416067Z",
     "iopub.status.idle": "2023-08-20T08:18:34.429773Z",
     "shell.execute_reply": "2023-08-20T08:18:34.428277Z"
    },
    "papermill": {
     "duration": 0.102302,
     "end_time": "2023-08-20T08:18:34.468654",
     "exception": false,
     "start_time": "2023-08-20T08:18:34.366352",
     "status": "completed"
    },
    "tags": []
   },
   "outputs": [
    {
     "data": {
      "text/html": [
       "<div>\n",
       "<style scoped>\n",
       "    .dataframe tbody tr th:only-of-type {\n",
       "        vertical-align: middle;\n",
       "    }\n",
       "\n",
       "    .dataframe tbody tr th {\n",
       "        vertical-align: top;\n",
       "    }\n",
       "\n",
       "    .dataframe thead th {\n",
       "        text-align: right;\n",
       "    }\n",
       "</style>\n",
       "<table border=\"1\" class=\"dataframe\">\n",
       "  <thead>\n",
       "    <tr style=\"text-align: right;\">\n",
       "      <th></th>\n",
       "      <th>PassengerId</th>\n",
       "      <th>Survived</th>\n",
       "      <th>Pclass</th>\n",
       "      <th>Sex</th>\n",
       "      <th>SibSp</th>\n",
       "      <th>Parch</th>\n",
       "      <th>Embarked</th>\n",
       "      <th>Title</th>\n",
       "      <th>GrupSize</th>\n",
       "      <th>FareCat</th>\n",
       "      <th>AgeCat</th>\n",
       "    </tr>\n",
       "  </thead>\n",
       "  <tbody>\n",
       "    <tr>\n",
       "      <th>0</th>\n",
       "      <td>1</td>\n",
       "      <td>0</td>\n",
       "      <td>3</td>\n",
       "      <td>male</td>\n",
       "      <td>1</td>\n",
       "      <td>0</td>\n",
       "      <td>S</td>\n",
       "      <td>Mr</td>\n",
       "      <td>couple</td>\n",
       "      <td>0-10</td>\n",
       "      <td>16-32</td>\n",
       "    </tr>\n",
       "    <tr>\n",
       "      <th>1</th>\n",
       "      <td>2</td>\n",
       "      <td>1</td>\n",
       "      <td>1</td>\n",
       "      <td>female</td>\n",
       "      <td>1</td>\n",
       "      <td>0</td>\n",
       "      <td>C</td>\n",
       "      <td>Mrs</td>\n",
       "      <td>couple</td>\n",
       "      <td>70-100</td>\n",
       "      <td>32-48</td>\n",
       "    </tr>\n",
       "    <tr>\n",
       "      <th>2</th>\n",
       "      <td>3</td>\n",
       "      <td>1</td>\n",
       "      <td>3</td>\n",
       "      <td>female</td>\n",
       "      <td>0</td>\n",
       "      <td>0</td>\n",
       "      <td>S</td>\n",
       "      <td>Miss</td>\n",
       "      <td>solo</td>\n",
       "      <td>0-10</td>\n",
       "      <td>16-32</td>\n",
       "    </tr>\n",
       "    <tr>\n",
       "      <th>3</th>\n",
       "      <td>4</td>\n",
       "      <td>1</td>\n",
       "      <td>1</td>\n",
       "      <td>female</td>\n",
       "      <td>1</td>\n",
       "      <td>0</td>\n",
       "      <td>S</td>\n",
       "      <td>Mrs</td>\n",
       "      <td>couple</td>\n",
       "      <td>40-70</td>\n",
       "      <td>32-48</td>\n",
       "    </tr>\n",
       "    <tr>\n",
       "      <th>4</th>\n",
       "      <td>138</td>\n",
       "      <td>0</td>\n",
       "      <td>1</td>\n",
       "      <td>male</td>\n",
       "      <td>1</td>\n",
       "      <td>0</td>\n",
       "      <td>S</td>\n",
       "      <td>Mr</td>\n",
       "      <td>couple</td>\n",
       "      <td>40-70</td>\n",
       "      <td>32-48</td>\n",
       "    </tr>\n",
       "  </tbody>\n",
       "</table>\n",
       "</div>"
      ],
      "text/plain": [
       "   PassengerId  Survived  Pclass     Sex  SibSp  Parch Embarked Title  \\\n",
       "0            1         0       3    male      1      0        S    Mr   \n",
       "1            2         1       1  female      1      0        C   Mrs   \n",
       "2            3         1       3  female      0      0        S  Miss   \n",
       "3            4         1       1  female      1      0        S   Mrs   \n",
       "4          138         0       1    male      1      0        S    Mr   \n",
       "\n",
       "  GrupSize FareCat AgeCat  \n",
       "0   couple    0-10  16-32  \n",
       "1   couple  70-100  32-48  \n",
       "2     solo    0-10  16-32  \n",
       "3   couple   40-70  32-48  \n",
       "4   couple   40-70  32-48  "
      ]
     },
     "execution_count": 84,
     "metadata": {},
     "output_type": "execute_result"
    }
   ],
   "source": [
    "df.head()"
   ]
  },
  {
   "cell_type": "markdown",
   "id": "49bee667",
   "metadata": {
    "papermill": {
     "duration": 0.040784,
     "end_time": "2023-08-20T08:18:34.553403",
     "exception": false,
     "start_time": "2023-08-20T08:18:34.512619",
     "status": "completed"
    },
    "tags": []
   },
   "source": [
    "### 9.2 Exporting final dataset in csv file"
   ]
  },
  {
   "cell_type": "code",
   "execution_count": 85,
   "id": "303cf0ee",
   "metadata": {
    "execution": {
     "iopub.execute_input": "2023-08-20T08:18:34.637256Z",
     "iopub.status.busy": "2023-08-20T08:18:34.636674Z",
     "iopub.status.idle": "2023-08-20T08:18:34.646315Z",
     "shell.execute_reply": "2023-08-20T08:18:34.645338Z"
    },
    "papermill": {
     "duration": 0.054617,
     "end_time": "2023-08-20T08:18:34.648526",
     "exception": false,
     "start_time": "2023-08-20T08:18:34.593909",
     "status": "completed"
    },
    "tags": []
   },
   "outputs": [],
   "source": [
    "# Save the cleaned DataFrame 'df' to a CSV file named 'titanic_clean.csv'.\n",
    "df.to_csv('titanic_clean.csv',index=False)"
   ]
  },
  {
   "cell_type": "markdown",
   "id": "2a5615c8",
   "metadata": {
    "papermill": {
     "duration": 0.04065,
     "end_time": "2023-08-20T08:18:34.730597",
     "exception": false,
     "start_time": "2023-08-20T08:18:34.689947",
     "status": "completed"
    },
    "tags": []
   },
   "source": [
    "__________________________________________________"
   ]
  },
  {
   "cell_type": "markdown",
   "id": "c4603275",
   "metadata": {
    "papermill": {
     "duration": 0.040941,
     "end_time": "2023-08-20T08:18:34.813353",
     "exception": false,
     "start_time": "2023-08-20T08:18:34.772412",
     "status": "completed"
    },
    "tags": []
   },
   "source": [
    "# 10.0 Summary\n",
    "\n",
    "Here's a summary of the tasks and operations performed on the Titanic dataset without including the actual code:\n",
    "\n",
    "Handling Missing Values:\n",
    "\n",
    "* Filled missing 'Age' values with median ages based on 'Title' and 'Pclass'.\n",
    "* Filled missing 'Embarked' values with the most common embarkation point ('S').\n",
    "\n",
    "Feature Engineering:\n",
    "\n",
    "* Created 'Fsize' by combining the number of siblings, spouses ('SibSp'), and parents, children ('Parch').\n",
    "* Created 'Tsize' by counting the occurrences of each ticket.\n",
    "* Created 'Group' based on the larger value between 'Tsize' and 'Fsize'.\n",
    "* Categorized ages into 'AgeCat' based on predefined ranges.\n",
    "* Extracted 'CabinType' from the first letter of the 'Cabin' value.\n",
    "\n",
    "Data Visualization:\n",
    "\n",
    "* Visualized survival counts based on titles using a bar plot.\n",
    "* Created a grid of box plots to showcase age distributions across titles and passenger classes.\n",
    "* Visualized survival counts based on grouped sizes using a count plot.\n",
    "* Displayed Kernel Density Estimate (KDE) plots to compare age distributions of survivors and non-survivors.\n",
    "* Displayed survival counts based on age categories and cabin types using count plots.\n",
    "* Data Cleaning and Export:\n",
    "\n",
    "Feature Selection:\n",
    "\n",
    "* Removed irrelevant or redundant columns ('Name', 'Age', 'Fare', 'Ticket', 'Fsize', 'Tsize', 'Group').\n",
    "* Exported the cleaned DataFrame to a CSV file named 'titanic_clean.csv'.\n",
    "* These tasks collectively aimed to preprocess and analyze the Titanic dataset, ensuring it's in a suitable format for further analysis and modeling."
   ]
  },
  {
   "cell_type": "markdown",
   "id": "24946682",
   "metadata": {
    "papermill": {
     "duration": 0.041185,
     "end_time": "2023-08-20T08:18:34.895538",
     "exception": false,
     "start_time": "2023-08-20T08:18:34.854353",
     "status": "completed"
    },
    "tags": []
   },
   "source": [
    "---------------------------------------------"
   ]
  },
  {
   "cell_type": "markdown",
   "id": "a7369db1",
   "metadata": {
    "papermill": {
     "duration": 0.041327,
     "end_time": "2023-08-20T08:18:34.978119",
     "exception": false,
     "start_time": "2023-08-20T08:18:34.936792",
     "status": "completed"
    },
    "tags": []
   },
   "source": [
    "# Conclusion\n",
    "\n",
    "Here's a conclusion summarizing the various tasks performed on the Titanic dataset:\n",
    "\n",
    "* Handled missing values effectively by imputing 'Age' based on 'Title' and 'Pclass', and 'Embarked' with the most frequent value.\n",
    "* Conducted feature engineering to create meaningful attributes like 'Fsize', 'Tsize', 'Group', 'AgeCat', and 'CabinType', Improving the dataset.\n",
    "* Employed data visualization techniques to understand survival trends and distributions across titles, ages, grouped sizes, and cabin types.\n",
    "* Removed the columns for enhanced data clarity and efficiency.\n",
    "* Successfully prepared the cleaned dataset for further analysis and modeling through exporting as 'titanic_clean.csv'."
   ]
  },
  {
   "cell_type": "markdown",
   "id": "7519d95e",
   "metadata": {
    "papermill": {
     "duration": 0.041728,
     "end_time": "2023-08-20T08:18:35.061355",
     "exception": false,
     "start_time": "2023-08-20T08:18:35.019627",
     "status": "completed"
    },
    "tags": []
   },
   "source": [
    "# Contact Details\n",
    "\n",
    "Click on link below to contact/follow/correct me:\n",
    "\n",
    "[Email](harooni0016@gmail.com)\n",
    "<br>[Github](https://github.com/harooni016)\n",
    "<br>[Linkden](https://www.linkedin.com/in/haroon-sajid)\n",
    "<br>[X_Twitter](https://twitter.com/)"
   ]
  }
 ],
 "metadata": {
  "kernelspec": {
   "display_name": "Python 3 (ipykernel)",
   "language": "python",
   "name": "python3"
  },
  "language_info": {
   "codemirror_mode": {
    "name": "ipython",
    "version": 3
   },
   "file_extension": ".py",
   "mimetype": "text/x-python",
   "name": "python",
   "nbconvert_exporter": "python",
   "pygments_lexer": "ipython3",
   "version": "3.10.9"
  },
  "papermill": {
   "default_parameters": {},
   "duration": 31.001895,
   "end_time": "2023-08-20T08:18:36.227685",
   "environment_variables": {},
   "exception": null,
   "input_path": "__notebook__.ipynb",
   "output_path": "__notebook__.ipynb",
   "parameters": {},
   "start_time": "2023-08-20T08:18:05.225790",
   "version": "2.4.0"
  }
 },
 "nbformat": 4,
 "nbformat_minor": 5
}
